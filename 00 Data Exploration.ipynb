{
 "cells": [
  {
   "cell_type": "code",
   "execution_count": 1,
   "metadata": {},
   "outputs": [],
   "source": [
    "import pandas as pd\n",
    "import numpy as np\n",
    "import matplotlib.pyplot as plt\n",
    "%matplotlib widget"
   ]
  },
  {
   "cell_type": "code",
   "execution_count": 3,
   "metadata": {},
   "outputs": [],
   "source": [
    "scada_data = pd.read_csv(\"C:\\\\Users\\\\hanna\\\\Desktop\\\\data\\\\ScadaData.txt\", delimiter='\\t',  parse_dates=True)\n",
    "#oem_ids = pd.read_csv(\"C:\\\\Users\\\\hanna\\\\Desktop\\\\SMART data pack\\\\OEMIDs.txt\", delimiter='\\t',  parse_dates=True)\n",
    "#stopping_alarms = pd.read_csv(\"C:\\\\Users\\\\hanna\\\\Desktop\\\\SMART data pack\\\\StoppingAlarms.txt\", delimiter='\\t',  parse_dates=True, encoding='ANSI')\n",
    "scada_data['dtTimeStamp'] = pd.to_datetime(scada_data['dtTimeStamp'])"
   ]
  },
  {
   "cell_type": "code",
   "execution_count": 12,
   "metadata": {},
   "outputs": [],
   "source": [
    "def plot_column_per_id(column):\n",
    "    plt.ion()\n",
    "    unique_ids = scada_data['intObjectId'].unique() # change number of subplots\n",
    "    fig, ax = plt.subplots()\n",
    "    for i in unique_ids:\n",
    "        filtered_df = scada_data[scada_data['intObjectId'] == i]\n",
    "        x = filtered_df['dtTimeStamp'].tolist()\n",
    "        y = filtered_df[column].tolist()\n",
    "        ln, = ax.plot(x, y, label = str(i))\n",
    "\n",
    "    plt.xlabel('Datetime')\n",
    "    plt.ylabel(column)\n",
    "    plt.title(column + ' per OEM id')   \n",
    "    plt.legend()\n",
    "    plt.show()\n",
    "    plt.ion()"
   ]
  },
  {
   "cell_type": "code",
   "execution_count": 48,
   "metadata": {},
   "outputs": [
    {
     "name": "stdout",
     "output_type": "stream",
     "text": [
      "date range:\n",
      "2019-08-01 00:00:00 to 2019-10-01 00:00:00\n"
     ]
    }
   ],
   "source": [
    "scada_data.columns\n",
    "\n",
    "print(\"date range:\")\n",
    "print(str(scada_data[\"dtTimeStamp\"].min()) + \" to \" + str(scada_data[\"dtTimeStamp\"].max()))"
   ]
  },
  {
   "cell_type": "code",
   "execution_count": 14,
   "metadata": {},
   "outputs": [
    {
     "data": {
      "application/vnd.jupyter.widget-view+json": {
       "model_id": "ce5e97089a944ab39228c65309a7b086",
       "version_major": 2,
       "version_minor": 0
      },
      "text/plain": [
       "Canvas(toolbar=Toolbar(toolitems=[('Home', 'Reset original view', 'home', 'home'), ('Back', 'Back to previous …"
      ]
     },
     "metadata": {},
     "output_type": "display_data"
    }
   ],
   "source": [
    "plot_column_per_id(column='WindSpeedMean')    "
   ]
  },
  {
   "cell_type": "markdown",
   "metadata": {},
   "source": [
    "## Stationarity\n",
    "[source](https://towardsdatascience.com/stationarity-in-time-series-analysis-90c94f27322)\n",
    "\n",
    "In the most intuitive sense, stationarity means that the statistical properties of a process generating a time series do not change over time. It does not mean that the series does not change over time, just that the way it changes does not itself change over time. Such processes should be possible to predict, as the way they change is predictable.\n",
    "\n",
    "### Autocorrelation Function (ACF)\n",
    "The Autocorrelation function is one of the widest used tools in timeseries analysis. It is used to determine stationarity and seasonality."
   ]
  },
  {
   "cell_type": "code",
   "execution_count": 18,
   "metadata": {},
   "outputs": [],
   "source": [
    "single_sensor_windspeed = scada_data[scada_data['intObjectId'] == 1748][\"WindSpeedMean\"]"
   ]
  },
  {
   "cell_type": "code",
   "execution_count": 17,
   "metadata": {},
   "outputs": [
    {
     "name": "stdout",
     "output_type": "stream",
     "text": [
      "0.961765053420322\n"
     ]
    }
   ],
   "source": [
    "print(single_sensor_windspeed.autocorr())"
   ]
  },
  {
   "cell_type": "markdown",
   "metadata": {},
   "source": [
    "### Correlogram \n",
    "A plot of autocorrelation at lag *t* against lag *t*"
   ]
  },
  {
   "cell_type": "code",
   "execution_count": 38,
   "metadata": {},
   "outputs": [],
   "source": [
    "lag_range = range(0,30)\n",
    "autocorr_dict = {}\n",
    "for lag in lag_range:\n",
    "    autocorr_dict[lag] = [single_sensor_windspeed.autocorr(lag)]\n",
    "autocorr_df = pd.DataFrame.from_dict(autocorr_dict, orient='index')"
   ]
  },
  {
   "cell_type": "markdown",
   "metadata": {},
   "source": [
    "Notice that the ACF plot decreases in an almost linear fashion as the lags increase. This is indication of a trend."
   ]
  },
  {
   "cell_type": "code",
   "execution_count": 40,
   "metadata": {},
   "outputs": [
    {
     "data": {
      "application/vnd.jupyter.widget-view+json": {
       "model_id": "272cec25f27145b5978e4894e82b7bc0",
       "version_major": 2,
       "version_minor": 0
      },
      "text/plain": [
       "Canvas(toolbar=Toolbar(toolitems=[('Home', 'Reset original view', 'home', 'home'), ('Back', 'Back to previous …"
      ]
     },
     "metadata": {},
     "output_type": "display_data"
    },
    {
     "data": {
      "text/plain": [
       "Text(0, 0.5, 'ACF(lag=t)')"
      ]
     },
     "execution_count": 40,
     "metadata": {},
     "output_type": "execute_result"
    }
   ],
   "source": [
    "autocorr_df.plot(kind='bar')\n",
    "plt.title(\"Wind Speed Mean at sensor 1748 correlogram\")\n",
    "plt.xlabel(\"Lag t\")\n",
    "plt.ylabel(\"ACF(lag=t)\")"
   ]
  },
  {
   "cell_type": "code",
   "execution_count": null,
   "metadata": {},
   "outputs": [],
   "source": []
  }
 ],
 "metadata": {
  "kernelspec": {
   "display_name": "Python 3",
   "language": "python",
   "name": "python3"
  },
  "language_info": {
   "codemirror_mode": {
    "name": "ipython",
    "version": 3
   },
   "file_extension": ".py",
   "mimetype": "text/x-python",
   "name": "python",
   "nbconvert_exporter": "python",
   "pygments_lexer": "ipython3",
   "version": "3.8.5"
  }
 },
 "nbformat": 4,
 "nbformat_minor": 4
}
