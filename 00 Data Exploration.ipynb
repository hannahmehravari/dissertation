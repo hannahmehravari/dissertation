{
 "cells": [
  {
   "cell_type": "code",
   "execution_count": 1,
   "metadata": {},
   "outputs": [],
   "source": [
    "import pandas as pd\n",
    "import numpy as np\n",
    "import matplotlib.pyplot as plt\n",
    "%matplotlib widget"
   ]
  },
  {
   "cell_type": "code",
   "execution_count": 2,
   "metadata": {},
   "outputs": [],
   "source": [
    "scada_data = pd.read_csv(\"C:\\\\Users\\\\hanna\\\\Desktop\\\\data\\\\ScadaData.txt\", delimiter='\\t',  parse_dates=True)\n",
    "#oem_ids = pd.read_csv(\"C:\\\\Users\\\\hanna\\\\Desktop\\\\SMART data pack\\\\OEMIDs.txt\", delimiter='\\t',  parse_dates=True)\n",
    "#stopping_alarms = pd.read_csv(\"C:\\\\Users\\\\hanna\\\\Desktop\\\\SMART data pack\\\\StoppingAlarms.txt\", delimiter='\\t',  parse_dates=True, encoding='ANSI')\n",
    "scada_data['dtTimeStamp'] = pd.to_datetime(scada_data['dtTimeStamp'])"
   ]
  },
  {
   "cell_type": "code",
   "execution_count": 3,
   "metadata": {},
   "outputs": [],
   "source": [
    "def plot_column_per_id(column):\n",
    "    plt.ion()\n",
    "    unique_ids = scada_data['intObjectId'].unique() # change number of subplots\n",
    "    fig, ax = plt.subplots()\n",
    "    for i in unique_ids:\n",
    "        filtered_df = scada_data[scada_data['intObjectId'] == i]\n",
    "        x = filtered_df['dtTimeStamp'].tolist()\n",
    "        y = filtered_df[column].tolist()\n",
    "        ln, = ax.plot(x, y, label = str(i))\n",
    "\n",
    "    plt.xlabel('Datetime')\n",
    "    plt.ylabel(column)\n",
    "    plt.title(column + ' per OEM id')   \n",
    "    plt.legend()\n",
    "    plt.show()\n",
    "    plt.ion()"
   ]
  },
  {
   "cell_type": "code",
   "execution_count": 5,
   "metadata": {},
   "outputs": [
    {
     "name": "stdout",
     "output_type": "stream",
     "text": [
      "Index(['intObjectId', 'dtTimeStamp', 'ActivePowerMean', 'WindDirectionMean',\n",
      "       'WindSpeedMean'],\n",
      "      dtype='object')\n",
      "date range:\n",
      "2019-08-01 00:00:00 to 2019-10-01 00:00:00\n"
     ]
    }
   ],
   "source": [
    "print(scada_data.columns)\n",
    "\n",
    "print(\"date range:\")\n",
    "print(str(scada_data[\"dtTimeStamp\"].min()) + \" to \" + str(scada_data[\"dtTimeStamp\"].max()))"
   ]
  },
  {
   "cell_type": "code",
   "execution_count": 7,
   "metadata": {},
   "outputs": [
    {
     "data": {
      "application/vnd.jupyter.widget-view+json": {
       "model_id": "8fe698b72d834a55a0ae9eaacfda87ad",
       "version_major": 2,
       "version_minor": 0
      },
      "text/plain": [
       "Canvas(toolbar=Toolbar(toolitems=[('Home', 'Reset original view', 'home', 'home'), ('Back', 'Back to previous …"
      ]
     },
     "metadata": {},
     "output_type": "display_data"
    }
   ],
   "source": [
    "plot_column_per_id('WindSpeedMean')"
   ]
  },
  {
   "cell_type": "code",
   "execution_count": null,
   "metadata": {},
   "outputs": [],
   "source": []
  }
 ],
 "metadata": {
  "kernelspec": {
   "display_name": "Python 3",
   "language": "python",
   "name": "python3"
  },
  "language_info": {
   "codemirror_mode": {
    "name": "ipython",
    "version": 3
   },
   "file_extension": ".py",
   "mimetype": "text/x-python",
   "name": "python",
   "nbconvert_exporter": "python",
   "pygments_lexer": "ipython3",
   "version": "3.8.5"
  }
 },
 "nbformat": 4,
 "nbformat_minor": 4
}
