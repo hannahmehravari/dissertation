{
 "cells": [
  {
   "cell_type": "code",
   "execution_count": 1,
   "metadata": {
    "colab": {
     "base_uri": "https://localhost:8080/"
    },
    "gather": {
     "logged": 1607015653134
    },
    "id": "YK7CTTrB9X-U",
    "outputId": "3a8c3cdc-098e-49d2-a869-3dbbdd4e2397"
   },
   "outputs": [],
   "source": [
    "import numpy as np\n",
    "import pandas as pd\n",
    "import math\n",
    "\n",
    "import statsmodels.api as sm\n",
    "import statsmodels.tsa.api as smt\n",
    "import statsmodels.formula.api as smf\n",
    "from statsmodels.tsa.stattools import adfuller\n",
    "from sklearn.metrics import mean_squared_error\n",
    "\n",
    "import matplotlib.pyplot as plt\n",
    "%matplotlib widget\n",
    "import itertools\n",
    "import warnings\n",
    "warnings.filterwarnings('ignore')"
   ]
  },
  {
   "cell_type": "markdown",
   "metadata": {},
   "source": [
    "### Aggregated Mean Wind Speed Time Series\n",
    "Every sample is the average wind speed across all turbines"
   ]
  },
  {
   "cell_type": "code",
   "execution_count": 2,
   "metadata": {
    "colab": {
     "base_uri": "https://localhost:8080/"
    },
    "gather": {
     "logged": 1607015656702
    },
    "id": "Cl0VFU3m9X-V",
    "outputId": "1aadd526-70c8-4d24-cccd-3359bd7b37bc"
   },
   "outputs": [
    {
     "name": "stdout",
     "output_type": "stream",
     "text": [
      "Number of turbines: 27\n",
      "                     WindSpeedMean\n",
      "dtTimeStamp                       \n",
      "2019-08-01 00:00:00       2.677778\n",
      "2019-08-01 00:10:00       2.914815\n",
      "2019-08-01 00:20:00       3.700000\n",
      "2019-08-01 00:30:00       4.488889\n",
      "2019-08-01 00:40:00       4.977778\n"
     ]
    }
   ],
   "source": [
    "colab_path = 'ScadaData.txt'\n",
    "local_path = 'C:\\\\Users\\\\hanna\\\\Desktop\\\\data\\\\ScadaData.txt'\n",
    "\n",
    "scada_data = pd.read_csv(local_path, delimiter='\\t',  parse_dates=True)\n",
    "scada_data['dtTimeStamp'] = pd.to_datetime(scada_data['dtTimeStamp'])\n",
    "average_mean_wind_speeds = scada_data[['dtTimeStamp','WindSpeedMean', 'intObjectId']].groupby('dtTimeStamp').mean()[['WindSpeedMean']]\n",
    "\n",
    "print(\"Number of turbines: \" + str(len(scada_data['intObjectId'].unique())))\n",
    "print(average_mean_wind_speeds.head(5))"
   ]
  },
  {
   "cell_type": "markdown",
   "metadata": {},
   "source": [
    "### Raw Data Plot"
   ]
  },
  {
   "cell_type": "code",
   "execution_count": 3,
   "metadata": {
    "gather": {
     "logged": 1607015667785
    },
    "jupyter": {
     "outputs_hidden": false,
     "source_hidden": false
    },
    "nteract": {
     "transient": {
      "deleting": false
     }
    },
    "scrolled": true
   },
   "outputs": [
    {
     "data": {
      "application/vnd.jupyter.widget-view+json": {
       "model_id": "8c001584f0ac4ae6ab56accfa7284778",
       "version_major": 2,
       "version_minor": 0
      },
      "text/plain": [
       "Canvas(toolbar=Toolbar(toolitems=[('Home', 'Reset original view', 'home', 'home'), ('Back', 'Back to previous …"
      ]
     },
     "metadata": {},
     "output_type": "display_data"
    },
    {
     "data": {
      "text/plain": [
       "Text(0.5, 1.0, 'Seasonal Component')"
      ]
     },
     "execution_count": 3,
     "metadata": {},
     "output_type": "execute_result"
    }
   ],
   "source": [
    "plt.figure(figsize=(20,5))\n",
    "plt.plot(average_mean_wind_speeds[\"WindSpeedMean\"], color='blue', label='seasonal')\n",
    "plt.legend(loc='best')\n",
    "plt.title('Seasonal Component')"
   ]
  },
  {
   "cell_type": "markdown",
   "metadata": {},
   "source": [
    "### Forecasting 1 time step\n",
    "Forecasting the 10 minutes and then retraining with the real value for the forecast and repeating"
   ]
  },
  {
   "cell_type": "code",
   "execution_count": null,
   "metadata": {
    "gather": {
     "logged": 1607016945110
    },
    "jupyter": {
     "outputs_hidden": false,
     "source_hidden": false
    },
    "nteract": {
     "transient": {
      "deleting": false
     }
    }
   },
   "outputs": [],
   "source": [
    "from statsmodels.tsa.arima_model import ARIMA\n",
    "import datetime as dt\n",
    "\n",
    "X = average_mean_wind_speeds[0:2000]\n",
    "size = int(len(X) * 0.04)\n",
    "train, test = X[0:size], X[size:len(X)]\n",
    "history = train\n",
    "predictions = pd.DataFrame(index=test.index, columns=['prediction'])\n",
    "times = []\n",
    "for i, row in test.iterrows():\n",
    "    start = dt.datetime.now()\n",
    "    model = ARIMA(history, order=(1,1,0))\n",
    "    model_fit = model.fit(disp=0)\n",
    "    output = model_fit.forecast()\n",
    "    yhat = output[0].flatten()[0]\n",
    "    predictions.loc[i]['prediction'] = yhat\n",
    "    history.loc[i] = row['WindSpeedMean']\n",
    "    end = dt.datetime.now()\n",
    "    times.append(end-start)\n",
    "    #print('predicted=%f, expected=%f' % (predictions.loc[i]['prediction'], row['WindSpeedMean']))\n",
    "\n",
    "print('done')\n",
    "print((sum(times, dt.timedelta()) / len(times)))"
   ]
  },
  {
   "cell_type": "code",
   "execution_count": null,
   "metadata": {
    "gather": {
     "logged": 1607017301414
    },
    "jupyter": {
     "outputs_hidden": false,
     "source_hidden": false
    },
    "nteract": {
     "transient": {
      "deleting": false
     }
    }
   },
   "outputs": [],
   "source": [
    "plt.figure(figsize=(20,5))\n",
    "plt.plot(history, color='blue', label='real')\n",
    "plt.plot(predictions, color='red', label='prediction')\n",
    "plt.legend(loc='best')\n",
    "plt.title('Real vs Predictions')"
   ]
  },
  {
   "cell_type": "code",
   "execution_count": null,
   "metadata": {
    "gather": {
     "logged": 1607017305207
    },
    "jupyter": {
     "outputs_hidden": false,
     "source_hidden": false
    },
    "nteract": {
     "transient": {
      "deleting": false
     }
    }
   },
   "outputs": [],
   "source": [
    "combined_df = pd.concat([history,predictions], axis=1).dropna()\n",
    "print(combined_df)"
   ]
  },
  {
   "cell_type": "code",
   "execution_count": null,
   "metadata": {
    "jupyter": {
     "outputs_hidden": false,
     "source_hidden": false
    },
    "nteract": {
     "transient": {
      "deleting": false
     }
    }
   },
   "outputs": [],
   "source": [
    "import random\n",
    "import numpy\n",
    "from matplotlib import pyplot\n",
    "\n",
    "plt.hist([combined_df['WindSpeedMean'], combined_df['prediction']], bins=list(range(0,15)), label=['Real', 'Prediction'])\n",
    "plt.legend(loc='upper right')\n",
    "plt.show()"
   ]
  },
  {
   "cell_type": "code",
   "execution_count": null,
   "metadata": {},
   "outputs": [],
   "source": [
    "from sklearn.metrics import mean_squared_error\n",
    "error = mean_squared_error(combined_df['WindSpeedMean'], combined_df['prediction'])\n",
    "print('Test MSE: %.3f' % error)"
   ]
  },
  {
   "cell_type": "markdown",
   "metadata": {},
   "source": [
    "### Forecasting 1 hour"
   ]
  },
  {
   "cell_type": "code",
   "execution_count": null,
   "metadata": {},
   "outputs": [],
   "source": [
    "from statsmodels.tsa.arima_model import ARIMA\n",
    "import datetime as dt\n",
    "\n",
    "\n",
    "n_step = 6\n",
    "X = average_mean_wind_speeds[0:2000]\n",
    "size = int(len(X) * 0.04)\n",
    "train, test = X[0:size], X[size:len(X)]\n",
    "history = [x for x in train.values]\n",
    "predictions = list()\n",
    "times = []\n",
    "test_indices = [i for i in range(0, len(test.values)) if i%n_step==0]\n",
    "for i in test_indices:\n",
    "    start = dt.datetime.now()\n",
    "    model = ARIMA(history, order=(1,1,0))\n",
    "    model_fit = model.fit(disp=0)\n",
    "    output = model_fit.forecast(n_step)\n",
    "    yhat = output[0].flatten()\n",
    "    predictions.extend(yhat)\n",
    "    history.extend(test.values[i:i+n_step])\n",
    "    end = dt.datetime.now()\n",
    "    times.append(end-start)\n",
    "    #print('predicted=%f, expected=%f' % (predictions.loc[i]['prediction'], row['WindSpeedMean']))\n",
    "\n",
    "print('done')\n",
    "print((sum(times, dt.timedelta()) / len(times)))\n"
   ]
  },
  {
   "cell_type": "code",
   "execution_count": null,
   "metadata": {},
   "outputs": [],
   "source": [
    "print(len(predictions))\n",
    "\n",
    "predictions_df = pd.DataFrame(index=test.index, columns=['Predictions'])\n",
    "predictions_df['Predictions'] = predictions\n",
    "\n",
    "# print('done')\n",
    "\n",
    "plt.figure(figsize=(20,5))\n",
    "plt.plot(X, color='blue', label='real')\n",
    "plt.plot(predictions_df, color='red', label='prediction')\n",
    "plt.legend(loc='best')\n",
    "plt.title('Real vs Predictions')"
   ]
  },
  {
   "cell_type": "code",
   "execution_count": null,
   "metadata": {},
   "outputs": [],
   "source": [
    "import random\n",
    "import numpy\n",
    "from matplotlib import pyplot\n",
    "\n",
    "combined_df = pd.concat([X,predictions_df], axis=1).dropna()\n",
    "print(combined_df)\n",
    "\n",
    "plt.hist([combined_df['WindSpeedMean'], combined_df['Predictions']], bins=list(range(0,15)), label=['Real', 'Prediction'])\n",
    "plt.legend(loc='upper right')\n",
    "plt.show()"
   ]
  },
  {
   "cell_type": "code",
   "execution_count": null,
   "metadata": {},
   "outputs": [],
   "source": [
    "from sklearn.metrics import mean_squared_error\n",
    "error = mean_squared_error(combined_df['WindSpeedMean'], combined_df['Predictions'])\n",
    "print('Test MSE: %.3f' % error)"
   ]
  },
  {
   "cell_type": "code",
   "execution_count": null,
   "metadata": {},
   "outputs": [],
   "source": []
  }
 ],
 "metadata": {
  "colab": {
   "name": "04 Wind Speed Mean + Average Time Series + ARIMA.ipynb",
   "provenance": [],
   "toc_visible": true
  },
  "kernel_info": {
   "name": "python3-azureml"
  },
  "kernelspec": {
   "display_name": "Python 3",
   "language": "python",
   "name": "python3"
  },
  "language_info": {
   "codemirror_mode": {
    "name": "ipython",
    "version": 3
   },
   "file_extension": ".py",
   "mimetype": "text/x-python",
   "name": "python",
   "nbconvert_exporter": "python",
   "pygments_lexer": "ipython3",
   "version": "3.8.5"
  },
  "nteract": {
   "version": "nteract-front-end@1.0.0"
  }
 },
 "nbformat": 4,
 "nbformat_minor": 1
}
