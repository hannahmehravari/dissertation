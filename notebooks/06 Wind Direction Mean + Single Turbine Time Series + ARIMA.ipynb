{
 "cells": [
  {
   "cell_type": "code",
   "execution_count": 69,
   "metadata": {},
   "outputs": [],
   "source": [
    "import numpy as np\n",
    "import pandas as pd\n",
    "import warnings\n",
    "warnings.filterwarnings('ignore')"
   ]
  },
  {
   "cell_type": "code",
   "execution_count": 70,
   "metadata": {},
   "outputs": [
    {
     "name": "stdout",
     "output_type": "stream",
     "text": [
      "[1748 1749 1750 1751]\n",
      "Number of turbines: 4\n"
     ]
    }
   ],
   "source": [
    "colab_path = 'ScadaData.txt'\n",
    "local_path = 'C:\\\\Users\\\\hanna\\\\Desktop\\\\data\\\\ScadaData.txt'\n",
    "\n",
    "scada_data = pd.read_csv(local_path, delimiter='\\t',  parse_dates=True)\n",
    "scada_data['dtTimeStamp'] = pd.to_datetime(scada_data['dtTimeStamp'])\n",
    "\n",
    "turbine_names = scada_data['intObjectId'].unique()[0:4]\n",
    "print(turbine_names)\n",
    "print(\"Number of turbines: \" + str(len(turbine_names)))"
   ]
  },
  {
   "cell_type": "code",
   "execution_count": 71,
   "metadata": {},
   "outputs": [
    {
     "name": "stdout",
     "output_type": "stream",
     "text": [
      "       WindDirectionMean    intObjectId\n",
      "count      235816.000000  237195.000000\n",
      "mean          185.336724    1761.148148\n",
      "std           105.440429       8.040211\n",
      "min             0.000000    1748.000000\n",
      "25%            83.500000    1754.000000\n",
      "50%           199.100000    1761.000000\n",
      "75%           272.900000    1768.000000\n",
      "max           359.000000    1776.000000\n"
     ]
    }
   ],
   "source": [
    "import matplotlib.pyplot as plt\n",
    "import datetime as dt\n",
    "%matplotlib inline\n",
    "\n",
    "now = dt.datetime.now()\n",
    "wind_direction_data = scada_data[['dtTimeStamp','WindDirectionMean', 'intObjectId']]\n",
    "wind_direction_data['dtTimeStamp'] = pd.to_datetime(scada_data['dtTimeStamp'])\n",
    "wind_direction_data.index=wind_direction_data['dtTimeStamp']\n",
    "print(wind_direction_data.describe())\n",
    "\n",
    "# plt.figure(figsize=(20,5))\n",
    "# for turbine in turbine_names:\n",
    "#     plt.plot(wind_direction_data[wind_direction_data['intObjectId'] == turbine][\"WindDirectionMean\"], label=turbine)\n",
    "# plt.legend(loc='best')\n",
    "# plt.title('Raw Data')\n",
    "\n",
    "# plt.plot(wind_direction_data[wind_direction_data['intObjectId'] == 1770][\"WindDirectionMean\"], label=turbine)\n",
    "\n"
   ]
  },
  {
   "cell_type": "code",
   "execution_count": 72,
   "metadata": {},
   "outputs": [
    {
     "name": "stdout",
     "output_type": "stream",
     "text": [
      "starting turbine: 1748\n",
      "finished turbine: 1748\n",
      "starting turbine: 1749\n",
      "finished turbine: 1749\n",
      "starting turbine: 1750\n",
      "finished turbine: 1750\n",
      "starting turbine: 1751\n",
      "finished turbine: 1751\n",
      "                           1748        1749        1750        1751\n",
      "dtTimeStamp                                                        \n",
      "2019-08-01 03:20:00   79.815823   71.791567   94.828070   82.448571\n",
      "2019-08-01 03:30:00   82.353939   73.211785  100.630836   85.968380\n",
      "2019-08-01 03:40:00   81.649696   75.739335  102.562786   88.555278\n",
      "2019-08-01 03:50:00   79.395588   74.591889   99.037503   86.260820\n",
      "2019-08-01 04:00:00   79.299663   72.198514   96.183301   83.781151\n",
      "...                         ...         ...         ...         ...\n",
      "2019-08-04 10:30:00  184.563532  236.751991  248.660881  258.744404\n",
      "2019-08-04 10:40:00  174.459101  169.559431  261.370603  261.438919\n",
      "2019-08-04 10:50:00  160.812311  151.241868  213.070973  232.323796\n",
      "2019-08-04 11:00:00  168.814517  156.650200  190.028835  180.852684\n",
      "2019-08-04 11:10:00  191.821979  169.813550  184.008062  171.007151\n",
      "\n",
      "[480 rows x 4 columns]\n"
     ]
    }
   ],
   "source": [
    "from statsmodels.tsa.arima_model import ARIMA\n",
    "import datetime as dt\n",
    "\n",
    "def forecast_wind_direction(data, n_steps, train_test_split, samples_count):\n",
    "    n_step = n_steps\n",
    "    X = data[0:samples_count]\n",
    "    size = int(len(X) * train_test_split)\n",
    "    train, test = X[0:size], X[size:len(X)]\n",
    "    history = [x for x in train.values]\n",
    "    predictions = list()\n",
    "    test_indices = [i for i in range(0, len(test.values)) if i%n_step==0]\n",
    "    for i in test_indices:\n",
    "        model = ARIMA(history, order=(1,1,0))\n",
    "        model_fit = model.fit(disp=0)\n",
    "        output = model_fit.forecast(n_step)\n",
    "        yhat = output[0].flatten()\n",
    "        predictions.extend(yhat)\n",
    "        history.extend(test.values[i:i+n_step])\n",
    "    \n",
    "    return predictions\n",
    "\n",
    "\n",
    "samples_to_use = 500\n",
    "train_test_split = 0.04\n",
    "n_steps = 1\n",
    "filtered = wind_direction_data[wind_direction_data['intObjectId'].isin(turbine_names)]\n",
    "averaged = filtered[['WindDirectionMean', 'intObjectId']].groupby('dtTimeStamp').mean()[['WindDirectionMean']].dropna()\n",
    "direction_predictions_df = pd.DataFrame(index=averaged[int(samples_to_use * train_test_split):samples_to_use].index)\n",
    "average_mean_wind_directions_real = averaged[0:samples_to_use]\n",
    "\n",
    "\n",
    "for turbine in turbine_names:\n",
    "    print('starting turbine: ' + str(turbine))\n",
    "    data = wind_direction_data[wind_direction_data['intObjectId'] == turbine][\"WindDirectionMean\"]  \n",
    "    predictions = forecast_wind_direction(data, n_steps, train_test_split, samples_to_use)\n",
    "    direction_predictions_df[turbine] = predictions\n",
    "    print('finished turbine: ' + str(turbine))\n",
    "    \n",
    "print(direction_predictions_df)\n"
   ]
  },
  {
   "cell_type": "code",
   "execution_count": null,
   "metadata": {},
   "outputs": [
    {
     "name": "stdout",
     "output_type": "stream",
     "text": [
      "       WindSpeedMean    intObjectId\n",
      "count  235816.000000  237195.000000\n",
      "mean        5.231695    1761.148148\n",
      "std         2.194863       8.040211\n",
      "min         0.200000    1748.000000\n",
      "25%         3.600000    1754.000000\n",
      "50%         5.000000    1761.000000\n",
      "75%         6.700000    1768.000000\n",
      "max        19.400000    1776.000000\n",
      "starting turbine: 1748\n",
      "starting turbine: 1749\n",
      "starting turbine: 1750\n",
      "starting turbine: 1751\n"
     ]
    }
   ],
   "source": [
    "from statsmodels.tsa.arima_model import ARIMA\n",
    "import datetime as dt\n",
    "\n",
    "wind_speed_data = scada_data[['dtTimeStamp','WindSpeedMean', 'intObjectId']]\n",
    "wind_speed_data['dtTimeStamp'] = pd.to_datetime(scada_data['dtTimeStamp'])\n",
    "wind_speed_data.index=wind_speed_data['dtTimeStamp']\n",
    "print(wind_speed_data.describe())\n",
    "\n",
    "#wind_speed_data[wind_speed_data['intObjectId'] == 1748 & wind_speed_data['WindSpeedMean'].isnull()]\n",
    "\n",
    "def forecast_wind_speed(data, column_name):\n",
    "    X = data[[column_name]]\n",
    "    size = int(len(X) * 0.1)\n",
    "    train, test = X[0:size], X[size:len(X)]\n",
    "    history = train\n",
    "    predictions = pd.DataFrame(index=test.index, columns=[column_name])\n",
    "    for i, row in test.iterrows():\n",
    "        model = ARIMA(history, order=(1,1,0))\n",
    "        model_fit = model.fit(disp=0)\n",
    "        output = model_fit.forecast()\n",
    "        yhat = output[0].flatten()[0]\n",
    "        predictions.loc[i][column_name] = yhat\n",
    "        history.loc[i] = row[column_name]\n",
    "\n",
    "\n",
    "samples_to_use = 500\n",
    "train_test_split = 0.04\n",
    "n_steps = 1\n",
    "filtered = wind_speed_data[wind_speed_data['intObjectId'].isin(turbine_names)]\n",
    "averaged = filtered[['WindSpeedMean', 'intObjectId']].groupby('dtTimeStamp').mean()[['WindSpeedMean']].dropna()\n",
    "speed_predictions_df = pd.DataFrame(index=averaged[int(samples_to_use * train_test_split):samples_to_use].index)\n",
    "average_mean_wind_speeds_real = averaged[0:samples_to_use]\n",
    "\n",
    "for turbine in turbine_names:\n",
    "    \n",
    "    try:\n",
    "        print('starting turbine: ' + str(turbine))\n",
    "        data = wind_speed_data[wind_speed_data['intObjectId'] == turbine] \n",
    "        predictions = forecast_wind_speed(data, \"WindSpeedMean\")\n",
    "        speed_predictions_df[turbine] = predictions\n",
    "        print('finished turbine: ' + str(turbine))\n",
    "    except:\n",
    "        continue\n",
    "    \n",
    "print(speed_predictions_df)\n"
   ]
  },
  {
   "cell_type": "code",
   "execution_count": null,
   "metadata": {},
   "outputs": [],
   "source": [
    "predictions_df.head(5)\n",
    "then = dt.datetime.now"
   ]
  },
  {
   "cell_type": "code",
   "execution_count": null,
   "metadata": {},
   "outputs": [],
   "source": [
    "average_mean_wind_directions_predictions = direction_predictions_df.mean(axis=1)\n",
    "average_mean_wind_speed_predictions = speed_predictions_df.mean(axis=1)\n",
    "print(average_mean_wind_directions_predictions)"
   ]
  },
  {
   "cell_type": "code",
   "execution_count": null,
   "metadata": {},
   "outputs": [],
   "source": [
    "print(average_mean_wind_directions_real)"
   ]
  },
  {
   "cell_type": "code",
   "execution_count": null,
   "metadata": {},
   "outputs": [],
   "source": [
    "combined_df = pd.concat([average_mean_wind_directions_predictions, average_mean_wind_directions_real, average_mean_wind_speeds_real, average_mean_wind_speed_predictions], axis=1)\n",
    "print(combined_df)"
   ]
  },
  {
   "cell_type": "code",
   "execution_count": null,
   "metadata": {},
   "outputs": [],
   "source": [
    "plt.figure(figsize=(20,5))\n",
    "plt.plot(combined_df['WindDirectionMean'], color='blue', label='real')\n",
    "plt.plot(combined_df[0], color='red', label='prediction')\n",
    "plt.legend(loc='best')\n",
    "plt.title('Real vs Predictions')"
   ]
  },
  {
   "cell_type": "code",
   "execution_count": null,
   "metadata": {},
   "outputs": [],
   "source": [
    "import matplotlib.pyplot as plt\n",
    "import numpy as np\n",
    "\n",
    "f = plt.figure(figsize=(20,5))\n",
    "ax = f.add_subplot(221)\n",
    "ax.plot(history, color='blue', label='Real')\n",
    "ax.plot(predictions, color='red', label='Prediction')\n",
    "f.autofmt_xdate()\n",
    "\n",
    "ax.set_xlabel('Timestamp')\n",
    "ax.set_ylabel('Wind Speed (m/s)')\n",
    "\n",
    "ax.set_title('Real vs Predicted Average Wind Speed Values')\n",
    "plt.legend()\n",
    "\n",
    "plt.savefig('raw_single_wind_speed_prediction_plot.jpg')"
   ]
  },
  {
   "cell_type": "code",
   "execution_count": null,
   "metadata": {},
   "outputs": [],
   "source": [
    "combined_df = combined_df.dropna()\n",
    "\n",
    "plt.hist([combined_df['WindDirectionMean'], combined_df[0]], bins=list(range(0,360, 60)), label=['Real', 'Prediction'])\n",
    "plt.legend(loc='upper right')\n",
    "plt.show()"
   ]
  },
  {
   "cell_type": "code",
   "execution_count": null,
   "metadata": {},
   "outputs": [],
   "source": [
    "from sklearn.metrics import mean_squared_error\n",
    "error = mean_squared_error(combined_df['WindDirectionMean'], combined_df[0])\n",
    "print('Test MSE: %.3f' % error)"
   ]
  },
  {
   "cell_type": "code",
   "execution_count": null,
   "metadata": {},
   "outputs": [],
   "source": [
    "data[\"SpeedBin\"] = data['WindSpeedMean'].apply(h.get_wind_speed_bin)\n",
    "data[\"DirectionBin\"] = data['WindDirectionMean'].apply(h.get_wind_direction_bin)\n",
    "\n",
    "all_predictions[\"PredictedSpeedBin\"] = all_predictions['WindSpeedMean'].apply(h.get_wind_speed_bin)\n",
    "all_predictions[\"PredictedDirectionBin\"] = all_predictions['WindDirectionMean'].apply(h.get_wind_direction_bin)"
   ]
  },
  {
   "cell_type": "code",
   "execution_count": null,
   "metadata": {},
   "outputs": [],
   "source": [
    "comp = pd.DataFrame()\n",
    "\n",
    "comp['WindSpeedMean'] = data['WindSpeedMean']\n",
    "comp['WindDirectionMean'] = data['WindDirectionMean']\n",
    "\n",
    "comp['PredictedWindSpeedMean'] = all_predictions['WindSpeedMean']\n",
    "comp['PredictedWindDirectionMean'] = all_predictions['WindDirectionMean']\n",
    "\n",
    "comp['SpeedBin'] = data['SpeedBin']\n",
    "comp['DirectionBin'] = data['DirectionBin']\n",
    "comp['PredictedSpeedBin'] = all_predictions[\"PredictedSpeedBin\"] \n",
    "comp['PredictedDirectionBin'] = all_predictions[\"PredictedDirectionBin\"] \n",
    "\n",
    "comp.dropna(inplace=True)\n",
    "comp['SpeedBinEqual'] = comp['SpeedBin'] == comp[\"PredictedSpeedBin\"]\n",
    "comp['DirectionBinEqual'] = comp['DirectionBin'] == comp[\"PredictedDirectionBin\"]"
   ]
  },
  {
   "cell_type": "code",
   "execution_count": null,
   "metadata": {},
   "outputs": [],
   "source": [
    "wrong = comp.query('DirectionBinEqual == False or SpeedBinEqual == False')\n",
    "\n",
    "error = len(wrong) / comp.shape[0] * 100\n",
    "\n",
    "print(\"Percentage of bins wrong:\")\n",
    "print(error)\n",
    "\n",
    "from sklearn.metrics import mean_squared_error\n",
    "import math \n",
    "\n",
    "print(\"\\nMSE for speed\")\n",
    "print(mean_squared_error(comp['WindSpeedMean'], comp['PredictedWindSpeedMean']))\n",
    "\n",
    "print(\"\\nMSE for direction\")\n",
    "print(math.degrees(mean_squared_error(comp['WindDirectionMean'].apply(math.radians), comp['PredictedWindDirectionMean'].apply(math.radians))))"
   ]
  },
  {
   "cell_type": "code",
   "execution_count": null,
   "metadata": {},
   "outputs": [],
   "source": [
    "import numpy as np\n",
    "comp['SpeedBinDifference'] = comp[\"PredictedSpeedBin\"]- comp['SpeedBin']\n",
    "comp['DirectionBinDifference'] = (comp['DirectionBin'] - comp[\"PredictedDirectionBin\"]) / 30"
   ]
  },
  {
   "cell_type": "code",
   "execution_count": null,
   "metadata": {},
   "outputs": [],
   "source": [
    "import seaborn as sns\n",
    "\n",
    "g = sns.histplot(comp_2, x=\"SpeedBinDifference\", y=\"DirectionBinDifference\", discrete=True, cbar=True)\n",
    "g.set_xticks(range(-12,12))#\n",
    "g.set_yticks(range(-12,12))# <--- set the ticks first\n",
    "g.set_title('Predicting Average Values Over All Turbines Bin Errors')\n",
    "\n",
    "fig = g.get_figure()\n",
    "fig.savefig(\"average_bin_errors.png\")"
   ]
  }
 ],
 "metadata": {
  "kernelspec": {
   "display_name": "Python 3",
   "language": "python",
   "name": "python3"
  },
  "language_info": {
   "codemirror_mode": {
    "name": "ipython",
    "version": 3
   },
   "file_extension": ".py",
   "mimetype": "text/x-python",
   "name": "python",
   "nbconvert_exporter": "python",
   "pygments_lexer": "ipython3",
   "version": "3.8.6"
  }
 },
 "nbformat": 4,
 "nbformat_minor": 4
}
