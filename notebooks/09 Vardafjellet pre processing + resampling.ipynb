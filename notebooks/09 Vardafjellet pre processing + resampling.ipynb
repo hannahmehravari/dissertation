{
 "cells": [
  {
   "cell_type": "code",
   "execution_count": 30,
   "metadata": {},
   "outputs": [],
   "source": [
    "import pandas as pd\n",
    "import numpy as np\n",
    "import matplotlib.pyplot as plt\n",
    "#%matplotlib widget"
   ]
  },
  {
   "cell_type": "code",
   "execution_count": 2,
   "metadata": {},
   "outputs": [],
   "source": [
    "scada_data = pd.read_csv(\"C:\\\\Users\\\\hanna\\\\Desktop\\\\data\\\\Events.csv\", delimiter=',',  parse_dates=True)\n"
   ]
  },
  {
   "cell_type": "code",
   "execution_count": 3,
   "metadata": {},
   "outputs": [],
   "source": [
    "scada_data.drop(columns=['timestamp ($ts)_DateTime','payload_quality_String', 'payload_timestamp_DateTime', 'payload_unit_String', 'payload_quantity_String'], inplace=True)\n",
    "scada_data.columns\n",
    "scada_data.rename(columns={'timestamp  (UTC+00:00) Local - Europe/London: GMT_DateTime':'timestamp',\n",
    "                          'apiKey_String': 'turbine', 'measurement_String': 'measurement', 'payload_value_Double' : 'value'}, inplace=True)\n",
    "scada_data['timestamp'] = pd.to_datetime(scada_data['timestamp'])"
   ]
  },
  {
   "cell_type": "code",
   "execution_count": 4,
   "metadata": {},
   "outputs": [
    {
     "data": {
      "text/html": [
       "<div>\n",
       "<style scoped>\n",
       "    .dataframe tbody tr th:only-of-type {\n",
       "        vertical-align: middle;\n",
       "    }\n",
       "\n",
       "    .dataframe tbody tr th {\n",
       "        vertical-align: top;\n",
       "    }\n",
       "\n",
       "    .dataframe thead th {\n",
       "        text-align: right;\n",
       "    }\n",
       "</style>\n",
       "<table border=\"1\" class=\"dataframe\">\n",
       "  <thead>\n",
       "    <tr style=\"text-align: right;\">\n",
       "      <th></th>\n",
       "      <th>timestamp</th>\n",
       "      <th>turbine</th>\n",
       "      <th>wind_speed</th>\n",
       "      <th>wind_direction</th>\n",
       "    </tr>\n",
       "  </thead>\n",
       "  <tbody>\n",
       "    <tr>\n",
       "      <th>0</th>\n",
       "      <td>2020-12-26 11:55:38.012</td>\n",
       "      <td>nor_var_t01</td>\n",
       "      <td>7.0</td>\n",
       "      <td>170.300003</td>\n",
       "    </tr>\n",
       "    <tr>\n",
       "      <th>1</th>\n",
       "      <td>2020-12-26 11:55:38.012</td>\n",
       "      <td>nor_var_t03</td>\n",
       "      <td>7.4</td>\n",
       "      <td>160.300003</td>\n",
       "    </tr>\n",
       "    <tr>\n",
       "      <th>2</th>\n",
       "      <td>2020-12-26 11:55:38.012</td>\n",
       "      <td>nor_var_t05</td>\n",
       "      <td>5.7</td>\n",
       "      <td>166.300003</td>\n",
       "    </tr>\n",
       "    <tr>\n",
       "      <th>3</th>\n",
       "      <td>2020-12-26 11:55:38.012</td>\n",
       "      <td>nor_var_t06</td>\n",
       "      <td>8.2</td>\n",
       "      <td>170.500000</td>\n",
       "    </tr>\n",
       "    <tr>\n",
       "      <th>4</th>\n",
       "      <td>2020-12-26 11:55:38.013</td>\n",
       "      <td>nor_var_t07</td>\n",
       "      <td>9.6</td>\n",
       "      <td>171.600006</td>\n",
       "    </tr>\n",
       "    <tr>\n",
       "      <th>...</th>\n",
       "      <td>...</td>\n",
       "      <td>...</td>\n",
       "      <td>...</td>\n",
       "      <td>...</td>\n",
       "    </tr>\n",
       "    <tr>\n",
       "      <th>604368</th>\n",
       "      <td>2021-01-25 11:55:10.250</td>\n",
       "      <td>nor_var_t05</td>\n",
       "      <td>1.3</td>\n",
       "      <td>37.400002</td>\n",
       "    </tr>\n",
       "    <tr>\n",
       "      <th>604369</th>\n",
       "      <td>2021-01-25 11:55:10.250</td>\n",
       "      <td>nor_var_t06</td>\n",
       "      <td>2.2</td>\n",
       "      <td>33.700001</td>\n",
       "    </tr>\n",
       "    <tr>\n",
       "      <th>604370</th>\n",
       "      <td>2021-01-25 11:55:10.250</td>\n",
       "      <td>nor_var_t07</td>\n",
       "      <td>2.2</td>\n",
       "      <td>28.000000</td>\n",
       "    </tr>\n",
       "    <tr>\n",
       "      <th>604371</th>\n",
       "      <td>2021-01-25 11:55:10.250</td>\n",
       "      <td>nor_var_t08</td>\n",
       "      <td>1.4</td>\n",
       "      <td>34.299999</td>\n",
       "    </tr>\n",
       "    <tr>\n",
       "      <th>604372</th>\n",
       "      <td>2021-01-25 11:55:10.250</td>\n",
       "      <td>nor_var_t09</td>\n",
       "      <td>1.7</td>\n",
       "      <td>36.500000</td>\n",
       "    </tr>\n",
       "  </tbody>\n",
       "</table>\n",
       "<p>604373 rows × 4 columns</p>\n",
       "</div>"
      ],
      "text/plain": [
       "                     timestamp      turbine  wind_speed  wind_direction\n",
       "0      2020-12-26 11:55:38.012  nor_var_t01         7.0      170.300003\n",
       "1      2020-12-26 11:55:38.012  nor_var_t03         7.4      160.300003\n",
       "2      2020-12-26 11:55:38.012  nor_var_t05         5.7      166.300003\n",
       "3      2020-12-26 11:55:38.012  nor_var_t06         8.2      170.500000\n",
       "4      2020-12-26 11:55:38.013  nor_var_t07         9.6      171.600006\n",
       "...                        ...          ...         ...             ...\n",
       "604368 2021-01-25 11:55:10.250  nor_var_t05         1.3       37.400002\n",
       "604369 2021-01-25 11:55:10.250  nor_var_t06         2.2       33.700001\n",
       "604370 2021-01-25 11:55:10.250  nor_var_t07         2.2       28.000000\n",
       "604371 2021-01-25 11:55:10.250  nor_var_t08         1.4       34.299999\n",
       "604372 2021-01-25 11:55:10.250  nor_var_t09         1.7       36.500000\n",
       "\n",
       "[604373 rows x 4 columns]"
      ]
     },
     "execution_count": 4,
     "metadata": {},
     "output_type": "execute_result"
    }
   ],
   "source": [
    "wind_speed = scada_data[scada_data['measurement'] == 'Windspeed'][[\"timestamp\",\"turbine\",\"value\"]]\n",
    "wind_speed.rename(columns={\"value\": \"wind_speed\"}, inplace=True)\n",
    "wind_speed.reset_index(inplace=True, drop=True)\n",
    "wind_direction = scada_data[scada_data['measurement'] == 'WindDirection'][[\"timestamp\",\"turbine\",\"value\"]]\n",
    "wind_direction.rename(columns={\"value\": \"wind_direction\"}, inplace=True)\n",
    "wind_direction.reset_index(inplace=True, drop=True)\n",
    "wind_speed['wind_direction'] = wind_direction['wind_direction']\n",
    "data = wind_speed.copy()\n",
    "data"
   ]
  },
  {
   "cell_type": "code",
   "execution_count": 5,
   "metadata": {},
   "outputs": [
    {
     "data": {
      "text/html": [
       "<div>\n",
       "<style scoped>\n",
       "    .dataframe tbody tr th:only-of-type {\n",
       "        vertical-align: middle;\n",
       "    }\n",
       "\n",
       "    .dataframe tbody tr th {\n",
       "        vertical-align: top;\n",
       "    }\n",
       "\n",
       "    .dataframe thead th {\n",
       "        text-align: right;\n",
       "    }\n",
       "</style>\n",
       "<table border=\"1\" class=\"dataframe\">\n",
       "  <thead>\n",
       "    <tr style=\"text-align: right;\">\n",
       "      <th></th>\n",
       "      <th>wind_speed</th>\n",
       "      <th>wind_direction</th>\n",
       "    </tr>\n",
       "    <tr>\n",
       "      <th>timestamp</th>\n",
       "      <th></th>\n",
       "      <th></th>\n",
       "    </tr>\n",
       "  </thead>\n",
       "  <tbody>\n",
       "    <tr>\n",
       "      <th>2020-12-26 11:50:00</th>\n",
       "      <td>7.075000</td>\n",
       "      <td>166.850002</td>\n",
       "    </tr>\n",
       "    <tr>\n",
       "      <th>2020-12-26 12:00:00</th>\n",
       "      <td>7.385714</td>\n",
       "      <td>171.242859</td>\n",
       "    </tr>\n",
       "    <tr>\n",
       "      <th>2020-12-26 12:10:00</th>\n",
       "      <td>6.971429</td>\n",
       "      <td>173.671428</td>\n",
       "    </tr>\n",
       "    <tr>\n",
       "      <th>2020-12-26 12:20:00</th>\n",
       "      <td>7.250000</td>\n",
       "      <td>190.049995</td>\n",
       "    </tr>\n",
       "    <tr>\n",
       "      <th>2020-12-26 12:30:00</th>\n",
       "      <td>8.050000</td>\n",
       "      <td>190.250000</td>\n",
       "    </tr>\n",
       "    <tr>\n",
       "      <th>...</th>\n",
       "      <td>...</td>\n",
       "      <td>...</td>\n",
       "    </tr>\n",
       "    <tr>\n",
       "      <th>2021-01-25 11:10:00</th>\n",
       "      <td>2.614286</td>\n",
       "      <td>107.200003</td>\n",
       "    </tr>\n",
       "    <tr>\n",
       "      <th>2021-01-25 11:20:00</th>\n",
       "      <td>2.100000</td>\n",
       "      <td>186.900003</td>\n",
       "    </tr>\n",
       "    <tr>\n",
       "      <th>2021-01-25 11:30:00</th>\n",
       "      <td>2.400000</td>\n",
       "      <td>196.200003</td>\n",
       "    </tr>\n",
       "    <tr>\n",
       "      <th>2021-01-25 11:40:00</th>\n",
       "      <td>2.100000</td>\n",
       "      <td>144.100002</td>\n",
       "    </tr>\n",
       "    <tr>\n",
       "      <th>2021-01-25 11:50:00</th>\n",
       "      <td>2.057143</td>\n",
       "      <td>75.500001</td>\n",
       "    </tr>\n",
       "  </tbody>\n",
       "</table>\n",
       "<p>4321 rows × 2 columns</p>\n",
       "</div>"
      ],
      "text/plain": [
       "                     wind_speed  wind_direction\n",
       "timestamp                                      \n",
       "2020-12-26 11:50:00    7.075000      166.850002\n",
       "2020-12-26 12:00:00    7.385714      171.242859\n",
       "2020-12-26 12:10:00    6.971429      173.671428\n",
       "2020-12-26 12:20:00    7.250000      190.049995\n",
       "2020-12-26 12:30:00    8.050000      190.250000\n",
       "...                         ...             ...\n",
       "2021-01-25 11:10:00    2.614286      107.200003\n",
       "2021-01-25 11:20:00    2.100000      186.900003\n",
       "2021-01-25 11:30:00    2.400000      196.200003\n",
       "2021-01-25 11:40:00    2.100000      144.100002\n",
       "2021-01-25 11:50:00    2.057143       75.500001\n",
       "\n",
       "[4321 rows x 2 columns]"
      ]
     },
     "execution_count": 5,
     "metadata": {},
     "output_type": "execute_result"
    }
   ],
   "source": [
    "data_rs = data.groupby(['timestamp']).mean()\n",
    "data_rs = data_rs.resample('10min').first()\n",
    "data_rs"
   ]
  },
  {
   "cell_type": "code",
   "execution_count": 19,
   "metadata": {},
   "outputs": [
    {
     "name": "stdout",
     "output_type": "stream",
     "text": [
      "done\n",
      "0:00:00.030886\n"
     ]
    }
   ],
   "source": [
    "from statsmodels.tsa.arima_model import ARIMA\n",
    "import datetime as dt\n",
    "\n",
    "X = data_rs[['wind_speed']][0:2000]\n",
    "size = int(len(X) * 0.04)\n",
    "train, test = X[0:size], X[size:len(X)]\n",
    "history = train\n",
    "predictions = pd.DataFrame(index=test.index, columns=['prediction'])\n",
    "times = []\n",
    "for i, row in test.iterrows():\n",
    "    start = dt.datetime.now()\n",
    "    model = ARIMA(history, order=(1,1,0))\n",
    "    model_fit = model.fit(disp=0)\n",
    "    output = model_fit.forecast()\n",
    "    yhat = output[0].flatten()[0]\n",
    "    predictions.loc[i]['prediction'] = yhat\n",
    "    history.loc[i] = row['wind_speed']\n",
    "    end = dt.datetime.now()\n",
    "    times.append(end-start)\n",
    "    #print('predicted=%f, expected=%f' % (predictions.loc[i]['prediction'], row['WindSpeedMean']))\n",
    "\n",
    "print('done')\n",
    "print((sum(times, dt.timedelta()) / len(times)))"
   ]
  },
  {
   "cell_type": "code",
   "execution_count": 35,
   "metadata": {},
   "outputs": [
    {
     "data": {
      "application/vnd.jupyter.widget-view+json": {
       "model_id": "5c3b8b723ff0434c91f789056cb389b5",
       "version_major": 2,
       "version_minor": 0
      },
      "text/plain": [
       "Canvas(toolbar=Toolbar(toolitems=[('Home', 'Reset original view', 'home', 'home'), ('Back', 'Back to previous …"
      ]
     },
     "metadata": {},
     "output_type": "display_data"
    },
    {
     "data": {
      "text/plain": [
       "Text(0.5, 1.0, 'Real vs Predictions')"
      ]
     },
     "execution_count": 35,
     "metadata": {},
     "output_type": "execute_result"
    }
   ],
   "source": [
    "plt.figure(figsize=(20,5))\n",
    "plt.plot(history, color='blue', label='real')\n",
    "plt.plot(predictions, color='red', label='prediction')\n",
    "plt.legend(loc='best')\n",
    "plt.title('Real vs Predictions')"
   ]
  },
  {
   "cell_type": "code",
   "execution_count": 32,
   "metadata": {},
   "outputs": [],
   "source": [
    "combined_df = pd.concat([history,predictions], axis=1).dropna()"
   ]
  },
  {
   "cell_type": "code",
   "execution_count": 33,
   "metadata": {},
   "outputs": [
    {
     "name": "stdout",
     "output_type": "stream",
     "text": [
      "Test MSE: 2.418\n"
     ]
    }
   ],
   "source": [
    "from sklearn.metrics import mean_squared_error\n",
    "error = mean_squared_error(combined_df['wind_speed'], combined_df['prediction'])\n",
    "print('Test MSE: %.3f' % error)"
   ]
  },
  {
   "cell_type": "code",
   "execution_count": 34,
   "metadata": {},
   "outputs": [],
   "source": [
    "import random\n",
    "import numpy\n",
    "from matplotlib import pyplot\n",
    "\n",
    "plt.hist([combined_df['wind_speed'], combined_df['prediction']], bins=list(range(0,15)), label=['Real', 'Prediction'])\n",
    "plt.legend(loc='upper right')\n",
    "plt.show()"
   ]
  },
  {
   "cell_type": "code",
   "execution_count": null,
   "metadata": {},
   "outputs": [],
   "source": []
  }
 ],
 "metadata": {
  "kernelspec": {
   "display_name": "Python 3",
   "language": "python",
   "name": "python3"
  },
  "language_info": {
   "codemirror_mode": {
    "name": "ipython",
    "version": 3
   },
   "file_extension": ".py",
   "mimetype": "text/x-python",
   "name": "python",
   "nbconvert_exporter": "python",
   "pygments_lexer": "ipython3",
   "version": "3.8.5"
  }
 },
 "nbformat": 4,
 "nbformat_minor": 4
}
