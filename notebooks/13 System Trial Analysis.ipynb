{
 "cells": [
  {
   "cell_type": "code",
   "execution_count": 93,
   "id": "accredited-buddy",
   "metadata": {},
   "outputs": [
    {
     "data": {
      "text/html": [
       "<div>\n",
       "<style scoped>\n",
       "    .dataframe tbody tr th:only-of-type {\n",
       "        vertical-align: middle;\n",
       "    }\n",
       "\n",
       "    .dataframe tbody tr th {\n",
       "        vertical-align: top;\n",
       "    }\n",
       "\n",
       "    .dataframe thead th {\n",
       "        text-align: right;\n",
       "    }\n",
       "</style>\n",
       "<table border=\"1\" class=\"dataframe\">\n",
       "  <thead>\n",
       "    <tr style=\"text-align: right;\">\n",
       "      <th></th>\n",
       "      <th>Time</th>\n",
       "      <th>10min_sample.wind_direction</th>\n",
       "      <th>10min_sample.wind_speed</th>\n",
       "      <th>10min_sample.speed_bin</th>\n",
       "      <th>10min_sample.direction_bin</th>\n",
       "    </tr>\n",
       "  </thead>\n",
       "  <tbody>\n",
       "    <tr>\n",
       "      <th>0</th>\n",
       "      <td>2020-12-26 18:43:12</td>\n",
       "      <td>196.0</td>\n",
       "      <td>13.20</td>\n",
       "      <td>13.0</td>\n",
       "      <td>210</td>\n",
       "    </tr>\n",
       "    <tr>\n",
       "      <th>1</th>\n",
       "      <td>2020-12-26 18:53:12</td>\n",
       "      <td>199.0</td>\n",
       "      <td>14.50</td>\n",
       "      <td>NaN</td>\n",
       "      <td>210</td>\n",
       "    </tr>\n",
       "    <tr>\n",
       "      <th>2</th>\n",
       "      <td>2020-12-26 19:03:12</td>\n",
       "      <td>197.0</td>\n",
       "      <td>12.10</td>\n",
       "      <td>12.0</td>\n",
       "      <td>210</td>\n",
       "    </tr>\n",
       "    <tr>\n",
       "      <th>3</th>\n",
       "      <td>2020-12-26 19:13:12</td>\n",
       "      <td>191.0</td>\n",
       "      <td>12.00</td>\n",
       "      <td>12.0</td>\n",
       "      <td>180</td>\n",
       "    </tr>\n",
       "    <tr>\n",
       "      <th>4</th>\n",
       "      <td>2020-12-26 19:22:43</td>\n",
       "      <td>190.0</td>\n",
       "      <td>11.90</td>\n",
       "      <td>12.0</td>\n",
       "      <td>180</td>\n",
       "    </tr>\n",
       "    <tr>\n",
       "      <th>...</th>\n",
       "      <td>...</td>\n",
       "      <td>...</td>\n",
       "      <td>...</td>\n",
       "      <td>...</td>\n",
       "      <td>...</td>\n",
       "    </tr>\n",
       "    <tr>\n",
       "      <th>1066</th>\n",
       "      <td>2021-01-13 06:45:45</td>\n",
       "      <td>16.0</td>\n",
       "      <td>6.33</td>\n",
       "      <td>6.0</td>\n",
       "      <td>30</td>\n",
       "    </tr>\n",
       "    <tr>\n",
       "      <th>1067</th>\n",
       "      <td>2021-01-13 06:55:45</td>\n",
       "      <td>11.7</td>\n",
       "      <td>6.22</td>\n",
       "      <td>6.0</td>\n",
       "      <td>0</td>\n",
       "    </tr>\n",
       "    <tr>\n",
       "      <th>1068</th>\n",
       "      <td>2021-01-13 07:15:45</td>\n",
       "      <td>12.9</td>\n",
       "      <td>6.11</td>\n",
       "      <td>6.0</td>\n",
       "      <td>0</td>\n",
       "    </tr>\n",
       "    <tr>\n",
       "      <th>1069</th>\n",
       "      <td>2021-01-13 08:05:16</td>\n",
       "      <td>16.5</td>\n",
       "      <td>6.93</td>\n",
       "      <td>7.0</td>\n",
       "      <td>30</td>\n",
       "    </tr>\n",
       "    <tr>\n",
       "      <th>1070</th>\n",
       "      <td>2021-01-13 08:15:16</td>\n",
       "      <td>26.6</td>\n",
       "      <td>7.33</td>\n",
       "      <td>7.0</td>\n",
       "      <td>30</td>\n",
       "    </tr>\n",
       "  </tbody>\n",
       "</table>\n",
       "<p>1071 rows × 5 columns</p>\n",
       "</div>"
      ],
      "text/plain": [
       "                     Time  10min_sample.wind_direction  \\\n",
       "0     2020-12-26 18:43:12                        196.0   \n",
       "1     2020-12-26 18:53:12                        199.0   \n",
       "2     2020-12-26 19:03:12                        197.0   \n",
       "3     2020-12-26 19:13:12                        191.0   \n",
       "4     2020-12-26 19:22:43                        190.0   \n",
       "...                   ...                          ...   \n",
       "1066  2021-01-13 06:45:45                         16.0   \n",
       "1067  2021-01-13 06:55:45                         11.7   \n",
       "1068  2021-01-13 07:15:45                         12.9   \n",
       "1069  2021-01-13 08:05:16                         16.5   \n",
       "1070  2021-01-13 08:15:16                         26.6   \n",
       "\n",
       "      10min_sample.wind_speed  10min_sample.speed_bin  \\\n",
       "0                       13.20                    13.0   \n",
       "1                       14.50                     NaN   \n",
       "2                       12.10                    12.0   \n",
       "3                       12.00                    12.0   \n",
       "4                       11.90                    12.0   \n",
       "...                       ...                     ...   \n",
       "1066                     6.33                     6.0   \n",
       "1067                     6.22                     6.0   \n",
       "1068                     6.11                     6.0   \n",
       "1069                     6.93                     7.0   \n",
       "1070                     7.33                     7.0   \n",
       "\n",
       "      10min_sample.direction_bin  \n",
       "0                            210  \n",
       "1                            210  \n",
       "2                            210  \n",
       "3                            180  \n",
       "4                            180  \n",
       "...                          ...  \n",
       "1066                          30  \n",
       "1067                           0  \n",
       "1068                           0  \n",
       "1069                          30  \n",
       "1070                          30  \n",
       "\n",
       "[1071 rows x 5 columns]"
      ]
     },
     "execution_count": 93,
     "metadata": {},
     "output_type": "execute_result"
    }
   ],
   "source": [
    "import pandas as pd\n",
    "noise_campaign_data = pd.read_csv(\"C:\\\\Users\\\\hanna\\\\Desktop\\\\data\\\\grafana_stopped.csv\", delimiter=',',  parse_dates=True)\n",
    "noise_campaign_data"
   ]
  },
  {
   "cell_type": "code",
   "execution_count": 94,
   "id": "incorporate-serial",
   "metadata": {},
   "outputs": [
    {
     "data": {
      "text/html": [
       "<div>\n",
       "<style scoped>\n",
       "    .dataframe tbody tr th:only-of-type {\n",
       "        vertical-align: middle;\n",
       "    }\n",
       "\n",
       "    .dataframe tbody tr th {\n",
       "        vertical-align: top;\n",
       "    }\n",
       "\n",
       "    .dataframe thead th {\n",
       "        text-align: right;\n",
       "    }\n",
       "</style>\n",
       "<table border=\"1\" class=\"dataframe\">\n",
       "  <thead>\n",
       "    <tr style=\"text-align: right;\">\n",
       "      <th></th>\n",
       "      <th>10min_sample.speed_bin</th>\n",
       "      <th>10min_sample.direction_bin</th>\n",
       "      <th>Time</th>\n",
       "    </tr>\n",
       "  </thead>\n",
       "  <tbody>\n",
       "    <tr>\n",
       "      <th>0</th>\n",
       "      <td>3.0</td>\n",
       "      <td>0</td>\n",
       "      <td>4</td>\n",
       "    </tr>\n",
       "    <tr>\n",
       "      <th>1</th>\n",
       "      <td>3.0</td>\n",
       "      <td>30</td>\n",
       "      <td>8</td>\n",
       "    </tr>\n",
       "    <tr>\n",
       "      <th>2</th>\n",
       "      <td>3.0</td>\n",
       "      <td>60</td>\n",
       "      <td>14</td>\n",
       "    </tr>\n",
       "    <tr>\n",
       "      <th>3</th>\n",
       "      <td>3.0</td>\n",
       "      <td>90</td>\n",
       "      <td>10</td>\n",
       "    </tr>\n",
       "    <tr>\n",
       "      <th>4</th>\n",
       "      <td>3.0</td>\n",
       "      <td>120</td>\n",
       "      <td>12</td>\n",
       "    </tr>\n",
       "    <tr>\n",
       "      <th>...</th>\n",
       "      <td>...</td>\n",
       "      <td>...</td>\n",
       "      <td>...</td>\n",
       "    </tr>\n",
       "    <tr>\n",
       "      <th>78</th>\n",
       "      <td>13.0</td>\n",
       "      <td>210</td>\n",
       "      <td>4</td>\n",
       "    </tr>\n",
       "    <tr>\n",
       "      <th>79</th>\n",
       "      <td>13.0</td>\n",
       "      <td>330</td>\n",
       "      <td>3</td>\n",
       "    </tr>\n",
       "    <tr>\n",
       "      <th>80</th>\n",
       "      <td>14.0</td>\n",
       "      <td>150</td>\n",
       "      <td>2</td>\n",
       "    </tr>\n",
       "    <tr>\n",
       "      <th>81</th>\n",
       "      <td>14.0</td>\n",
       "      <td>180</td>\n",
       "      <td>2</td>\n",
       "    </tr>\n",
       "    <tr>\n",
       "      <th>82</th>\n",
       "      <td>14.0</td>\n",
       "      <td>330</td>\n",
       "      <td>3</td>\n",
       "    </tr>\n",
       "  </tbody>\n",
       "</table>\n",
       "<p>83 rows × 3 columns</p>\n",
       "</div>"
      ],
      "text/plain": [
       "    10min_sample.speed_bin  10min_sample.direction_bin  Time\n",
       "0                      3.0                           0     4\n",
       "1                      3.0                          30     8\n",
       "2                      3.0                          60    14\n",
       "3                      3.0                          90    10\n",
       "4                      3.0                         120    12\n",
       "..                     ...                         ...   ...\n",
       "78                    13.0                         210     4\n",
       "79                    13.0                         330     3\n",
       "80                    14.0                         150     2\n",
       "81                    14.0                         180     2\n",
       "82                    14.0                         330     3\n",
       "\n",
       "[83 rows x 3 columns]"
      ]
     },
     "execution_count": 94,
     "metadata": {},
     "output_type": "execute_result"
    }
   ],
   "source": [
    "grouped = noise_campaign_data.groupby(['10min_sample.speed_bin', '10min_sample.direction_bin']).size()\n",
    "\n",
    "grouped = noise_campaign_data.groupby(['10min_sample.speed_bin', '10min_sample.direction_bin'], as_index=False).count().reset_index()[['10min_sample.speed_bin', '10min_sample.direction_bin', \"Time\"]]\n",
    "\n",
    "grouped"
   ]
  },
  {
   "cell_type": "code",
   "execution_count": 95,
   "id": "embedded-artwork",
   "metadata": {},
   "outputs": [],
   "source": [
    "filtered = grouped[grouped['Time'] > 2].copy()\n",
    "filtered['diff'] = filtered['Time'] - 2\n",
    "wrong_stops_counts = filtered['diff'].sum()"
   ]
  },
  {
   "cell_type": "code",
   "execution_count": 96,
   "id": "latter-addiction",
   "metadata": {},
   "outputs": [
    {
     "data": {
      "text/plain": [
       "160"
      ]
     },
     "execution_count": 96,
     "metadata": {},
     "output_type": "execute_result"
    }
   ],
   "source": [
    "wrong_stops_counts"
   ]
  },
  {
   "cell_type": "code",
   "execution_count": 97,
   "id": "champion-highland",
   "metadata": {},
   "outputs": [
    {
     "data": {
      "text/plain": [
       "319"
      ]
     },
     "execution_count": 97,
     "metadata": {},
     "output_type": "execute_result"
    }
   ],
   "source": [
    "total_stops = grouped['Time'].sum()\n",
    "total_stops"
   ]
  },
  {
   "cell_type": "code",
   "execution_count": 98,
   "id": "conservative-authentication",
   "metadata": {},
   "outputs": [],
   "source": [
    "wrong_stopped_hours = (wrong_stops_counts * 10) / 60\n",
    "total_stopped_hours = (total_stops * 10) / 60"
   ]
  },
  {
   "cell_type": "code",
   "execution_count": 99,
   "id": "australian-leave",
   "metadata": {},
   "outputs": [
    {
     "data": {
      "text/plain": [
       "26.666666666666668"
      ]
     },
     "execution_count": 99,
     "metadata": {},
     "output_type": "execute_result"
    }
   ],
   "source": [
    "wrong_stopped_hours"
   ]
  },
  {
   "cell_type": "code",
   "execution_count": 100,
   "id": "golden-sodium",
   "metadata": {},
   "outputs": [
    {
     "data": {
      "text/plain": [
       "53.166666666666664"
      ]
     },
     "execution_count": 100,
     "metadata": {},
     "output_type": "execute_result"
    }
   ],
   "source": [
    "total_stopped_hours"
   ]
  },
  {
   "cell_type": "code",
   "execution_count": 101,
   "id": "bridal-alloy",
   "metadata": {},
   "outputs": [
    {
     "data": {
      "text/plain": [
       "50.15673981191223"
      ]
     },
     "execution_count": 101,
     "metadata": {},
     "output_type": "execute_result"
    }
   ],
   "source": [
    "wrong_percentage = wrong_stopped_hours / total_stopped_hours * 100\n",
    "wrong_percentage"
   ]
  },
  {
   "cell_type": "code",
   "execution_count": 102,
   "id": "scheduled-tractor",
   "metadata": {},
   "outputs": [
    {
     "data": {
      "text/plain": [
       "datetime.datetime(2020, 12, 26, 18, 43, 12)"
      ]
     },
     "execution_count": 102,
     "metadata": {},
     "output_type": "execute_result"
    }
   ],
   "source": [
    "import datetime as dt\n",
    "\n",
    "minimum = dt.datetime.strptime(\n",
    "        noise_campaign_data['Time'].min(), \"%Y-%m-%d %H:%M:%S\"\n",
    "    )\n",
    "minimum"
   ]
  },
  {
   "cell_type": "code",
   "execution_count": 103,
   "id": "lucky-wisconsin",
   "metadata": {},
   "outputs": [
    {
     "data": {
      "text/plain": [
       "datetime.datetime(2021, 1, 13, 8, 15, 16)"
      ]
     },
     "execution_count": 103,
     "metadata": {},
     "output_type": "execute_result"
    }
   ],
   "source": [
    "maximum = dt.datetime.strptime(\n",
    "        noise_campaign_data['Time'].max(), \"%Y-%m-%d %H:%M:%S\"\n",
    "    )\n",
    "maximum"
   ]
  },
  {
   "cell_type": "code",
   "execution_count": 104,
   "id": "approximate-branch",
   "metadata": {},
   "outputs": [],
   "source": [
    "scada_data = pd.read_csv(\"C:\\\\Users\\\\hanna\\\\Documents\\\\GitHub\\\\dissertation\\\\single_turbine_varda.csv\", delimiter=',')\n",
    "scada_data['timestamp'] =  pd.to_datetime(scada_data['timestamp'], format='%Y-%m-%d %H:%M:%S')"
   ]
  },
  {
   "cell_type": "code",
   "execution_count": 105,
   "id": "animal-nickel",
   "metadata": {},
   "outputs": [
    {
     "name": "stderr",
     "output_type": "stream",
     "text": [
      "<ipython-input-105-3cfbb2c16d08>:1: UserWarning: Boolean Series key will be reindexed to match DataFrame index.\n",
      "  filtered_scada = scada_data[(scada_data['timestamp'] <= maximum)][(scada_data['timestamp'] >= minimum)]\n"
     ]
    }
   ],
   "source": [
    "filtered_scada = scada_data[(scada_data['timestamp'] <= maximum)][(scada_data['timestamp'] >= minimum)]"
   ]
  },
  {
   "cell_type": "code",
   "execution_count": 106,
   "id": "northern-tunnel",
   "metadata": {},
   "outputs": [],
   "source": [
    "filtered_scada.index = filtered_scada['timestamp']"
   ]
  },
  {
   "cell_type": "code",
   "execution_count": 107,
   "id": "unknown-spirituality",
   "metadata": {},
   "outputs": [],
   "source": [
    "resampled = filtered_scada.resample('10min', origin='start').mean()"
   ]
  },
  {
   "cell_type": "code",
   "execution_count": 108,
   "id": "invisible-alpha",
   "metadata": {},
   "outputs": [
    {
     "data": {
      "text/html": [
       "<div>\n",
       "<style scoped>\n",
       "    .dataframe tbody tr th:only-of-type {\n",
       "        vertical-align: middle;\n",
       "    }\n",
       "\n",
       "    .dataframe tbody tr th {\n",
       "        vertical-align: top;\n",
       "    }\n",
       "\n",
       "    .dataframe thead th {\n",
       "        text-align: right;\n",
       "    }\n",
       "</style>\n",
       "<table border=\"1\" class=\"dataframe\">\n",
       "  <thead>\n",
       "    <tr style=\"text-align: right;\">\n",
       "      <th></th>\n",
       "      <th>Unnamed: 0</th>\n",
       "      <th>wind_speed</th>\n",
       "      <th>wind_direction</th>\n",
       "    </tr>\n",
       "    <tr>\n",
       "      <th>timestamp</th>\n",
       "      <th></th>\n",
       "      <th></th>\n",
       "      <th></th>\n",
       "    </tr>\n",
       "  </thead>\n",
       "  <tbody>\n",
       "    <tr>\n",
       "      <th>2020-12-26 18:43:12.579</th>\n",
       "      <td>5771.5</td>\n",
       "      <td>14.160</td>\n",
       "      <td>198.600000</td>\n",
       "    </tr>\n",
       "    <tr>\n",
       "      <th>2020-12-26 18:53:12.579</th>\n",
       "      <td>5911.5</td>\n",
       "      <td>12.060</td>\n",
       "      <td>195.914999</td>\n",
       "    </tr>\n",
       "    <tr>\n",
       "      <th>2020-12-26 19:03:12.579</th>\n",
       "      <td>6051.5</td>\n",
       "      <td>11.615</td>\n",
       "      <td>191.405001</td>\n",
       "    </tr>\n",
       "    <tr>\n",
       "      <th>2020-12-26 19:13:12.579</th>\n",
       "      <td>6191.5</td>\n",
       "      <td>11.805</td>\n",
       "      <td>189.710001</td>\n",
       "    </tr>\n",
       "    <tr>\n",
       "      <th>2020-12-26 19:23:12.579</th>\n",
       "      <td>6331.5</td>\n",
       "      <td>10.810</td>\n",
       "      <td>192.864999</td>\n",
       "    </tr>\n",
       "    <tr>\n",
       "      <th>...</th>\n",
       "      <td>...</td>\n",
       "      <td>...</td>\n",
       "      <td>...</td>\n",
       "    </tr>\n",
       "    <tr>\n",
       "      <th>2021-01-13 07:33:12.579</th>\n",
       "      <td>359159.5</td>\n",
       "      <td>5.795</td>\n",
       "      <td>18.980000</td>\n",
       "    </tr>\n",
       "    <tr>\n",
       "      <th>2021-01-13 07:43:12.579</th>\n",
       "      <td>359299.5</td>\n",
       "      <td>6.690</td>\n",
       "      <td>19.665000</td>\n",
       "    </tr>\n",
       "    <tr>\n",
       "      <th>2021-01-13 07:53:12.579</th>\n",
       "      <td>359439.5</td>\n",
       "      <td>7.110</td>\n",
       "      <td>15.950000</td>\n",
       "    </tr>\n",
       "    <tr>\n",
       "      <th>2021-01-13 08:03:12.579</th>\n",
       "      <td>359579.5</td>\n",
       "      <td>7.110</td>\n",
       "      <td>23.070000</td>\n",
       "    </tr>\n",
       "    <tr>\n",
       "      <th>2021-01-13 08:13:12.579</th>\n",
       "      <td>359663.5</td>\n",
       "      <td>7.350</td>\n",
       "      <td>32.625000</td>\n",
       "    </tr>\n",
       "  </tbody>\n",
       "</table>\n",
       "<p>2530 rows × 3 columns</p>\n",
       "</div>"
      ],
      "text/plain": [
       "                         Unnamed: 0  wind_speed  wind_direction\n",
       "timestamp                                                      \n",
       "2020-12-26 18:43:12.579      5771.5      14.160      198.600000\n",
       "2020-12-26 18:53:12.579      5911.5      12.060      195.914999\n",
       "2020-12-26 19:03:12.579      6051.5      11.615      191.405001\n",
       "2020-12-26 19:13:12.579      6191.5      11.805      189.710001\n",
       "2020-12-26 19:23:12.579      6331.5      10.810      192.864999\n",
       "...                             ...         ...             ...\n",
       "2021-01-13 07:33:12.579    359159.5       5.795       18.980000\n",
       "2021-01-13 07:43:12.579    359299.5       6.690       19.665000\n",
       "2021-01-13 07:53:12.579    359439.5       7.110       15.950000\n",
       "2021-01-13 08:03:12.579    359579.5       7.110       23.070000\n",
       "2021-01-13 08:13:12.579    359663.5       7.350       32.625000\n",
       "\n",
       "[2530 rows x 3 columns]"
      ]
     },
     "execution_count": 108,
     "metadata": {},
     "output_type": "execute_result"
    }
   ],
   "source": [
    "resampled"
   ]
  },
  {
   "cell_type": "code",
   "execution_count": null,
   "id": "broadband-season",
   "metadata": {},
   "outputs": [],
   "source": []
  },
  {
   "cell_type": "code",
   "execution_count": null,
   "id": "favorite-diploma",
   "metadata": {},
   "outputs": [],
   "source": []
  }
 ],
 "metadata": {
  "kernelspec": {
   "display_name": "Python 3",
   "language": "python",
   "name": "python3"
  },
  "language_info": {
   "codemirror_mode": {
    "name": "ipython",
    "version": 3
   },
   "file_extension": ".py",
   "mimetype": "text/x-python",
   "name": "python",
   "nbconvert_exporter": "python",
   "pygments_lexer": "ipython3",
   "version": "3.8.6"
  }
 },
 "nbformat": 4,
 "nbformat_minor": 5
}
