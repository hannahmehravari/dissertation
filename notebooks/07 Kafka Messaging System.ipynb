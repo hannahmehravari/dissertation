{
 "cells": [
  {
   "cell_type": "code",
   "execution_count": 9,
   "metadata": {},
   "outputs": [],
   "source": [
    "from time import sleep\n",
    "from json import dumps\n",
    "from kafka import KafkaProducer\n",
    "import pandas as pd\n",
    "import json\n",
    "\n",
    "producer = KafkaProducer(bootstrap_servers=['localhost:9092'],\n",
    "                         value_serializer=lambda x: \n",
    "                         dumps(x).encode('utf-8'))\n"
   ]
  },
  {
   "cell_type": "code",
   "execution_count": 18,
   "metadata": {},
   "outputs": [
    {
     "ename": "KeyboardInterrupt",
     "evalue": "",
     "output_type": "error",
     "traceback": [
      "\u001b[1;31m---------------------------------------------------------------------------\u001b[0m",
      "\u001b[1;31mKeyboardInterrupt\u001b[0m                         Traceback (most recent call last)",
      "\u001b[1;32m<ipython-input-18-ea12a2027076>\u001b[0m in \u001b[0;36m<module>\u001b[1;34m\u001b[0m\n\u001b[0;32m     13\u001b[0m     \u001b[0mdata\u001b[0m \u001b[1;33m=\u001b[0m \u001b[0mjson\u001b[0m\u001b[1;33m.\u001b[0m\u001b[0mloads\u001b[0m\u001b[1;33m(\u001b[0m\u001b[0mresult\u001b[0m\u001b[1;33m)\u001b[0m\u001b[1;33m\u001b[0m\u001b[1;33m\u001b[0m\u001b[0m\n\u001b[0;32m     14\u001b[0m     \u001b[0mproducer\u001b[0m\u001b[1;33m.\u001b[0m\u001b[0msend\u001b[0m\u001b[1;33m(\u001b[0m\u001b[1;34m'SMARTStop'\u001b[0m\u001b[1;33m,\u001b[0m \u001b[0mvalue\u001b[0m\u001b[1;33m=\u001b[0m\u001b[0mdata\u001b[0m\u001b[1;33m)\u001b[0m\u001b[1;33m\u001b[0m\u001b[1;33m\u001b[0m\u001b[0m\n\u001b[1;32m---> 15\u001b[1;33m     \u001b[0msleep\u001b[0m\u001b[1;33m(\u001b[0m\u001b[1;36m15\u001b[0m\u001b[1;33m)\u001b[0m\u001b[1;33m\u001b[0m\u001b[1;33m\u001b[0m\u001b[0m\n\u001b[0m",
      "\u001b[1;31mKeyboardInterrupt\u001b[0m: "
     ]
    }
   ],
   "source": [
    "local_path = 'C:\\\\Users\\\\hanna\\\\Desktop\\\\data\\\\ScadaData.txt'\n",
    "scada_data = pd.read_csv(local_path, delimiter='\\t',  parse_dates=True)\n",
    "scada_data['dtTimeStamp'] = pd.to_datetime(scada_data['dtTimeStamp'])\n",
    "start_index = 0\n",
    "turbine_names = scada_data['intObjectId'].unique()[0:2]\n",
    "filtered = scada_data[scada_data['intObjectId'].isin(turbine_names)]\n",
    "number_of_turbines = len(turbine_names)\n",
    "for e in range(0,int(len(scada_data)/number_of_turbines)):\n",
    "    df_slice = filtered[start_index:start_index+number_of_turbines]\n",
    "    df_slice.set_index('intObjectId', inplace=True)\n",
    "    start_index += number_of_turbines  \n",
    "    result = df_slice.to_json(orient=\"index\", date_format='iso')\n",
    "    data = json.loads(result)     \n",
    "    producer.send('SMARTStop', value=data)\n",
    "    sleep(15)\n"
   ]
  },
  {
   "cell_type": "code",
   "execution_count": 20,
   "metadata": {},
   "outputs": [],
   "source": [
    "from kafka import KafkaConsumer\n",
    "from json import loads\n",
    "\n",
    "consumer = KafkaConsumer(\n",
    "    'SMARTStop',\n",
    "     bootstrap_servers=['localhost:9092'],\n",
    "     auto_offset_reset='earliest',\n",
    "     enable_auto_commit=True,\n",
    "     group_id='my-group',\n",
    "     value_deserializer=lambda x: loads(x.decode('utf-8')))"
   ]
  },
  {
   "cell_type": "code",
   "execution_count": 21,
   "metadata": {},
   "outputs": [
    {
     "name": "stdout",
     "output_type": "stream",
     "text": [
      "{'1748': {'dtTimeStamp': 1564617600000, 'ActivePowerMean': -7.2, 'WindDirectionMean': 89.4, 'WindSpeedMean': 3.0}, '1749': {'dtTimeStamp': 1564617600000, 'ActivePowerMean': -12.0, 'WindDirectionMean': 60.6, 'WindSpeedMean': 3.0}}\n",
      "{'1748': {'dtTimeStamp': 1564618200000, 'ActivePowerMean': -7.1, 'WindDirectionMean': 90.5, 'WindSpeedMean': 3.2}, '1749': {'dtTimeStamp': 1564618200000, 'ActivePowerMean': -11.8, 'WindDirectionMean': 88.3, 'WindSpeedMean': 3.5}}\n",
      "{'1748': {'dtTimeStamp': 1564618800000, 'ActivePowerMean': 66.8, 'WindDirectionMean': 90.6, 'WindSpeedMean': 4.7}, '1749': {'dtTimeStamp': 1564618800000, 'ActivePowerMean': 117.1, 'WindDirectionMean': 73.6, 'WindSpeedMean': 4.8}}\n",
      "{'1748': {'dtTimeStamp': 1564619400000, 'ActivePowerMean': 357.9, 'WindDirectionMean': 75.3, 'WindSpeedMean': 6.0}, '1749': {'dtTimeStamp': 1564619400000, 'ActivePowerMean': 340.7, 'WindDirectionMean': 64.7, 'WindSpeedMean': 6.2}}\n",
      "{'1748': {'dtTimeStamp': 1564620000000, 'ActivePowerMean': 389.1, 'WindDirectionMean': 73.2, 'WindSpeedMean': 6.2}, '1749': {'dtTimeStamp': 1564620000000, 'ActivePowerMean': 371.0, 'WindDirectionMean': 61.2, 'WindSpeedMean': 6.3}}\n",
      "{'1748': {'dtTimeStamp': 1564620600000, 'ActivePowerMean': 375.4, 'WindDirectionMean': 71.6, 'WindSpeedMean': 5.8}, '1749': {'dtTimeStamp': 1564620600000, 'ActivePowerMean': 353.3, 'WindDirectionMean': 60.7, 'WindSpeedMean': 6.2}}\n",
      "{'1748': {'dtTimeStamp': 1564621200000, 'ActivePowerMean': 368.3, 'WindDirectionMean': 73.8, 'WindSpeedMean': 5.6}, '1749': {'dtTimeStamp': 1564621200000, 'ActivePowerMean': 354.0, 'WindDirectionMean': 63.3, 'WindSpeedMean': 6.1}}\n",
      "{'1748': {'dtTimeStamp': 1564621800000, 'ActivePowerMean': 391.2, 'WindDirectionMean': 79.2, 'WindSpeedMean': 5.7}, '1749': {'dtTimeStamp': 1564621800000, 'ActivePowerMean': 361.6, 'WindDirectionMean': 67.7, 'WindSpeedMean': 6.0}}\n",
      "{'1748': {'dtTimeStamp': 1564622400000, 'ActivePowerMean': 394.3, 'WindDirectionMean': 80.1, 'WindSpeedMean': 5.7}, '1749': {'dtTimeStamp': 1564622400000, 'ActivePowerMean': 367.7, 'WindDirectionMean': 68.7, 'WindSpeedMean': 5.8}}\n",
      "{'1748': {'dtTimeStamp': 1564623000000, 'ActivePowerMean': 337.5, 'WindDirectionMean': 80.4, 'WindSpeedMean': 5.4}, '1749': {'dtTimeStamp': 1564623000000, 'ActivePowerMean': 330.1, 'WindDirectionMean': 70.8, 'WindSpeedMean': 6.0}}\n",
      "{'1748': {'dtTimeStamp': 1564623600000, 'ActivePowerMean': 311.8, 'WindDirectionMean': 80.0, 'WindSpeedMean': 5.3}, '1749': {'dtTimeStamp': 1564623600000, 'ActivePowerMean': 291.1, 'WindDirectionMean': 70.8, 'WindSpeedMean': 5.9}}\n",
      "{'1748': {'dtTimeStamp': 1564624200000, 'ActivePowerMean': 309.3, 'WindDirectionMean': 78.0, 'WindSpeedMean': 5.5}, '1749': {'dtTimeStamp': 1564624200000, 'ActivePowerMean': 297.9, 'WindDirectionMean': 67.7, 'WindSpeedMean': 5.8}}\n",
      "{'1748': {'dtTimeStamp': 1564624800000, 'ActivePowerMean': 348.6, 'WindDirectionMean': 78.3, 'WindSpeedMean': 5.7}, '1749': {'dtTimeStamp': 1564624800000, 'ActivePowerMean': 331.5, 'WindDirectionMean': 68.0, 'WindSpeedMean': 6.0}}\n",
      "{'1748': {'dtTimeStamp': 1564625400000, 'ActivePowerMean': 421.4, 'WindDirectionMean': 79.1, 'WindSpeedMean': 6.1}, '1749': {'dtTimeStamp': 1564625400000, 'ActivePowerMean': 406.3, 'WindDirectionMean': 69.2, 'WindSpeedMean': 6.2}}\n",
      "{'1748': {'dtTimeStamp': '2019-08-01T00:00:00.000Z', 'ActivePowerMean': -7.2, 'WindDirectionMean': 89.4, 'WindSpeedMean': 3.0}, '1749': {'dtTimeStamp': '2019-08-01T00:00:00.000Z', 'ActivePowerMean': -12.0, 'WindDirectionMean': 60.6, 'WindSpeedMean': 3.0}}\n",
      "{'1748': {'dtTimeStamp': '2019-08-01T00:10:00.000Z', 'ActivePowerMean': -7.1, 'WindDirectionMean': 90.5, 'WindSpeedMean': 3.2}, '1749': {'dtTimeStamp': '2019-08-01T00:10:00.000Z', 'ActivePowerMean': -11.8, 'WindDirectionMean': 88.3, 'WindSpeedMean': 3.5}}\n",
      "{'1748': {'dtTimeStamp': '2019-08-01T00:20:00.000Z', 'ActivePowerMean': 66.8, 'WindDirectionMean': 90.6, 'WindSpeedMean': 4.7}, '1749': {'dtTimeStamp': '2019-08-01T00:20:00.000Z', 'ActivePowerMean': 117.1, 'WindDirectionMean': 73.6, 'WindSpeedMean': 4.8}}\n",
      "{'1748': {'dtTimeStamp': '2019-08-01T00:30:00.000Z', 'ActivePowerMean': 357.9, 'WindDirectionMean': 75.3, 'WindSpeedMean': 6.0}, '1749': {'dtTimeStamp': '2019-08-01T00:30:00.000Z', 'ActivePowerMean': 340.7, 'WindDirectionMean': 64.7, 'WindSpeedMean': 6.2}}\n",
      "{'1748': {'dtTimeStamp': '2019-08-01T00:40:00.000Z', 'ActivePowerMean': 389.1, 'WindDirectionMean': 73.2, 'WindSpeedMean': 6.2}, '1749': {'dtTimeStamp': '2019-08-01T00:40:00.000Z', 'ActivePowerMean': 371.0, 'WindDirectionMean': 61.2, 'WindSpeedMean': 6.3}}\n",
      "{'1748': {'dtTimeStamp': '2019-08-01T00:50:00.000Z', 'ActivePowerMean': 375.4, 'WindDirectionMean': 71.6, 'WindSpeedMean': 5.8}, '1749': {'dtTimeStamp': '2019-08-01T00:50:00.000Z', 'ActivePowerMean': 353.3, 'WindDirectionMean': 60.7, 'WindSpeedMean': 6.2}}\n",
      "{'1748': {'dtTimeStamp': '2019-08-01T01:00:00.000Z', 'ActivePowerMean': 368.3, 'WindDirectionMean': 73.8, 'WindSpeedMean': 5.6}, '1749': {'dtTimeStamp': '2019-08-01T01:00:00.000Z', 'ActivePowerMean': 354.0, 'WindDirectionMean': 63.3, 'WindSpeedMean': 6.1}}\n",
      "{'1748': {'dtTimeStamp': '2019-08-01T01:10:00.000Z', 'ActivePowerMean': 391.2, 'WindDirectionMean': 79.2, 'WindSpeedMean': 5.7}, '1749': {'dtTimeStamp': '2019-08-01T01:10:00.000Z', 'ActivePowerMean': 361.6, 'WindDirectionMean': 67.7, 'WindSpeedMean': 6.0}}\n",
      "{'1748': {'dtTimeStamp': '2019-08-01T01:20:00.000Z', 'ActivePowerMean': 394.3, 'WindDirectionMean': 80.1, 'WindSpeedMean': 5.7}, '1749': {'dtTimeStamp': '2019-08-01T01:20:00.000Z', 'ActivePowerMean': 367.7, 'WindDirectionMean': 68.7, 'WindSpeedMean': 5.8}}\n",
      "{'1748': {'dtTimeStamp': '2019-08-01T01:30:00.000Z', 'ActivePowerMean': 337.5, 'WindDirectionMean': 80.4, 'WindSpeedMean': 5.4}, '1749': {'dtTimeStamp': '2019-08-01T01:30:00.000Z', 'ActivePowerMean': 330.1, 'WindDirectionMean': 70.8, 'WindSpeedMean': 6.0}}\n",
      "{'1748': {'dtTimeStamp': '2019-08-01T01:40:00.000Z', 'ActivePowerMean': 311.8, 'WindDirectionMean': 80.0, 'WindSpeedMean': 5.3}, '1749': {'dtTimeStamp': '2019-08-01T01:40:00.000Z', 'ActivePowerMean': 291.1, 'WindDirectionMean': 70.8, 'WindSpeedMean': 5.9}}\n",
      "{'1748': {'dtTimeStamp': '2019-08-01T01:50:00.000Z', 'ActivePowerMean': 309.3, 'WindDirectionMean': 78.0, 'WindSpeedMean': 5.5}, '1749': {'dtTimeStamp': '2019-08-01T01:50:00.000Z', 'ActivePowerMean': 297.9, 'WindDirectionMean': 67.7, 'WindSpeedMean': 5.8}}\n",
      "{'1748': {'dtTimeStamp': '2019-08-01T02:00:00.000Z', 'ActivePowerMean': 348.6, 'WindDirectionMean': 78.3, 'WindSpeedMean': 5.7}, '1749': {'dtTimeStamp': '2019-08-01T02:00:00.000Z', 'ActivePowerMean': 331.5, 'WindDirectionMean': 68.0, 'WindSpeedMean': 6.0}}\n",
      "{'1748': {'dtTimeStamp': '2019-08-01T02:10:00.000Z', 'ActivePowerMean': 421.4, 'WindDirectionMean': 79.1, 'WindSpeedMean': 6.1}, '1749': {'dtTimeStamp': '2019-08-01T02:10:00.000Z', 'ActivePowerMean': 406.3, 'WindDirectionMean': 69.2, 'WindSpeedMean': 6.2}}\n",
      "{'1748': {'dtTimeStamp': '2019-08-01T02:20:00.000Z', 'ActivePowerMean': 472.8, 'WindDirectionMean': 77.9, 'WindSpeedMean': 6.4}, '1749': {'dtTimeStamp': '2019-08-01T02:20:00.000Z', 'ActivePowerMean': 463.6, 'WindDirectionMean': 67.5, 'WindSpeedMean': 6.7}}\n",
      "{'1748': {'dtTimeStamp': '2019-08-01T02:30:00.000Z', 'ActivePowerMean': 480.5, 'WindDirectionMean': 79.7, 'WindSpeedMean': 6.3}, '1749': {'dtTimeStamp': '2019-08-01T02:30:00.000Z', 'ActivePowerMean': 459.7, 'WindDirectionMean': 69.1, 'WindSpeedMean': 6.7}}\n",
      "{'1748': {'dtTimeStamp': '2019-08-01T02:40:00.000Z', 'ActivePowerMean': 545.1, 'WindDirectionMean': 79.3, 'WindSpeedMean': 6.6}, '1749': {'dtTimeStamp': '2019-08-01T02:40:00.000Z', 'ActivePowerMean': 482.6, 'WindDirectionMean': 69.0, 'WindSpeedMean': 6.9}}\n",
      "{'1748': {'dtTimeStamp': '2019-08-01T02:50:00.000Z', 'ActivePowerMean': 605.6, 'WindDirectionMean': 78.2, 'WindSpeedMean': 6.9}, '1749': {'dtTimeStamp': '2019-08-01T02:50:00.000Z', 'ActivePowerMean': 431.2, 'WindDirectionMean': 67.5, 'WindSpeedMean': 7.2}}\n",
      "{'1748': {'dtTimeStamp': '2019-08-01T03:00:00.000Z', 'ActivePowerMean': 637.4, 'WindDirectionMean': 80.9, 'WindSpeedMean': 6.9}, '1749': {'dtTimeStamp': '2019-08-01T03:00:00.000Z', 'ActivePowerMean': 443.3, 'WindDirectionMean': 72.2, 'WindSpeedMean': 7.1}}\n",
      "{'1748': {'dtTimeStamp': '2019-08-01T03:10:00.000Z', 'ActivePowerMean': 637.6, 'WindDirectionMean': 80.3, 'WindSpeedMean': 6.8}, '1749': {'dtTimeStamp': '2019-08-01T03:10:00.000Z', 'ActivePowerMean': 463.9, 'WindDirectionMean': 71.1, 'WindSpeedMean': 7.3}}\n",
      "{'1748': {'dtTimeStamp': '2019-08-01T03:20:00.000Z', 'ActivePowerMean': 575.5, 'WindDirectionMean': 82.4, 'WindSpeedMean': 6.2}, '1749': {'dtTimeStamp': '2019-08-01T03:20:00.000Z', 'ActivePowerMean': 497.7, 'WindDirectionMean': 75.1, 'WindSpeedMean': 6.8}}\n",
      "{'1748': {'dtTimeStamp': '2019-08-01T03:30:00.000Z', 'ActivePowerMean': 574.7, 'WindDirectionMean': 82.0, 'WindSpeedMean': 6.4}, '1749': {'dtTimeStamp': '2019-08-01T03:30:00.000Z', 'ActivePowerMean': 469.2, 'WindDirectionMean': 75.6, 'WindSpeedMean': 7.1}}\n",
      "{'1748': {'dtTimeStamp': '2019-08-01T03:40:00.000Z', 'ActivePowerMean': 592.8, 'WindDirectionMean': 80.0, 'WindSpeedMean': 6.6}, '1749': {'dtTimeStamp': '2019-08-01T03:40:00.000Z', 'ActivePowerMean': 418.1, 'WindDirectionMean': 72.9, 'WindSpeedMean': 7.1}}\n",
      "{'1748': {'dtTimeStamp': '2019-08-01T03:50:00.000Z', 'ActivePowerMean': 609.6, 'WindDirectionMean': 79.7, 'WindSpeedMean': 6.7}, '1749': {'dtTimeStamp': '2019-08-01T03:50:00.000Z', 'ActivePowerMean': 435.5, 'WindDirectionMean': 71.2, 'WindSpeedMean': 7.2}}\n",
      "{'1748': {'dtTimeStamp': '2019-08-01T04:00:00.000Z', 'ActivePowerMean': 530.2, 'WindDirectionMean': 81.4, 'WindSpeedMean': 6.4}, '1749': {'dtTimeStamp': '2019-08-01T04:00:00.000Z', 'ActivePowerMean': 400.9, 'WindDirectionMean': 72.0, 'WindSpeedMean': 6.9}}\n",
      "{'1748': {'dtTimeStamp': '2019-08-01T04:10:00.000Z', 'ActivePowerMean': 443.3, 'WindDirectionMean': 82.2, 'WindSpeedMean': 6.1}, '1749': {'dtTimeStamp': '2019-08-01T04:10:00.000Z', 'ActivePowerMean': 351.1, 'WindDirectionMean': 71.8, 'WindSpeedMean': 6.7}}\n",
      "{'1748': {'dtTimeStamp': '2019-08-01T04:20:00.000Z', 'ActivePowerMean': 365.0, 'WindDirectionMean': 87.1, 'WindSpeedMean': 5.7}, '1749': {'dtTimeStamp': '2019-08-01T04:20:00.000Z', 'ActivePowerMean': 381.8, 'WindDirectionMean': 74.6, 'WindSpeedMean': 6.2}}\n",
      "{'1748': {'dtTimeStamp': '2019-08-01T04:30:00.000Z', 'ActivePowerMean': 401.1, 'WindDirectionMean': 87.2, 'WindSpeedMean': 6.1}, '1749': {'dtTimeStamp': '2019-08-01T04:30:00.000Z', 'ActivePowerMean': 368.3, 'WindDirectionMean': 77.4, 'WindSpeedMean': 5.9}}\n",
      "{'1748': {'dtTimeStamp': '2019-08-01T04:40:00.000Z', 'ActivePowerMean': 425.7, 'WindDirectionMean': 85.9, 'WindSpeedMean': 6.3}, '1749': {'dtTimeStamp': '2019-08-01T04:40:00.000Z', 'ActivePowerMean': 404.7, 'WindDirectionMean': 76.6, 'WindSpeedMean': 6.6}}\n",
      "{'1748': {'dtTimeStamp': '2019-08-01T04:50:00.000Z', 'ActivePowerMean': 430.4, 'WindDirectionMean': 83.5, 'WindSpeedMean': 6.4}, '1749': {'dtTimeStamp': '2019-08-01T04:50:00.000Z', 'ActivePowerMean': 412.6, 'WindDirectionMean': 72.9, 'WindSpeedMean': 6.5}}\n",
      "{'1748': {'dtTimeStamp': '2019-08-01T05:00:00.000Z', 'ActivePowerMean': 425.5, 'WindDirectionMean': 83.5, 'WindSpeedMean': 6.3}, '1749': {'dtTimeStamp': '2019-08-01T05:00:00.000Z', 'ActivePowerMean': 399.8, 'WindDirectionMean': 73.0, 'WindSpeedMean': 6.4}}\n",
      "{'1748': {'dtTimeStamp': '2019-08-01T05:10:00.000Z', 'ActivePowerMean': 465.3, 'WindDirectionMean': 83.4, 'WindSpeedMean': 6.6}, '1749': {'dtTimeStamp': '2019-08-01T05:10:00.000Z', 'ActivePowerMean': 456.2, 'WindDirectionMean': 72.0, 'WindSpeedMean': 6.5}}\n",
      "{'1748': {'dtTimeStamp': '2019-08-01T05:20:00.000Z', 'ActivePowerMean': 434.5, 'WindDirectionMean': 84.3, 'WindSpeedMean': 6.2}, '1749': {'dtTimeStamp': '2019-08-01T05:20:00.000Z', 'ActivePowerMean': 439.2, 'WindDirectionMean': 72.3, 'WindSpeedMean': 6.5}}\n",
      "{'1748': {'dtTimeStamp': '2019-08-01T00:00:00.000Z', 'ActivePowerMean': -7.2, 'WindDirectionMean': 89.4, 'WindSpeedMean': 3.0}, '1749': {'dtTimeStamp': '2019-08-01T00:00:00.000Z', 'ActivePowerMean': -12.0, 'WindDirectionMean': 60.6, 'WindSpeedMean': 3.0}}\n",
      "{'1748': {'dtTimeStamp': '2019-08-01T00:10:00.000Z', 'ActivePowerMean': -7.1, 'WindDirectionMean': 90.5, 'WindSpeedMean': 3.2}, '1749': {'dtTimeStamp': '2019-08-01T00:10:00.000Z', 'ActivePowerMean': -11.8, 'WindDirectionMean': 88.3, 'WindSpeedMean': 3.5}}\n",
      "{'1748': {'dtTimeStamp': '2019-08-01T00:20:00.000Z', 'ActivePowerMean': 66.8, 'WindDirectionMean': 90.6, 'WindSpeedMean': 4.7}, '1749': {'dtTimeStamp': '2019-08-01T00:20:00.000Z', 'ActivePowerMean': 117.1, 'WindDirectionMean': 73.6, 'WindSpeedMean': 4.8}}\n",
      "{'1748': {'dtTimeStamp': '2019-08-01T00:30:00.000Z', 'ActivePowerMean': 357.9, 'WindDirectionMean': 75.3, 'WindSpeedMean': 6.0}, '1749': {'dtTimeStamp': '2019-08-01T00:30:00.000Z', 'ActivePowerMean': 340.7, 'WindDirectionMean': 64.7, 'WindSpeedMean': 6.2}}\n",
      "{'1748': {'dtTimeStamp': '2019-08-01T00:40:00.000Z', 'ActivePowerMean': 389.1, 'WindDirectionMean': 73.2, 'WindSpeedMean': 6.2}, '1749': {'dtTimeStamp': '2019-08-01T00:40:00.000Z', 'ActivePowerMean': 371.0, 'WindDirectionMean': 61.2, 'WindSpeedMean': 6.3}}\n",
      "{'1748': {'dtTimeStamp': '2019-08-01T00:50:00.000Z', 'ActivePowerMean': 375.4, 'WindDirectionMean': 71.6, 'WindSpeedMean': 5.8}, '1749': {'dtTimeStamp': '2019-08-01T00:50:00.000Z', 'ActivePowerMean': 353.3, 'WindDirectionMean': 60.7, 'WindSpeedMean': 6.2}}\n",
      "{'1748': {'dtTimeStamp': '2019-08-01T01:00:00.000Z', 'ActivePowerMean': 368.3, 'WindDirectionMean': 73.8, 'WindSpeedMean': 5.6}, '1749': {'dtTimeStamp': '2019-08-01T01:00:00.000Z', 'ActivePowerMean': 354.0, 'WindDirectionMean': 63.3, 'WindSpeedMean': 6.1}}\n",
      "{'1748': {'dtTimeStamp': '2019-08-01T01:10:00.000Z', 'ActivePowerMean': 391.2, 'WindDirectionMean': 79.2, 'WindSpeedMean': 5.7}, '1749': {'dtTimeStamp': '2019-08-01T01:10:00.000Z', 'ActivePowerMean': 361.6, 'WindDirectionMean': 67.7, 'WindSpeedMean': 6.0}}\n"
     ]
    },
    {
     "name": "stdout",
     "output_type": "stream",
     "text": [
      "{'1748': {'dtTimeStamp': '2019-08-01T01:20:00.000Z', 'ActivePowerMean': 394.3, 'WindDirectionMean': 80.1, 'WindSpeedMean': 5.7}, '1749': {'dtTimeStamp': '2019-08-01T01:20:00.000Z', 'ActivePowerMean': 367.7, 'WindDirectionMean': 68.7, 'WindSpeedMean': 5.8}}\n",
      "{'1748': {'dtTimeStamp': '2019-08-01T01:30:00.000Z', 'ActivePowerMean': 337.5, 'WindDirectionMean': 80.4, 'WindSpeedMean': 5.4}, '1749': {'dtTimeStamp': '2019-08-01T01:30:00.000Z', 'ActivePowerMean': 330.1, 'WindDirectionMean': 70.8, 'WindSpeedMean': 6.0}}\n",
      "{'1748': {'dtTimeStamp': '2019-08-01T01:40:00.000Z', 'ActivePowerMean': 311.8, 'WindDirectionMean': 80.0, 'WindSpeedMean': 5.3}, '1749': {'dtTimeStamp': '2019-08-01T01:40:00.000Z', 'ActivePowerMean': 291.1, 'WindDirectionMean': 70.8, 'WindSpeedMean': 5.9}}\n",
      "{'1748': {'dtTimeStamp': '2019-08-01T01:50:00.000Z', 'ActivePowerMean': 309.3, 'WindDirectionMean': 78.0, 'WindSpeedMean': 5.5}, '1749': {'dtTimeStamp': '2019-08-01T01:50:00.000Z', 'ActivePowerMean': 297.9, 'WindDirectionMean': 67.7, 'WindSpeedMean': 5.8}}\n",
      "{'1748': {'dtTimeStamp': '2019-08-01T02:00:00.000Z', 'ActivePowerMean': 348.6, 'WindDirectionMean': 78.3, 'WindSpeedMean': 5.7}, '1749': {'dtTimeStamp': '2019-08-01T02:00:00.000Z', 'ActivePowerMean': 331.5, 'WindDirectionMean': 68.0, 'WindSpeedMean': 6.0}}\n",
      "{'1748': {'dtTimeStamp': '2019-08-01T02:10:00.000Z', 'ActivePowerMean': 421.4, 'WindDirectionMean': 79.1, 'WindSpeedMean': 6.1}, '1749': {'dtTimeStamp': '2019-08-01T02:10:00.000Z', 'ActivePowerMean': 406.3, 'WindDirectionMean': 69.2, 'WindSpeedMean': 6.2}}\n",
      "{'1748': {'dtTimeStamp': '2019-08-01T02:20:00.000Z', 'ActivePowerMean': 472.8, 'WindDirectionMean': 77.9, 'WindSpeedMean': 6.4}, '1749': {'dtTimeStamp': '2019-08-01T02:20:00.000Z', 'ActivePowerMean': 463.6, 'WindDirectionMean': 67.5, 'WindSpeedMean': 6.7}}\n",
      "{'1748': {'dtTimeStamp': '2019-08-01T02:30:00.000Z', 'ActivePowerMean': 480.5, 'WindDirectionMean': 79.7, 'WindSpeedMean': 6.3}, '1749': {'dtTimeStamp': '2019-08-01T02:30:00.000Z', 'ActivePowerMean': 459.7, 'WindDirectionMean': 69.1, 'WindSpeedMean': 6.7}}\n",
      "{'1748': {'dtTimeStamp': '2019-08-01T02:40:00.000Z', 'ActivePowerMean': 545.1, 'WindDirectionMean': 79.3, 'WindSpeedMean': 6.6}, '1749': {'dtTimeStamp': '2019-08-01T02:40:00.000Z', 'ActivePowerMean': 482.6, 'WindDirectionMean': 69.0, 'WindSpeedMean': 6.9}}\n",
      "{'1748': {'dtTimeStamp': '2019-08-01T02:50:00.000Z', 'ActivePowerMean': 605.6, 'WindDirectionMean': 78.2, 'WindSpeedMean': 6.9}, '1749': {'dtTimeStamp': '2019-08-01T02:50:00.000Z', 'ActivePowerMean': 431.2, 'WindDirectionMean': 67.5, 'WindSpeedMean': 7.2}}\n",
      "{'1748': {'dtTimeStamp': '2019-08-01T03:00:00.000Z', 'ActivePowerMean': 637.4, 'WindDirectionMean': 80.9, 'WindSpeedMean': 6.9}, '1749': {'dtTimeStamp': '2019-08-01T03:00:00.000Z', 'ActivePowerMean': 443.3, 'WindDirectionMean': 72.2, 'WindSpeedMean': 7.1}}\n",
      "{'1748': {'dtTimeStamp': '2019-08-01T03:10:00.000Z', 'ActivePowerMean': 637.6, 'WindDirectionMean': 80.3, 'WindSpeedMean': 6.8}, '1749': {'dtTimeStamp': '2019-08-01T03:10:00.000Z', 'ActivePowerMean': 463.9, 'WindDirectionMean': 71.1, 'WindSpeedMean': 7.3}}\n",
      "{'1748': {'dtTimeStamp': '2019-08-01T03:20:00.000Z', 'ActivePowerMean': 575.5, 'WindDirectionMean': 82.4, 'WindSpeedMean': 6.2}, '1749': {'dtTimeStamp': '2019-08-01T03:20:00.000Z', 'ActivePowerMean': 497.7, 'WindDirectionMean': 75.1, 'WindSpeedMean': 6.8}}\n",
      "{'1748': {'dtTimeStamp': '2019-08-01T03:30:00.000Z', 'ActivePowerMean': 574.7, 'WindDirectionMean': 82.0, 'WindSpeedMean': 6.4}, '1749': {'dtTimeStamp': '2019-08-01T03:30:00.000Z', 'ActivePowerMean': 469.2, 'WindDirectionMean': 75.6, 'WindSpeedMean': 7.1}}\n",
      "{'1748': {'dtTimeStamp': '2019-08-01T03:40:00.000Z', 'ActivePowerMean': 592.8, 'WindDirectionMean': 80.0, 'WindSpeedMean': 6.6}, '1749': {'dtTimeStamp': '2019-08-01T03:40:00.000Z', 'ActivePowerMean': 418.1, 'WindDirectionMean': 72.9, 'WindSpeedMean': 7.1}}\n",
      "{'1748': {'dtTimeStamp': '2019-08-01T03:50:00.000Z', 'ActivePowerMean': 609.6, 'WindDirectionMean': 79.7, 'WindSpeedMean': 6.7}, '1749': {'dtTimeStamp': '2019-08-01T03:50:00.000Z', 'ActivePowerMean': 435.5, 'WindDirectionMean': 71.2, 'WindSpeedMean': 7.2}}\n",
      "{'1748': {'dtTimeStamp': '2019-08-01T04:00:00.000Z', 'ActivePowerMean': 530.2, 'WindDirectionMean': 81.4, 'WindSpeedMean': 6.4}, '1749': {'dtTimeStamp': '2019-08-01T04:00:00.000Z', 'ActivePowerMean': 400.9, 'WindDirectionMean': 72.0, 'WindSpeedMean': 6.9}}\n",
      "{'1748': {'dtTimeStamp': '2019-08-01T04:10:00.000Z', 'ActivePowerMean': 443.3, 'WindDirectionMean': 82.2, 'WindSpeedMean': 6.1}, '1749': {'dtTimeStamp': '2019-08-01T04:10:00.000Z', 'ActivePowerMean': 351.1, 'WindDirectionMean': 71.8, 'WindSpeedMean': 6.7}}\n",
      "{'1748': {'dtTimeStamp': '2019-08-01T04:20:00.000Z', 'ActivePowerMean': 365.0, 'WindDirectionMean': 87.1, 'WindSpeedMean': 5.7}, '1749': {'dtTimeStamp': '2019-08-01T04:20:00.000Z', 'ActivePowerMean': 381.8, 'WindDirectionMean': 74.6, 'WindSpeedMean': 6.2}}\n",
      "{'1748': {'dtTimeStamp': '2019-08-01T04:30:00.000Z', 'ActivePowerMean': 401.1, 'WindDirectionMean': 87.2, 'WindSpeedMean': 6.1}, '1749': {'dtTimeStamp': '2019-08-01T04:30:00.000Z', 'ActivePowerMean': 368.3, 'WindDirectionMean': 77.4, 'WindSpeedMean': 5.9}}\n",
      "{'1748': {'dtTimeStamp': '2019-08-01T04:40:00.000Z', 'ActivePowerMean': 425.7, 'WindDirectionMean': 85.9, 'WindSpeedMean': 6.3}, '1749': {'dtTimeStamp': '2019-08-01T04:40:00.000Z', 'ActivePowerMean': 404.7, 'WindDirectionMean': 76.6, 'WindSpeedMean': 6.6}}\n",
      "{'1748': {'dtTimeStamp': '2019-08-01T04:50:00.000Z', 'ActivePowerMean': 430.4, 'WindDirectionMean': 83.5, 'WindSpeedMean': 6.4}, '1749': {'dtTimeStamp': '2019-08-01T04:50:00.000Z', 'ActivePowerMean': 412.6, 'WindDirectionMean': 72.9, 'WindSpeedMean': 6.5}}\n",
      "{'1748': {'dtTimeStamp': '2019-08-01T05:00:00.000Z', 'ActivePowerMean': 425.5, 'WindDirectionMean': 83.5, 'WindSpeedMean': 6.3}, '1749': {'dtTimeStamp': '2019-08-01T05:00:00.000Z', 'ActivePowerMean': 399.8, 'WindDirectionMean': 73.0, 'WindSpeedMean': 6.4}}\n",
      "{'1748': {'dtTimeStamp': '2019-08-01T05:10:00.000Z', 'ActivePowerMean': 465.3, 'WindDirectionMean': 83.4, 'WindSpeedMean': 6.6}, '1749': {'dtTimeStamp': '2019-08-01T05:10:00.000Z', 'ActivePowerMean': 456.2, 'WindDirectionMean': 72.0, 'WindSpeedMean': 6.5}}\n",
      "{'1748': {'dtTimeStamp': '2019-08-01T05:20:00.000Z', 'ActivePowerMean': 434.5, 'WindDirectionMean': 84.3, 'WindSpeedMean': 6.2}, '1749': {'dtTimeStamp': '2019-08-01T05:20:00.000Z', 'ActivePowerMean': 439.2, 'WindDirectionMean': 72.3, 'WindSpeedMean': 6.5}}\n",
      "{'1748': {'dtTimeStamp': '2019-08-01T05:30:00.000Z', 'ActivePowerMean': 418.2, 'WindDirectionMean': 80.9, 'WindSpeedMean': 6.0}, '1749': {'dtTimeStamp': '2019-08-01T05:30:00.000Z', 'ActivePowerMean': 419.9, 'WindDirectionMean': 68.0, 'WindSpeedMean': 6.5}}\n",
      "{'1748': {'dtTimeStamp': '2019-08-01T05:40:00.000Z', 'ActivePowerMean': 410.6, 'WindDirectionMean': 79.5, 'WindSpeedMean': 5.9}, '1749': {'dtTimeStamp': '2019-08-01T05:40:00.000Z', 'ActivePowerMean': 382.4, 'WindDirectionMean': 64.1, 'WindSpeedMean': 6.2}}\n",
      "{'1748': {'dtTimeStamp': '2019-08-01T05:50:00.000Z', 'ActivePowerMean': 358.1, 'WindDirectionMean': 80.1, 'WindSpeedMean': 5.5}, '1749': {'dtTimeStamp': '2019-08-01T05:50:00.000Z', 'ActivePowerMean': 320.9, 'WindDirectionMean': 64.9, 'WindSpeedMean': 5.5}}\n",
      "{'1748': {'dtTimeStamp': '2019-08-01T06:00:00.000Z', 'ActivePowerMean': 240.3, 'WindDirectionMean': 81.8, 'WindSpeedMean': 4.6}, '1749': {'dtTimeStamp': '2019-08-01T06:00:00.000Z', 'ActivePowerMean': 217.7, 'WindDirectionMean': 68.8, 'WindSpeedMean': 4.7}}\n",
      "{'1748': {'dtTimeStamp': '2019-08-01T06:10:00.000Z', 'ActivePowerMean': 176.1, 'WindDirectionMean': 84.2, 'WindSpeedMean': 4.3}, '1749': {'dtTimeStamp': '2019-08-01T06:10:00.000Z', 'ActivePowerMean': 195.1, 'WindDirectionMean': 73.5, 'WindSpeedMean': 4.8}}\n",
      "{'1748': {'dtTimeStamp': '2019-08-01T06:20:00.000Z', 'ActivePowerMean': 139.1, 'WindDirectionMean': 75.5, 'WindSpeedMean': 4.2}, '1749': {'dtTimeStamp': '2019-08-01T06:20:00.000Z', 'ActivePowerMean': 132.3, 'WindDirectionMean': 63.1, 'WindSpeedMean': 4.4}}\n",
      "{'1748': {'dtTimeStamp': '2019-08-01T06:30:00.000Z', 'ActivePowerMean': 77.3, 'WindDirectionMean': 70.7, 'WindSpeedMean': 3.6}, '1749': {'dtTimeStamp': '2019-08-01T06:30:00.000Z', 'ActivePowerMean': 96.6, 'WindDirectionMean': 57.2, 'WindSpeedMean': 4.0}}\n"
     ]
    },
    {
     "name": "stdout",
     "output_type": "stream",
     "text": [
      "{'1748': {'dtTimeStamp': '2019-08-01T06:40:00.000Z', 'ActivePowerMean': 87.9, 'WindDirectionMean': 74.4, 'WindSpeedMean': 3.6}, '1749': {'dtTimeStamp': '2019-08-01T06:40:00.000Z', 'ActivePowerMean': 105.5, 'WindDirectionMean': 60.5, 'WindSpeedMean': 4.0}}\n",
      "{'1748': {'dtTimeStamp': '2019-08-01T06:50:00.000Z', 'ActivePowerMean': 128.8, 'WindDirectionMean': 75.8, 'WindSpeedMean': 4.0}, '1749': {'dtTimeStamp': '2019-08-01T06:50:00.000Z', 'ActivePowerMean': 139.9, 'WindDirectionMean': 60.3, 'WindSpeedMean': 4.4}}\n",
      "{'1748': {'dtTimeStamp': '2019-08-01T07:00:00.000Z', 'ActivePowerMean': 85.5, 'WindDirectionMean': 76.7, 'WindSpeedMean': 3.7}, '1749': {'dtTimeStamp': '2019-08-01T07:00:00.000Z', 'ActivePowerMean': 171.1, 'WindDirectionMean': 60.7, 'WindSpeedMean': 4.5}}\n",
      "{'1748': {'dtTimeStamp': '2019-08-01T07:10:00.000Z', 'ActivePowerMean': 209.1, 'WindDirectionMean': 78.8, 'WindSpeedMean': 4.6}, '1749': {'dtTimeStamp': '2019-08-01T07:10:00.000Z', 'ActivePowerMean': 157.4, 'WindDirectionMean': 64.4, 'WindSpeedMean': 4.3}}\n",
      "{'1748': {'dtTimeStamp': '2019-08-01T07:20:00.000Z', 'ActivePowerMean': 255.9, 'WindDirectionMean': 77.0, 'WindSpeedMean': 5.0}, '1749': {'dtTimeStamp': '2019-08-01T07:20:00.000Z', 'ActivePowerMean': 263.1, 'WindDirectionMean': 64.7, 'WindSpeedMean': 5.1}}\n",
      "{'1748': {'dtTimeStamp': '2019-08-01T07:30:00.000Z', 'ActivePowerMean': 337.9, 'WindDirectionMean': 78.4, 'WindSpeedMean': 5.4}, '1749': {'dtTimeStamp': '2019-08-01T07:30:00.000Z', 'ActivePowerMean': 242.4, 'WindDirectionMean': 64.1, 'WindSpeedMean': 5.1}}\n",
      "{'1748': {'dtTimeStamp': '2019-08-01T07:40:00.000Z', 'ActivePowerMean': 385.2, 'WindDirectionMean': 80.5, 'WindSpeedMean': 5.4}, '1749': {'dtTimeStamp': '2019-08-01T07:40:00.000Z', 'ActivePowerMean': 285.6, 'WindDirectionMean': 72.7, 'WindSpeedMean': 5.4}}\n",
      "{'1748': {'dtTimeStamp': '2019-08-01T07:50:00.000Z', 'ActivePowerMean': 359.2, 'WindDirectionMean': 77.6, 'WindSpeedMean': 5.5}, '1749': {'dtTimeStamp': '2019-08-01T07:50:00.000Z', 'ActivePowerMean': 267.5, 'WindDirectionMean': 72.2, 'WindSpeedMean': 5.2}}\n",
      "{'1748': {'dtTimeStamp': '2019-08-01T08:00:00.000Z', 'ActivePowerMean': 265.3, 'WindDirectionMean': 80.9, 'WindSpeedMean': 4.8}, '1749': {'dtTimeStamp': '2019-08-01T08:00:00.000Z', 'ActivePowerMean': 259.8, 'WindDirectionMean': 72.1, 'WindSpeedMean': 5.5}}\n",
      "{'1748': {'dtTimeStamp': '2019-08-01T08:10:00.000Z', 'ActivePowerMean': 261.4, 'WindDirectionMean': 79.0, 'WindSpeedMean': 5.0}, '1749': {'dtTimeStamp': '2019-08-01T08:10:00.000Z', 'ActivePowerMean': 230.0, 'WindDirectionMean': 69.6, 'WindSpeedMean': 5.2}}\n",
      "{'1748': {'dtTimeStamp': '2019-08-01T08:20:00.000Z', 'ActivePowerMean': 306.7, 'WindDirectionMean': 77.0, 'WindSpeedMean': 5.2}, '1749': {'dtTimeStamp': '2019-08-01T08:20:00.000Z', 'ActivePowerMean': 286.2, 'WindDirectionMean': 68.3, 'WindSpeedMean': 5.5}}\n",
      "{'1748': {'dtTimeStamp': '2019-08-01T08:30:00.000Z', 'ActivePowerMean': 233.5, 'WindDirectionMean': 75.8, 'WindSpeedMean': 4.9}, '1749': {'dtTimeStamp': '2019-08-01T08:30:00.000Z', 'ActivePowerMean': 204.0, 'WindDirectionMean': 63.7, 'WindSpeedMean': 4.7}}\n",
      "{'1748': {'dtTimeStamp': '2019-08-01T08:40:00.000Z', 'ActivePowerMean': 309.4, 'WindDirectionMean': 78.3, 'WindSpeedMean': 5.1}, '1749': {'dtTimeStamp': '2019-08-01T08:40:00.000Z', 'ActivePowerMean': 338.0, 'WindDirectionMean': 64.2, 'WindSpeedMean': 6.1}}\n",
      "{'1748': {'dtTimeStamp': '2019-08-01T08:50:00.000Z', 'ActivePowerMean': 322.3, 'WindDirectionMean': 81.1, 'WindSpeedMean': 5.4}, '1749': {'dtTimeStamp': '2019-08-01T08:50:00.000Z', 'ActivePowerMean': 386.9, 'WindDirectionMean': 54.4, 'WindSpeedMean': 6.2}}\n",
      "{'1748': {'dtTimeStamp': '2019-08-01T09:00:00.000Z', 'ActivePowerMean': 337.1, 'WindDirectionMean': 75.5, 'WindSpeedMean': 5.5}, '1749': {'dtTimeStamp': '2019-08-01T09:00:00.000Z', 'ActivePowerMean': 310.5, 'WindDirectionMean': 66.6, 'WindSpeedMean': 5.5}}\n",
      "{'1748': {'dtTimeStamp': '2019-08-01T09:10:00.000Z', 'ActivePowerMean': 297.4, 'WindDirectionMean': 70.1, 'WindSpeedMean': 5.2}, '1749': {'dtTimeStamp': '2019-08-01T09:10:00.000Z', 'ActivePowerMean': 424.4, 'WindDirectionMean': 57.9, 'WindSpeedMean': 6.1}}\n",
      "{'1748': {'dtTimeStamp': '2019-08-01T09:20:00.000Z', 'ActivePowerMean': 302.0, 'WindDirectionMean': 72.2, 'WindSpeedMean': 5.2}, '1749': {'dtTimeStamp': '2019-08-01T09:20:00.000Z', 'ActivePowerMean': 324.7, 'WindDirectionMean': 61.6, 'WindSpeedMean': 5.7}}\n",
      "{'1748': {'dtTimeStamp': '2019-08-01T09:30:00.000Z', 'ActivePowerMean': 372.2, 'WindDirectionMean': 65.0, 'WindSpeedMean': 5.5}, '1749': {'dtTimeStamp': '2019-08-01T09:30:00.000Z', 'ActivePowerMean': 448.3, 'WindDirectionMean': 59.4, 'WindSpeedMean': 6.6}}\n",
      "{'1748': {'dtTimeStamp': '2019-08-01T09:40:00.000Z', 'ActivePowerMean': 315.1, 'WindDirectionMean': 53.6, 'WindSpeedMean': 5.4}, '1749': {'dtTimeStamp': '2019-08-01T09:40:00.000Z', 'ActivePowerMean': 385.7, 'WindDirectionMean': 44.8, 'WindSpeedMean': 5.9}}\n",
      "{'1748': {'dtTimeStamp': '2019-08-01T09:50:00.000Z', 'ActivePowerMean': 201.2, 'WindDirectionMean': 67.1, 'WindSpeedMean': 4.6}, '1749': {'dtTimeStamp': '2019-08-01T09:50:00.000Z', 'ActivePowerMean': 253.4, 'WindDirectionMean': 59.4, 'WindSpeedMean': 5.1}}\n",
      "{'1748': {'dtTimeStamp': '2019-08-01T10:00:00.000Z', 'ActivePowerMean': 226.6, 'WindDirectionMean': 67.1, 'WindSpeedMean': 4.6}, '1749': {'dtTimeStamp': '2019-08-01T10:00:00.000Z', 'ActivePowerMean': 292.8, 'WindDirectionMean': 63.8, 'WindSpeedMean': 5.4}}\n",
      "{'1748': {'dtTimeStamp': '2019-08-01T10:10:00.000Z', 'ActivePowerMean': 323.6, 'WindDirectionMean': 69.6, 'WindSpeedMean': 5.3}, '1749': {'dtTimeStamp': '2019-08-01T10:10:00.000Z', 'ActivePowerMean': 354.2, 'WindDirectionMean': 63.1, 'WindSpeedMean': 5.8}}\n",
      "{'1748': {'dtTimeStamp': '2019-08-01T10:20:00.000Z', 'ActivePowerMean': 199.4, 'WindDirectionMean': 69.4, 'WindSpeedMean': 4.4}, '1749': {'dtTimeStamp': '2019-08-01T10:20:00.000Z', 'ActivePowerMean': 160.4, 'WindDirectionMean': 65.4, 'WindSpeedMean': 4.3}}\n",
      "{'1748': {'dtTimeStamp': '2019-08-01T10:30:00.000Z', 'ActivePowerMean': 73.7, 'WindDirectionMean': 76.9, 'WindSpeedMean': 3.8}, '1749': {'dtTimeStamp': '2019-08-01T10:30:00.000Z', 'ActivePowerMean': 182.1, 'WindDirectionMean': 59.9, 'WindSpeedMean': 4.6}}\n"
     ]
    },
    {
     "ename": "KeyboardInterrupt",
     "evalue": "",
     "output_type": "error",
     "traceback": [
      "\u001b[1;31m---------------------------------------------------------------------------\u001b[0m",
      "\u001b[1;31mKeyboardInterrupt\u001b[0m                         Traceback (most recent call last)",
      "\u001b[1;32m<ipython-input-21-67dcac2e777a>\u001b[0m in \u001b[0;36m<module>\u001b[1;34m\u001b[0m\n\u001b[1;32m----> 1\u001b[1;33m \u001b[1;32mfor\u001b[0m \u001b[0mmessage\u001b[0m \u001b[1;32min\u001b[0m \u001b[0mconsumer\u001b[0m\u001b[1;33m:\u001b[0m\u001b[1;33m\u001b[0m\u001b[1;33m\u001b[0m\u001b[0m\n\u001b[0m\u001b[0;32m      2\u001b[0m     \u001b[0mmessage\u001b[0m \u001b[1;33m=\u001b[0m \u001b[0mmessage\u001b[0m\u001b[1;33m.\u001b[0m\u001b[0mvalue\u001b[0m\u001b[1;33m\u001b[0m\u001b[1;33m\u001b[0m\u001b[0m\n\u001b[0;32m      3\u001b[0m     \u001b[0mprint\u001b[0m\u001b[1;33m(\u001b[0m\u001b[0mmessage\u001b[0m\u001b[1;33m)\u001b[0m\u001b[1;33m\u001b[0m\u001b[1;33m\u001b[0m\u001b[0m\n",
      "\u001b[1;32m~\\Anaconda3\\envs\\dissertation\\lib\\site-packages\\kafka\\consumer\\group.py\u001b[0m in \u001b[0;36m__next__\u001b[1;34m(self)\u001b[0m\n\u001b[0;32m   1191\u001b[0m             \u001b[1;32mreturn\u001b[0m \u001b[0mself\u001b[0m\u001b[1;33m.\u001b[0m\u001b[0mnext_v1\u001b[0m\u001b[1;33m(\u001b[0m\u001b[1;33m)\u001b[0m\u001b[1;33m\u001b[0m\u001b[1;33m\u001b[0m\u001b[0m\n\u001b[0;32m   1192\u001b[0m         \u001b[1;32melse\u001b[0m\u001b[1;33m:\u001b[0m\u001b[1;33m\u001b[0m\u001b[1;33m\u001b[0m\u001b[0m\n\u001b[1;32m-> 1193\u001b[1;33m             \u001b[1;32mreturn\u001b[0m \u001b[0mself\u001b[0m\u001b[1;33m.\u001b[0m\u001b[0mnext_v2\u001b[0m\u001b[1;33m(\u001b[0m\u001b[1;33m)\u001b[0m\u001b[1;33m\u001b[0m\u001b[1;33m\u001b[0m\u001b[0m\n\u001b[0m\u001b[0;32m   1194\u001b[0m \u001b[1;33m\u001b[0m\u001b[0m\n\u001b[0;32m   1195\u001b[0m     \u001b[1;32mdef\u001b[0m \u001b[0mnext_v2\u001b[0m\u001b[1;33m(\u001b[0m\u001b[0mself\u001b[0m\u001b[1;33m)\u001b[0m\u001b[1;33m:\u001b[0m\u001b[1;33m\u001b[0m\u001b[1;33m\u001b[0m\u001b[0m\n",
      "\u001b[1;32m~\\Anaconda3\\envs\\dissertation\\lib\\site-packages\\kafka\\consumer\\group.py\u001b[0m in \u001b[0;36mnext_v2\u001b[1;34m(self)\u001b[0m\n\u001b[0;32m   1199\u001b[0m                 \u001b[0mself\u001b[0m\u001b[1;33m.\u001b[0m\u001b[0m_iterator\u001b[0m \u001b[1;33m=\u001b[0m \u001b[0mself\u001b[0m\u001b[1;33m.\u001b[0m\u001b[0m_message_generator_v2\u001b[0m\u001b[1;33m(\u001b[0m\u001b[1;33m)\u001b[0m\u001b[1;33m\u001b[0m\u001b[1;33m\u001b[0m\u001b[0m\n\u001b[0;32m   1200\u001b[0m             \u001b[1;32mtry\u001b[0m\u001b[1;33m:\u001b[0m\u001b[1;33m\u001b[0m\u001b[1;33m\u001b[0m\u001b[0m\n\u001b[1;32m-> 1201\u001b[1;33m                 \u001b[1;32mreturn\u001b[0m \u001b[0mnext\u001b[0m\u001b[1;33m(\u001b[0m\u001b[0mself\u001b[0m\u001b[1;33m.\u001b[0m\u001b[0m_iterator\u001b[0m\u001b[1;33m)\u001b[0m\u001b[1;33m\u001b[0m\u001b[1;33m\u001b[0m\u001b[0m\n\u001b[0m\u001b[0;32m   1202\u001b[0m             \u001b[1;32mexcept\u001b[0m \u001b[0mStopIteration\u001b[0m\u001b[1;33m:\u001b[0m\u001b[1;33m\u001b[0m\u001b[1;33m\u001b[0m\u001b[0m\n\u001b[0;32m   1203\u001b[0m                 \u001b[0mself\u001b[0m\u001b[1;33m.\u001b[0m\u001b[0m_iterator\u001b[0m \u001b[1;33m=\u001b[0m \u001b[1;32mNone\u001b[0m\u001b[1;33m\u001b[0m\u001b[1;33m\u001b[0m\u001b[0m\n",
      "\u001b[1;32m~\\Anaconda3\\envs\\dissertation\\lib\\site-packages\\kafka\\consumer\\group.py\u001b[0m in \u001b[0;36m_message_generator_v2\u001b[1;34m(self)\u001b[0m\n\u001b[0;32m   1114\u001b[0m     \u001b[1;32mdef\u001b[0m \u001b[0m_message_generator_v2\u001b[0m\u001b[1;33m(\u001b[0m\u001b[0mself\u001b[0m\u001b[1;33m)\u001b[0m\u001b[1;33m:\u001b[0m\u001b[1;33m\u001b[0m\u001b[1;33m\u001b[0m\u001b[0m\n\u001b[0;32m   1115\u001b[0m         \u001b[0mtimeout_ms\u001b[0m \u001b[1;33m=\u001b[0m \u001b[1;36m1000\u001b[0m \u001b[1;33m*\u001b[0m \u001b[1;33m(\u001b[0m\u001b[0mself\u001b[0m\u001b[1;33m.\u001b[0m\u001b[0m_consumer_timeout\u001b[0m \u001b[1;33m-\u001b[0m \u001b[0mtime\u001b[0m\u001b[1;33m.\u001b[0m\u001b[0mtime\u001b[0m\u001b[1;33m(\u001b[0m\u001b[1;33m)\u001b[0m\u001b[1;33m)\u001b[0m\u001b[1;33m\u001b[0m\u001b[1;33m\u001b[0m\u001b[0m\n\u001b[1;32m-> 1116\u001b[1;33m         \u001b[0mrecord_map\u001b[0m \u001b[1;33m=\u001b[0m \u001b[0mself\u001b[0m\u001b[1;33m.\u001b[0m\u001b[0mpoll\u001b[0m\u001b[1;33m(\u001b[0m\u001b[0mtimeout_ms\u001b[0m\u001b[1;33m=\u001b[0m\u001b[0mtimeout_ms\u001b[0m\u001b[1;33m,\u001b[0m \u001b[0mupdate_offsets\u001b[0m\u001b[1;33m=\u001b[0m\u001b[1;32mFalse\u001b[0m\u001b[1;33m)\u001b[0m\u001b[1;33m\u001b[0m\u001b[1;33m\u001b[0m\u001b[0m\n\u001b[0m\u001b[0;32m   1117\u001b[0m         \u001b[1;32mfor\u001b[0m \u001b[0mtp\u001b[0m\u001b[1;33m,\u001b[0m \u001b[0mrecords\u001b[0m \u001b[1;32min\u001b[0m \u001b[0msix\u001b[0m\u001b[1;33m.\u001b[0m\u001b[0miteritems\u001b[0m\u001b[1;33m(\u001b[0m\u001b[0mrecord_map\u001b[0m\u001b[1;33m)\u001b[0m\u001b[1;33m:\u001b[0m\u001b[1;33m\u001b[0m\u001b[1;33m\u001b[0m\u001b[0m\n\u001b[0;32m   1118\u001b[0m             \u001b[1;31m# Generators are stateful, and it is possible that the tp / records\u001b[0m\u001b[1;33m\u001b[0m\u001b[1;33m\u001b[0m\u001b[1;33m\u001b[0m\u001b[0m\n",
      "\u001b[1;32m~\\Anaconda3\\envs\\dissertation\\lib\\site-packages\\kafka\\consumer\\group.py\u001b[0m in \u001b[0;36mpoll\u001b[1;34m(self, timeout_ms, max_records, update_offsets)\u001b[0m\n\u001b[0;32m    653\u001b[0m         \u001b[0mremaining\u001b[0m \u001b[1;33m=\u001b[0m \u001b[0mtimeout_ms\u001b[0m\u001b[1;33m\u001b[0m\u001b[1;33m\u001b[0m\u001b[0m\n\u001b[0;32m    654\u001b[0m         \u001b[1;32mwhile\u001b[0m \u001b[1;32mTrue\u001b[0m\u001b[1;33m:\u001b[0m\u001b[1;33m\u001b[0m\u001b[1;33m\u001b[0m\u001b[0m\n\u001b[1;32m--> 655\u001b[1;33m             \u001b[0mrecords\u001b[0m \u001b[1;33m=\u001b[0m \u001b[0mself\u001b[0m\u001b[1;33m.\u001b[0m\u001b[0m_poll_once\u001b[0m\u001b[1;33m(\u001b[0m\u001b[0mremaining\u001b[0m\u001b[1;33m,\u001b[0m \u001b[0mmax_records\u001b[0m\u001b[1;33m,\u001b[0m \u001b[0mupdate_offsets\u001b[0m\u001b[1;33m=\u001b[0m\u001b[0mupdate_offsets\u001b[0m\u001b[1;33m)\u001b[0m\u001b[1;33m\u001b[0m\u001b[1;33m\u001b[0m\u001b[0m\n\u001b[0m\u001b[0;32m    656\u001b[0m             \u001b[1;32mif\u001b[0m \u001b[0mrecords\u001b[0m\u001b[1;33m:\u001b[0m\u001b[1;33m\u001b[0m\u001b[1;33m\u001b[0m\u001b[0m\n\u001b[0;32m    657\u001b[0m                 \u001b[1;32mreturn\u001b[0m \u001b[0mrecords\u001b[0m\u001b[1;33m\u001b[0m\u001b[1;33m\u001b[0m\u001b[0m\n",
      "\u001b[1;32m~\\Anaconda3\\envs\\dissertation\\lib\\site-packages\\kafka\\consumer\\group.py\u001b[0m in \u001b[0;36m_poll_once\u001b[1;34m(self, timeout_ms, max_records, update_offsets)\u001b[0m\n\u001b[0;32m    700\u001b[0m \u001b[1;33m\u001b[0m\u001b[0m\n\u001b[0;32m    701\u001b[0m         \u001b[0mtimeout_ms\u001b[0m \u001b[1;33m=\u001b[0m \u001b[0mmin\u001b[0m\u001b[1;33m(\u001b[0m\u001b[0mtimeout_ms\u001b[0m\u001b[1;33m,\u001b[0m \u001b[0mself\u001b[0m\u001b[1;33m.\u001b[0m\u001b[0m_coordinator\u001b[0m\u001b[1;33m.\u001b[0m\u001b[0mtime_to_next_poll\u001b[0m\u001b[1;33m(\u001b[0m\u001b[1;33m)\u001b[0m \u001b[1;33m*\u001b[0m \u001b[1;36m1000\u001b[0m\u001b[1;33m)\u001b[0m\u001b[1;33m\u001b[0m\u001b[1;33m\u001b[0m\u001b[0m\n\u001b[1;32m--> 702\u001b[1;33m         \u001b[0mself\u001b[0m\u001b[1;33m.\u001b[0m\u001b[0m_client\u001b[0m\u001b[1;33m.\u001b[0m\u001b[0mpoll\u001b[0m\u001b[1;33m(\u001b[0m\u001b[0mtimeout_ms\u001b[0m\u001b[1;33m=\u001b[0m\u001b[0mtimeout_ms\u001b[0m\u001b[1;33m)\u001b[0m\u001b[1;33m\u001b[0m\u001b[1;33m\u001b[0m\u001b[0m\n\u001b[0m\u001b[0;32m    703\u001b[0m         \u001b[1;31m# after the long poll, we should check whether the group needs to rebalance\u001b[0m\u001b[1;33m\u001b[0m\u001b[1;33m\u001b[0m\u001b[1;33m\u001b[0m\u001b[0m\n\u001b[0;32m    704\u001b[0m         \u001b[1;31m# prior to returning data so that the group can stabilize faster\u001b[0m\u001b[1;33m\u001b[0m\u001b[1;33m\u001b[0m\u001b[1;33m\u001b[0m\u001b[0m\n",
      "\u001b[1;32m~\\Anaconda3\\envs\\dissertation\\lib\\site-packages\\kafka\\client_async.py\u001b[0m in \u001b[0;36mpoll\u001b[1;34m(self, timeout_ms, future)\u001b[0m\n\u001b[0;32m    600\u001b[0m                     \u001b[0mtimeout\u001b[0m \u001b[1;33m=\u001b[0m \u001b[0mmax\u001b[0m\u001b[1;33m(\u001b[0m\u001b[1;36m0\u001b[0m\u001b[1;33m,\u001b[0m \u001b[0mtimeout\u001b[0m\u001b[1;33m)\u001b[0m  \u001b[1;31m# avoid negative timeouts\u001b[0m\u001b[1;33m\u001b[0m\u001b[1;33m\u001b[0m\u001b[0m\n\u001b[0;32m    601\u001b[0m \u001b[1;33m\u001b[0m\u001b[0m\n\u001b[1;32m--> 602\u001b[1;33m                 \u001b[0mself\u001b[0m\u001b[1;33m.\u001b[0m\u001b[0m_poll\u001b[0m\u001b[1;33m(\u001b[0m\u001b[0mtimeout\u001b[0m \u001b[1;33m/\u001b[0m \u001b[1;36m1000\u001b[0m\u001b[1;33m)\u001b[0m\u001b[1;33m\u001b[0m\u001b[1;33m\u001b[0m\u001b[0m\n\u001b[0m\u001b[0;32m    603\u001b[0m \u001b[1;33m\u001b[0m\u001b[0m\n\u001b[0;32m    604\u001b[0m             \u001b[1;31m# called without the lock to avoid deadlock potential\u001b[0m\u001b[1;33m\u001b[0m\u001b[1;33m\u001b[0m\u001b[1;33m\u001b[0m\u001b[0m\n",
      "\u001b[1;32m~\\Anaconda3\\envs\\dissertation\\lib\\site-packages\\kafka\\client_async.py\u001b[0m in \u001b[0;36m_poll\u001b[1;34m(self, timeout)\u001b[0m\n\u001b[0;32m    632\u001b[0m \u001b[1;33m\u001b[0m\u001b[0m\n\u001b[0;32m    633\u001b[0m         \u001b[0mstart_select\u001b[0m \u001b[1;33m=\u001b[0m \u001b[0mtime\u001b[0m\u001b[1;33m.\u001b[0m\u001b[0mtime\u001b[0m\u001b[1;33m(\u001b[0m\u001b[1;33m)\u001b[0m\u001b[1;33m\u001b[0m\u001b[1;33m\u001b[0m\u001b[0m\n\u001b[1;32m--> 634\u001b[1;33m         \u001b[0mready\u001b[0m \u001b[1;33m=\u001b[0m \u001b[0mself\u001b[0m\u001b[1;33m.\u001b[0m\u001b[0m_selector\u001b[0m\u001b[1;33m.\u001b[0m\u001b[0mselect\u001b[0m\u001b[1;33m(\u001b[0m\u001b[0mtimeout\u001b[0m\u001b[1;33m)\u001b[0m\u001b[1;33m\u001b[0m\u001b[1;33m\u001b[0m\u001b[0m\n\u001b[0m\u001b[0;32m    635\u001b[0m         \u001b[0mend_select\u001b[0m \u001b[1;33m=\u001b[0m \u001b[0mtime\u001b[0m\u001b[1;33m.\u001b[0m\u001b[0mtime\u001b[0m\u001b[1;33m(\u001b[0m\u001b[1;33m)\u001b[0m\u001b[1;33m\u001b[0m\u001b[1;33m\u001b[0m\u001b[0m\n\u001b[0;32m    636\u001b[0m         \u001b[1;32mif\u001b[0m \u001b[0mself\u001b[0m\u001b[1;33m.\u001b[0m\u001b[0m_sensors\u001b[0m\u001b[1;33m:\u001b[0m\u001b[1;33m\u001b[0m\u001b[1;33m\u001b[0m\u001b[0m\n",
      "\u001b[1;32m~\\Anaconda3\\envs\\dissertation\\lib\\selectors.py\u001b[0m in \u001b[0;36mselect\u001b[1;34m(self, timeout)\u001b[0m\n\u001b[0;32m    321\u001b[0m         \u001b[0mready\u001b[0m \u001b[1;33m=\u001b[0m \u001b[1;33m[\u001b[0m\u001b[1;33m]\u001b[0m\u001b[1;33m\u001b[0m\u001b[1;33m\u001b[0m\u001b[0m\n\u001b[0;32m    322\u001b[0m         \u001b[1;32mtry\u001b[0m\u001b[1;33m:\u001b[0m\u001b[1;33m\u001b[0m\u001b[1;33m\u001b[0m\u001b[0m\n\u001b[1;32m--> 323\u001b[1;33m             \u001b[0mr\u001b[0m\u001b[1;33m,\u001b[0m \u001b[0mw\u001b[0m\u001b[1;33m,\u001b[0m \u001b[0m_\u001b[0m \u001b[1;33m=\u001b[0m \u001b[0mself\u001b[0m\u001b[1;33m.\u001b[0m\u001b[0m_select\u001b[0m\u001b[1;33m(\u001b[0m\u001b[0mself\u001b[0m\u001b[1;33m.\u001b[0m\u001b[0m_readers\u001b[0m\u001b[1;33m,\u001b[0m \u001b[0mself\u001b[0m\u001b[1;33m.\u001b[0m\u001b[0m_writers\u001b[0m\u001b[1;33m,\u001b[0m \u001b[1;33m[\u001b[0m\u001b[1;33m]\u001b[0m\u001b[1;33m,\u001b[0m \u001b[0mtimeout\u001b[0m\u001b[1;33m)\u001b[0m\u001b[1;33m\u001b[0m\u001b[1;33m\u001b[0m\u001b[0m\n\u001b[0m\u001b[0;32m    324\u001b[0m         \u001b[1;32mexcept\u001b[0m \u001b[0mInterruptedError\u001b[0m\u001b[1;33m:\u001b[0m\u001b[1;33m\u001b[0m\u001b[1;33m\u001b[0m\u001b[0m\n\u001b[0;32m    325\u001b[0m             \u001b[1;32mreturn\u001b[0m \u001b[0mready\u001b[0m\u001b[1;33m\u001b[0m\u001b[1;33m\u001b[0m\u001b[0m\n",
      "\u001b[1;32m~\\Anaconda3\\envs\\dissertation\\lib\\selectors.py\u001b[0m in \u001b[0;36m_select\u001b[1;34m(self, r, w, _, timeout)\u001b[0m\n\u001b[0;32m    312\u001b[0m     \u001b[1;32mif\u001b[0m \u001b[0msys\u001b[0m\u001b[1;33m.\u001b[0m\u001b[0mplatform\u001b[0m \u001b[1;33m==\u001b[0m \u001b[1;34m'win32'\u001b[0m\u001b[1;33m:\u001b[0m\u001b[1;33m\u001b[0m\u001b[1;33m\u001b[0m\u001b[0m\n\u001b[0;32m    313\u001b[0m         \u001b[1;32mdef\u001b[0m \u001b[0m_select\u001b[0m\u001b[1;33m(\u001b[0m\u001b[0mself\u001b[0m\u001b[1;33m,\u001b[0m \u001b[0mr\u001b[0m\u001b[1;33m,\u001b[0m \u001b[0mw\u001b[0m\u001b[1;33m,\u001b[0m \u001b[0m_\u001b[0m\u001b[1;33m,\u001b[0m \u001b[0mtimeout\u001b[0m\u001b[1;33m=\u001b[0m\u001b[1;32mNone\u001b[0m\u001b[1;33m)\u001b[0m\u001b[1;33m:\u001b[0m\u001b[1;33m\u001b[0m\u001b[1;33m\u001b[0m\u001b[0m\n\u001b[1;32m--> 314\u001b[1;33m             \u001b[0mr\u001b[0m\u001b[1;33m,\u001b[0m \u001b[0mw\u001b[0m\u001b[1;33m,\u001b[0m \u001b[0mx\u001b[0m \u001b[1;33m=\u001b[0m \u001b[0mselect\u001b[0m\u001b[1;33m.\u001b[0m\u001b[0mselect\u001b[0m\u001b[1;33m(\u001b[0m\u001b[0mr\u001b[0m\u001b[1;33m,\u001b[0m \u001b[0mw\u001b[0m\u001b[1;33m,\u001b[0m \u001b[0mw\u001b[0m\u001b[1;33m,\u001b[0m \u001b[0mtimeout\u001b[0m\u001b[1;33m)\u001b[0m\u001b[1;33m\u001b[0m\u001b[1;33m\u001b[0m\u001b[0m\n\u001b[0m\u001b[0;32m    315\u001b[0m             \u001b[1;32mreturn\u001b[0m \u001b[0mr\u001b[0m\u001b[1;33m,\u001b[0m \u001b[0mw\u001b[0m \u001b[1;33m+\u001b[0m \u001b[0mx\u001b[0m\u001b[1;33m,\u001b[0m \u001b[1;33m[\u001b[0m\u001b[1;33m]\u001b[0m\u001b[1;33m\u001b[0m\u001b[1;33m\u001b[0m\u001b[0m\n\u001b[0;32m    316\u001b[0m     \u001b[1;32melse\u001b[0m\u001b[1;33m:\u001b[0m\u001b[1;33m\u001b[0m\u001b[1;33m\u001b[0m\u001b[0m\n",
      "\u001b[1;31mKeyboardInterrupt\u001b[0m: "
     ]
    }
   ],
   "source": [
    "for message in consumer:\n",
    "    message = message.value\n",
    "    print(message)\n"
   ]
  },
  {
   "cell_type": "code",
   "execution_count": null,
   "metadata": {},
   "outputs": [],
   "source": []
  }
 ],
 "metadata": {
  "kernelspec": {
   "display_name": "Python 3",
   "language": "python",
   "name": "python3"
  },
  "language_info": {
   "codemirror_mode": {
    "name": "ipython",
    "version": 3
   },
   "file_extension": ".py",
   "mimetype": "text/x-python",
   "name": "python",
   "nbconvert_exporter": "python",
   "pygments_lexer": "ipython3",
   "version": "3.8.5"
  }
 },
 "nbformat": 4,
 "nbformat_minor": 4
}
