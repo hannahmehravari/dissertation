{
 "cells": [
  {
   "cell_type": "code",
   "execution_count": 527,
   "id": "vital-prime",
   "metadata": {},
   "outputs": [],
   "source": [
    "import pandas as pd\n",
    "import warnings\n",
    "warnings.filterwarnings('ignore')\n",
    "import matplotlib.pyplot as pyplot"
   ]
  },
  {
   "cell_type": "code",
   "execution_count": 528,
   "id": "numerical-actor",
   "metadata": {},
   "outputs": [
    {
     "name": "stdout",
     "output_type": "stream",
     "text": [
      "                     WindSpeedMean  WindDirectionMean\n",
      "dtTimeStamp                                          \n",
      "2019-08-14 04:40:00       3.011111         132.811111\n",
      "2019-08-14 04:50:00       2.996296         134.166667\n",
      "2019-08-14 05:00:00       2.981481         135.488889\n",
      "2019-08-14 05:10:00       2.925926         138.229630\n",
      "2019-08-14 05:20:00       2.692593         140.996296\n",
      "...                            ...                ...\n",
      "2019-08-14 20:30:00       4.744444         192.011111\n",
      "2019-08-14 20:40:00       4.588889         190.214815\n",
      "2019-08-14 20:50:00       4.725926         189.303704\n",
      "2019-08-14 21:00:00       5.211111         193.203704\n",
      "2019-08-14 21:10:00       5.344444         195.440741\n",
      "\n",
      "[100 rows x 2 columns]\n"
     ]
    }
   ],
   "source": [
    "colab_path = 'ScadaData.txt'\n",
    "local_path = 'C:\\\\Users\\\\hanna\\\\Desktop\\\\data\\\\ScadaData.txt'\n",
    "\n",
    "scada_data = pd.read_csv(local_path, delimiter='\\t',  parse_dates=True)\n",
    "scada_data['dtTimeStamp'] = pd.to_datetime(scada_data['dtTimeStamp'])\n",
    "data = scada_data[['dtTimeStamp','WindSpeedMean','WindDirectionMean', 'intObjectId']].groupby('dtTimeStamp').mean()[['WindSpeedMean','WindDirectionMean']][0:2000]\n",
    "print(data.tail(100))"
   ]
  },
  {
   "cell_type": "code",
   "execution_count": 529,
   "id": "personalized-exhaust",
   "metadata": {},
   "outputs": [
    {
     "name": "stdout",
     "output_type": "stream",
     "text": [
      "                    WindSpeedMean  WindDirectionMean\n",
      "dtTimeStamp                                         \n",
      "2019-08-02 09:20:00       3.06628                NaN\n",
      "2019-08-02 09:30:00       3.27731                NaN\n",
      "2019-08-02 09:40:00        3.1605                NaN\n",
      "2019-08-02 09:50:00       3.22049                NaN\n",
      "2019-08-02 10:00:00       3.57613                NaN\n",
      "...                           ...                ...\n",
      "2019-08-14 20:30:00           NaN         190.722831\n",
      "2019-08-14 20:40:00           NaN         192.281410\n",
      "2019-08-14 20:50:00           NaN         189.993481\n",
      "2019-08-14 21:00:00           NaN         189.218047\n",
      "2019-08-14 21:10:00           NaN         193.859336\n",
      "\n",
      "[3600 rows x 2 columns]\n"
     ]
    }
   ],
   "source": [
    "from statsmodels.tsa.arima_model import ARIMA\n",
    "import datetime as dt\n",
    "import math\n",
    "\n",
    "def get_predictions(data, column_name):\n",
    "    X = data[[column_name]]\n",
    "    size = int(len(X) * 0.1)\n",
    "    train, test = X[0:size], X[size:len(X)]\n",
    "    history = train\n",
    "    predictions = pd.DataFrame(index=test.index, columns=[column_name])\n",
    "    for i, row in test.iterrows():\n",
    "        model = ARIMA(history, order=(1,1,0))\n",
    "        model_fit = model.fit(disp=0)\n",
    "        output = model_fit.forecast()\n",
    "        yhat = output[0].flatten()[0]\n",
    "        predictions.loc[i][column_name] = yhat\n",
    "        history.loc[i] = row[column_name]\n",
    "\n",
    "    return predictions\n",
    "\n",
    "data['WindDirectionMean'] = data['WindDirectionMean'].apply(math.radians)\n",
    "wind_speed_predictions = get_predictions(data, 'WindSpeedMean')\n",
    "wind_direction_predictions = get_predictions(data, 'WindDirectionMean')\n",
    "\n",
    "data['WindDirectionMean'] = data['WindDirectionMean'].apply(math.degrees)\n",
    "\n",
    "wind_direction_predictions['WindDirectionMean'] = wind_direction_predictions['WindDirectionMean'].apply(math.degrees)\n",
    "all_predictions = pd.concat([wind_speed_predictions, wind_direction_predictions], axis='index')\n",
    "print(all_predictions)\n"
   ]
  },
  {
   "cell_type": "code",
   "execution_count": 530,
   "id": "individual-synthesis",
   "metadata": {},
   "outputs": [
    {
     "name": "stdout",
     "output_type": "stream",
     "text": [
      "                    WindSpeedMean  WindDirectionMean\n",
      "dtTimeStamp                                         \n",
      "2019-08-02 09:20:00       3.06628         305.303084\n",
      "2019-08-02 09:30:00       3.27731         325.686014\n",
      "2019-08-02 09:40:00        3.1605         291.545736\n",
      "2019-08-02 09:50:00       3.22049         247.450074\n",
      "2019-08-02 10:00:00       3.57613         241.960998\n",
      "...                           ...                ...\n",
      "2019-08-14 20:30:00       5.06187         190.722831\n",
      "2019-08-14 20:40:00       4.67499         192.281410\n",
      "2019-08-14 20:50:00       4.55319         189.993481\n",
      "2019-08-14 21:00:00       4.75884         189.218047\n",
      "2019-08-14 21:10:00       5.32589         193.859336\n",
      "\n",
      "[1800 rows x 2 columns]\n"
     ]
    }
   ],
   "source": [
    "all_predictions = pd.concat([wind_speed_predictions, wind_direction_predictions], axis=1)\n",
    "print(all_predictions)"
   ]
  },
  {
   "cell_type": "code",
   "execution_count": 531,
   "id": "normal-apartment",
   "metadata": {},
   "outputs": [],
   "source": [
    "import os\n",
    "import sys\n",
    "\n",
    "new_path = r'C:\\Users\\hanna\\Documents\\GitHub\\dissertation'\n",
    "sys.path.append(new_path)\n",
    "\n",
    "from api.noise_campaign.histogram import Histogram"
   ]
  },
  {
   "cell_type": "code",
   "execution_count": 532,
   "id": "exempt-plaintiff",
   "metadata": {},
   "outputs": [],
   "source": [
    "h = Histogram(3, 12, 1, 12)\n",
    "wind_speed_bins = h.get_wind_speed_bins()\n",
    "wind_direction_bins = h.get_wind_direction_bins()"
   ]
  },
  {
   "cell_type": "code",
   "execution_count": 533,
   "id": "cleared-painting",
   "metadata": {},
   "outputs": [
    {
     "data": {
      "text/plain": [
       "{3: [2.5, 3.5],\n",
       " 4: [3.5, 4.5],\n",
       " 5: [4.5, 5.5],\n",
       " 6: [5.5, 6.5],\n",
       " 7: [6.5, 7.5],\n",
       " 8: [7.5, 8.5],\n",
       " 9: [8.5, 9.5],\n",
       " 10: [9.5, 10.5],\n",
       " 11: [10.5, 11.5],\n",
       " 12: [11.5, 12.5],\n",
       " 13: [12.5, 13.5],\n",
       " 14: [13.5, 14.5]}"
      ]
     },
     "execution_count": 533,
     "metadata": {},
     "output_type": "execute_result"
    }
   ],
   "source": [
    "wind_speed_bins"
   ]
  },
  {
   "cell_type": "code",
   "execution_count": 534,
   "id": "incorporate-willow",
   "metadata": {},
   "outputs": [
    {
     "data": {
      "text/plain": [
       "{0.0: [-15.0, 15.0],\n",
       " 30.0: [15.0, 45.0],\n",
       " 60.0: [45.0, 75.0],\n",
       " 90.0: [75.0, 105.0],\n",
       " 120.0: [105.0, 135.0],\n",
       " 150.0: [135.0, 165.0],\n",
       " 180.0: [165.0, 195.0],\n",
       " 210.0: [195.0, 225.0],\n",
       " 240.0: [225.0, 255.0],\n",
       " 270.0: [255.0, 285.0],\n",
       " 300.0: [285.0, 315.0],\n",
       " 330.0: [315.0, 345.0]}"
      ]
     },
     "execution_count": 534,
     "metadata": {},
     "output_type": "execute_result"
    }
   ],
   "source": [
    "wind_direction_bins"
   ]
  },
  {
   "cell_type": "code",
   "execution_count": 535,
   "id": "responsible-signature",
   "metadata": {},
   "outputs": [],
   "source": [
    "import itertools\n",
    "bins = [list(itertools.chain(*wind_speed_bins.values())), list(itertools.chain(*wind_direction_bins.values()))]"
   ]
  },
  {
   "cell_type": "code",
   "execution_count": 536,
   "id": "valuable-iceland",
   "metadata": {},
   "outputs": [
    {
     "data": {
      "image/png": "[encoded data removed]",
      "text/plain": [
       "<Figure size 432x288 with 2 Axes>"
      ]
     },
     "metadata": {
      "needs_background": "light"
     },
     "output_type": "display_data"
    }
   ],
   "source": [
    "x_raw = data['WindSpeedMean']\n",
    "y_raw = data['WindDirectionMean']\n",
    "x_pred = all_predictions['WindSpeedMean']\n",
    "y_pred = all_predictions['WindDirectionMean']\n",
    "\n",
    "fig, axes = pyplot.subplots(1, 2)\n",
    "axes[0].hist2d(x_raw, y_raw, bins=bins)\n",
    "axes[0].title.set_text('Real')\n",
    "axes[1].hist2d(x_pred, y_pred, bins=bins)\n",
    "axes[1].title.set_text('Prediction')\n",
    "\n",
    "axes[0].set_xticks(list(wind_speed_bins.keys()))\n",
    "axes[0].set_yticks(list(wind_direction_bins.keys()))\n",
    "\n",
    "axes[1].set_xticks(list(wind_speed_bins.keys()))\n",
    "axes[1].set_yticks(list(wind_direction_bins.keys()))\n",
    "       \n",
    "pyplot.show()"
   ]
  },
  {
   "cell_type": "code",
   "execution_count": 537,
   "id": "rental-tokyo",
   "metadata": {},
   "outputs": [],
   "source": [
    "data[\"SpeedBin\"] = data['WindSpeedMean'].apply(h.get_wind_speed_bin)\n",
    "data[\"DirectionBin\"] = data['WindDirectionMean'].apply(h.get_wind_direction_bin)\n",
    "\n",
    "all_predictions[\"PredictedSpeedBin\"] = all_predictions['WindSpeedMean'].apply(h.get_wind_speed_bin)\n",
    "all_predictions[\"PredictedDirectionBin\"] = all_predictions['WindDirectionMean'].apply(h.get_wind_direction_bin)"
   ]
  },
  {
   "cell_type": "code",
   "execution_count": 538,
   "id": "incredible-cross",
   "metadata": {},
   "outputs": [
    {
     "data": {
      "text/plain": [
       "(1576, 10)"
      ]
     },
     "execution_count": 538,
     "metadata": {},
     "output_type": "execute_result"
    }
   ],
   "source": [
    "comp = pd.DataFrame()\n",
    "\n",
    "comp['WindSpeedMean'] = data['WindSpeedMean']\n",
    "comp['WindDirectionMean'] = data['WindDirectionMean']\n",
    "\n",
    "comp['PredictedWindSpeedMean'] = all_predictions['WindSpeedMean']\n",
    "comp['PredictedWindDirectionMean'] = all_predictions['WindDirectionMean']\n",
    "\n",
    "comp['SpeedBin'] = data['SpeedBin']\n",
    "comp['DirectionBin'] = data['DirectionBin']\n",
    "comp['PredictedSpeedBin'] = all_predictions[\"PredictedSpeedBin\"] \n",
    "comp['PredictedDirectionBin'] = all_predictions[\"PredictedDirectionBin\"] \n",
    "\n",
    "comp.dropna(inplace=True)\n",
    "comp['SpeedBinEqual'] = comp['SpeedBin'] == comp[\"PredictedSpeedBin\"]\n",
    "comp['DirectionBinEqual'] = comp['DirectionBin'] == comp[\"PredictedDirectionBin\"]\n",
    "\n",
    "comp.shape"
   ]
  },
  {
   "cell_type": "code",
   "execution_count": 539,
   "id": "rising-biography",
   "metadata": {},
   "outputs": [
    {
     "name": "stdout",
     "output_type": "stream",
     "text": [
      "Percentage of bins wrong:\n",
      "37.119289340101524\n",
      "\n",
      "MSE for speed\n",
      "0.13904607799676055\n",
      "\n",
      "MSE for direction\n",
      "4.676883464682488\n"
     ]
    }
   ],
   "source": [
    "wrong = comp.query('DirectionBinEqual == False or SpeedBinEqual == False')\n",
    "\n",
    "error = len(wrong) / comp.shape[0] * 100\n",
    "\n",
    "print(\"Percentage of bins wrong:\")\n",
    "print(error)\n",
    "\n",
    "from sklearn.metrics import mean_squared_error\n",
    "import math \n",
    "\n",
    "print(\"\\nMSE for speed\")\n",
    "print(mean_squared_error(comp['WindSpeedMean'], comp['PredictedWindSpeedMean']))\n",
    "\n",
    "print(\"\\nMSE for direction\")\n",
    "print(math.degrees(mean_squared_error(comp['WindDirectionMean'].apply(math.radians), comp['PredictedWindDirectionMean'].apply(math.radians))))"
   ]
  },
  {
   "cell_type": "code",
   "execution_count": 540,
   "id": "close-neighbor",
   "metadata": {},
   "outputs": [],
   "source": [
    "import numpy as np\n",
    "comp['SpeedBinDifference'] = comp[\"PredictedSpeedBin\"]- comp['SpeedBin']\n",
    "comp['DirectionBinDifference'] = (comp['DirectionBin'] - comp[\"PredictedDirectionBin\"]) / 30"
   ]
  },
  {
   "cell_type": "code",
   "execution_count": 541,
   "id": "annual-terminal",
   "metadata": {
    "scrolled": true
   },
   "outputs": [
    {
     "data": {
      "text/html": [
       "<div>\n",
       "<style scoped>\n",
       "    .dataframe tbody tr th:only-of-type {\n",
       "        vertical-align: middle;\n",
       "    }\n",
       "\n",
       "    .dataframe tbody tr th {\n",
       "        vertical-align: top;\n",
       "    }\n",
       "\n",
       "    .dataframe thead th {\n",
       "        text-align: right;\n",
       "    }\n",
       "</style>\n",
       "<table border=\"1\" class=\"dataframe\">\n",
       "  <thead>\n",
       "    <tr style=\"text-align: right;\">\n",
       "      <th></th>\n",
       "      <th>WindSpeedMean</th>\n",
       "      <th>WindDirectionMean</th>\n",
       "      <th>PredictedWindSpeedMean</th>\n",
       "      <th>PredictedWindDirectionMean</th>\n",
       "      <th>SpeedBin</th>\n",
       "      <th>DirectionBin</th>\n",
       "      <th>PredictedSpeedBin</th>\n",
       "      <th>PredictedDirectionBin</th>\n",
       "      <th>SpeedBinEqual</th>\n",
       "      <th>DirectionBinEqual</th>\n",
       "      <th>SpeedBinDifference</th>\n",
       "      <th>DirectionBinDifference</th>\n",
       "    </tr>\n",
       "    <tr>\n",
       "      <th>dtTimeStamp</th>\n",
       "      <th></th>\n",
       "      <th></th>\n",
       "      <th></th>\n",
       "      <th></th>\n",
       "      <th></th>\n",
       "      <th></th>\n",
       "      <th></th>\n",
       "      <th></th>\n",
       "      <th></th>\n",
       "      <th></th>\n",
       "      <th></th>\n",
       "      <th></th>\n",
       "    </tr>\n",
       "  </thead>\n",
       "  <tbody>\n",
       "    <tr>\n",
       "      <th>2019-08-02 09:20:00</th>\n",
       "      <td>3.229630</td>\n",
       "      <td>321.237037</td>\n",
       "      <td>3.06628</td>\n",
       "      <td>305.303084</td>\n",
       "      <td>3.0</td>\n",
       "      <td>330.0</td>\n",
       "      <td>3.0</td>\n",
       "      <td>300.0</td>\n",
       "      <td>True</td>\n",
       "      <td>False</td>\n",
       "      <td>0.0</td>\n",
       "      <td>1.0</td>\n",
       "    </tr>\n",
       "    <tr>\n",
       "      <th>2019-08-02 09:30:00</th>\n",
       "      <td>3.177778</td>\n",
       "      <td>295.111111</td>\n",
       "      <td>3.27731</td>\n",
       "      <td>325.686014</td>\n",
       "      <td>3.0</td>\n",
       "      <td>300.0</td>\n",
       "      <td>3.0</td>\n",
       "      <td>330.0</td>\n",
       "      <td>True</td>\n",
       "      <td>False</td>\n",
       "      <td>0.0</td>\n",
       "      <td>-1.0</td>\n",
       "    </tr>\n",
       "    <tr>\n",
       "      <th>2019-08-02 09:40:00</th>\n",
       "      <td>3.207407</td>\n",
       "      <td>253.970370</td>\n",
       "      <td>3.1605</td>\n",
       "      <td>291.545736</td>\n",
       "      <td>3.0</td>\n",
       "      <td>240.0</td>\n",
       "      <td>3.0</td>\n",
       "      <td>300.0</td>\n",
       "      <td>True</td>\n",
       "      <td>False</td>\n",
       "      <td>0.0</td>\n",
       "      <td>-2.0</td>\n",
       "    </tr>\n",
       "    <tr>\n",
       "      <th>2019-08-02 10:00:00</th>\n",
       "      <td>3.418519</td>\n",
       "      <td>218.237037</td>\n",
       "      <td>3.57613</td>\n",
       "      <td>241.960998</td>\n",
       "      <td>3.0</td>\n",
       "      <td>210.0</td>\n",
       "      <td>4.0</td>\n",
       "      <td>240.0</td>\n",
       "      <td>False</td>\n",
       "      <td>False</td>\n",
       "      <td>1.0</td>\n",
       "      <td>-1.0</td>\n",
       "    </tr>\n",
       "    <tr>\n",
       "      <th>2019-08-02 10:10:00</th>\n",
       "      <td>2.781481</td>\n",
       "      <td>156.262963</td>\n",
       "      <td>3.40073</td>\n",
       "      <td>214.398796</td>\n",
       "      <td>3.0</td>\n",
       "      <td>150.0</td>\n",
       "      <td>3.0</td>\n",
       "      <td>210.0</td>\n",
       "      <td>True</td>\n",
       "      <td>False</td>\n",
       "      <td>0.0</td>\n",
       "      <td>-2.0</td>\n",
       "    </tr>\n",
       "    <tr>\n",
       "      <th>...</th>\n",
       "      <td>...</td>\n",
       "      <td>...</td>\n",
       "      <td>...</td>\n",
       "      <td>...</td>\n",
       "      <td>...</td>\n",
       "      <td>...</td>\n",
       "      <td>...</td>\n",
       "      <td>...</td>\n",
       "      <td>...</td>\n",
       "      <td>...</td>\n",
       "      <td>...</td>\n",
       "      <td>...</td>\n",
       "    </tr>\n",
       "    <tr>\n",
       "      <th>2019-08-14 17:30:00</th>\n",
       "      <td>3.533333</td>\n",
       "      <td>181.555556</td>\n",
       "      <td>3.40321</td>\n",
       "      <td>175.403373</td>\n",
       "      <td>4.0</td>\n",
       "      <td>180.0</td>\n",
       "      <td>3.0</td>\n",
       "      <td>180.0</td>\n",
       "      <td>False</td>\n",
       "      <td>True</td>\n",
       "      <td>-1.0</td>\n",
       "      <td>0.0</td>\n",
       "    </tr>\n",
       "    <tr>\n",
       "      <th>2019-08-14 17:40:00</th>\n",
       "      <td>3.462963</td>\n",
       "      <td>179.270370</td>\n",
       "      <td>3.5606</td>\n",
       "      <td>182.282517</td>\n",
       "      <td>3.0</td>\n",
       "      <td>180.0</td>\n",
       "      <td>4.0</td>\n",
       "      <td>180.0</td>\n",
       "      <td>False</td>\n",
       "      <td>True</td>\n",
       "      <td>1.0</td>\n",
       "      <td>0.0</td>\n",
       "    </tr>\n",
       "    <tr>\n",
       "      <th>2019-08-14 17:50:00</th>\n",
       "      <td>3.659259</td>\n",
       "      <td>175.248148</td>\n",
       "      <td>3.4468</td>\n",
       "      <td>178.969739</td>\n",
       "      <td>4.0</td>\n",
       "      <td>180.0</td>\n",
       "      <td>3.0</td>\n",
       "      <td>180.0</td>\n",
       "      <td>False</td>\n",
       "      <td>True</td>\n",
       "      <td>-1.0</td>\n",
       "      <td>0.0</td>\n",
       "    </tr>\n",
       "    <tr>\n",
       "      <th>2019-08-14 19:50:00</th>\n",
       "      <td>4.607407</td>\n",
       "      <td>187.833333</td>\n",
       "      <td>4.42607</td>\n",
       "      <td>184.659199</td>\n",
       "      <td>5.0</td>\n",
       "      <td>180.0</td>\n",
       "      <td>4.0</td>\n",
       "      <td>180.0</td>\n",
       "      <td>False</td>\n",
       "      <td>True</td>\n",
       "      <td>-1.0</td>\n",
       "      <td>0.0</td>\n",
       "    </tr>\n",
       "    <tr>\n",
       "      <th>2019-08-14 21:10:00</th>\n",
       "      <td>5.344444</td>\n",
       "      <td>195.440741</td>\n",
       "      <td>5.32589</td>\n",
       "      <td>193.859336</td>\n",
       "      <td>5.0</td>\n",
       "      <td>210.0</td>\n",
       "      <td>5.0</td>\n",
       "      <td>180.0</td>\n",
       "      <td>True</td>\n",
       "      <td>False</td>\n",
       "      <td>0.0</td>\n",
       "      <td>1.0</td>\n",
       "    </tr>\n",
       "  </tbody>\n",
       "</table>\n",
       "<p>585 rows × 12 columns</p>\n",
       "</div>"
      ],
      "text/plain": [
       "                     WindSpeedMean  WindDirectionMean PredictedWindSpeedMean  \\\n",
       "dtTimeStamp                                                                    \n",
       "2019-08-02 09:20:00       3.229630         321.237037                3.06628   \n",
       "2019-08-02 09:30:00       3.177778         295.111111                3.27731   \n",
       "2019-08-02 09:40:00       3.207407         253.970370                 3.1605   \n",
       "2019-08-02 10:00:00       3.418519         218.237037                3.57613   \n",
       "2019-08-02 10:10:00       2.781481         156.262963                3.40073   \n",
       "...                            ...                ...                    ...   \n",
       "2019-08-14 17:30:00       3.533333         181.555556                3.40321   \n",
       "2019-08-14 17:40:00       3.462963         179.270370                 3.5606   \n",
       "2019-08-14 17:50:00       3.659259         175.248148                 3.4468   \n",
       "2019-08-14 19:50:00       4.607407         187.833333                4.42607   \n",
       "2019-08-14 21:10:00       5.344444         195.440741                5.32589   \n",
       "\n",
       "                     PredictedWindDirectionMean  SpeedBin  DirectionBin  \\\n",
       "dtTimeStamp                                                               \n",
       "2019-08-02 09:20:00                  305.303084       3.0         330.0   \n",
       "2019-08-02 09:30:00                  325.686014       3.0         300.0   \n",
       "2019-08-02 09:40:00                  291.545736       3.0         240.0   \n",
       "2019-08-02 10:00:00                  241.960998       3.0         210.0   \n",
       "2019-08-02 10:10:00                  214.398796       3.0         150.0   \n",
       "...                                         ...       ...           ...   \n",
       "2019-08-14 17:30:00                  175.403373       4.0         180.0   \n",
       "2019-08-14 17:40:00                  182.282517       3.0         180.0   \n",
       "2019-08-14 17:50:00                  178.969739       4.0         180.0   \n",
       "2019-08-14 19:50:00                  184.659199       5.0         180.0   \n",
       "2019-08-14 21:10:00                  193.859336       5.0         210.0   \n",
       "\n",
       "                     PredictedSpeedBin  PredictedDirectionBin  SpeedBinEqual  \\\n",
       "dtTimeStamp                                                                    \n",
       "2019-08-02 09:20:00                3.0                  300.0           True   \n",
       "2019-08-02 09:30:00                3.0                  330.0           True   \n",
       "2019-08-02 09:40:00                3.0                  300.0           True   \n",
       "2019-08-02 10:00:00                4.0                  240.0          False   \n",
       "2019-08-02 10:10:00                3.0                  210.0           True   \n",
       "...                                ...                    ...            ...   \n",
       "2019-08-14 17:30:00                3.0                  180.0          False   \n",
       "2019-08-14 17:40:00                4.0                  180.0          False   \n",
       "2019-08-14 17:50:00                3.0                  180.0          False   \n",
       "2019-08-14 19:50:00                4.0                  180.0          False   \n",
       "2019-08-14 21:10:00                5.0                  180.0           True   \n",
       "\n",
       "                     DirectionBinEqual  SpeedBinDifference  \\\n",
       "dtTimeStamp                                                  \n",
       "2019-08-02 09:20:00              False                 0.0   \n",
       "2019-08-02 09:30:00              False                 0.0   \n",
       "2019-08-02 09:40:00              False                 0.0   \n",
       "2019-08-02 10:00:00              False                 1.0   \n",
       "2019-08-02 10:10:00              False                 0.0   \n",
       "...                                ...                 ...   \n",
       "2019-08-14 17:30:00               True                -1.0   \n",
       "2019-08-14 17:40:00               True                 1.0   \n",
       "2019-08-14 17:50:00               True                -1.0   \n",
       "2019-08-14 19:50:00               True                -1.0   \n",
       "2019-08-14 21:10:00              False                 0.0   \n",
       "\n",
       "                     DirectionBinDifference  \n",
       "dtTimeStamp                                  \n",
       "2019-08-02 09:20:00                     1.0  \n",
       "2019-08-02 09:30:00                    -1.0  \n",
       "2019-08-02 09:40:00                    -2.0  \n",
       "2019-08-02 10:00:00                    -1.0  \n",
       "2019-08-02 10:10:00                    -2.0  \n",
       "...                                     ...  \n",
       "2019-08-14 17:30:00                     0.0  \n",
       "2019-08-14 17:40:00                     0.0  \n",
       "2019-08-14 17:50:00                     0.0  \n",
       "2019-08-14 19:50:00                     0.0  \n",
       "2019-08-14 21:10:00                     1.0  \n",
       "\n",
       "[585 rows x 12 columns]"
      ]
     },
     "execution_count": 541,
     "metadata": {},
     "output_type": "execute_result"
    }
   ],
   "source": [
    "comp.query('DirectionBinEqual == False or SpeedBinEqual == False')"
   ]
  },
  {
   "cell_type": "code",
   "execution_count": 542,
   "id": "crucial-singing",
   "metadata": {},
   "outputs": [
    {
     "data": {
      "image/png": "[encoded data removed]",
      "text/plain": [
       "<Figure size 432x288 with 1 Axes>"
      ]
     },
     "metadata": {
      "needs_background": "light"
     },
     "output_type": "display_data"
    }
   ],
   "source": [
    "import matplotlib.pyplot as plt\n",
    "\n",
    "labels, counts = np.unique(comp[\"DirectionBinDifference\"], return_counts=True)\n",
    "plt.bar(labels, counts, align='center')\n",
    "plt.gca().set_xticks(labels)\n",
    "plt.show()"
   ]
  },
  {
   "cell_type": "code",
   "execution_count": 543,
   "id": "multiple-strain",
   "metadata": {},
   "outputs": [
    {
     "data": {
      "image/png": "[encoded data removed]",
      "text/plain": [
       "<Figure size 432x288 with 1 Axes>"
      ]
     },
     "metadata": {
      "needs_background": "light"
     },
     "output_type": "display_data"
    }
   ],
   "source": [
    "labels, counts = np.unique(comp[\"SpeedBinDifference\"], return_counts=True)\n",
    "plt.bar(labels, counts, align='center')\n",
    "plt.gca().set_xticks(labels)\n",
    "plt.show()"
   ]
  },
  {
   "cell_type": "code",
   "execution_count": 544,
   "id": "intermediate-briefing",
   "metadata": {},
   "outputs": [
    {
     "name": "stdout",
     "output_type": "stream",
     "text": [
      "Percentage of bins wrong:\n",
      "21.63705583756345\n"
     ]
    }
   ],
   "source": [
    "wrong = comp.query('SpeedBinDifference in [-1,1]')\n",
    "\n",
    "error = len(wrong) / comp.shape[0] * 100\n",
    "\n",
    "print(\"Percentage of bins wrong:\")\n",
    "print(error)\n"
   ]
  },
  {
   "cell_type": "code",
   "execution_count": 545,
   "id": "tribal-buddy",
   "metadata": {},
   "outputs": [
    {
     "name": "stdout",
     "output_type": "stream",
     "text": [
      "Percentage of bins wrong:\n",
      "16.687817258883246\n"
     ]
    }
   ],
   "source": [
    "wrong = comp.query('DirectionBinDifference in [-1,1]')\n",
    "\n",
    "error = len(wrong) / comp.shape[0] * 100\n",
    "\n",
    "print(\"Percentage of bins wrong:\")\n",
    "print(error)"
   ]
  },
  {
   "cell_type": "code",
   "execution_count": 546,
   "id": "moderate-museum",
   "metadata": {},
   "outputs": [
    {
     "name": "stdout",
     "output_type": "stream",
     "text": [
      "Percentage of bins wrong:\n",
      "37.119289340101524\n"
     ]
    }
   ],
   "source": [
    "wrong = comp.query('DirectionBinDifference != 0 or SpeedBinDifference != 0')\n",
    "\n",
    "error = len(wrong) / comp.shape[0] * 100\n",
    "\n",
    "print(\"Percentage of bins wrong:\")\n",
    "print(error)"
   ]
  },
  {
   "cell_type": "code",
   "execution_count": 547,
   "id": "cloudy-solomon",
   "metadata": {},
   "outputs": [
    {
     "data": {
      "text/plain": [
       "341"
      ]
     },
     "execution_count": 547,
     "metadata": {},
     "output_type": "execute_result"
    }
   ],
   "source": [
    "wrong = comp.query('SpeedBinDifference in [-1,1]')\n",
    "len(wrong)"
   ]
  },
  {
   "cell_type": "code",
   "execution_count": 548,
   "id": "cathedral-accordance",
   "metadata": {},
   "outputs": [
    {
     "data": {
      "text/plain": [
       "263"
      ]
     },
     "execution_count": 548,
     "metadata": {},
     "output_type": "execute_result"
    }
   ],
   "source": [
    "wrong = comp.query('DirectionBinDifference in [-1,1]')\n",
    "len(wrong)"
   ]
  },
  {
   "cell_type": "code",
   "execution_count": 549,
   "id": "retired-worship",
   "metadata": {},
   "outputs": [
    {
     "data": {
      "text/plain": [
       "1576"
      ]
     },
     "execution_count": 549,
     "metadata": {},
     "output_type": "execute_result"
    }
   ],
   "source": [
    "comp.shape[0]"
   ]
  },
  {
   "cell_type": "code",
   "execution_count": 550,
   "id": "bored-intersection",
   "metadata": {},
   "outputs": [
    {
     "data": {
      "text/plain": [
       "8.121827411167512"
      ]
     },
     "execution_count": 550,
     "metadata": {},
     "output_type": "execute_result"
    }
   ],
   "source": [
    "wrong = comp.query('DirectionBinDifference == -1')\n",
    "len(wrong) / comp.shape[0] * 100"
   ]
  },
  {
   "cell_type": "code",
   "execution_count": 551,
   "id": "focal-period",
   "metadata": {},
   "outputs": [
    {
     "data": {
      "text/plain": [
       "8.565989847715736"
      ]
     },
     "execution_count": 551,
     "metadata": {},
     "output_type": "execute_result"
    }
   ],
   "source": [
    "wrong = comp.query('DirectionBinDifference == 1')\n",
    "len(wrong) / comp.shape[0] * 100"
   ]
  },
  {
   "cell_type": "code",
   "execution_count": 552,
   "id": "terminal-judgment",
   "metadata": {},
   "outputs": [
    {
     "data": {
      "text/plain": [
       "10.406091370558377"
      ]
     },
     "execution_count": 552,
     "metadata": {},
     "output_type": "execute_result"
    }
   ],
   "source": [
    "wrong = comp.query('SpeedBinDifference == -1')\n",
    "len(wrong) / comp.shape[0] * 100"
   ]
  },
  {
   "cell_type": "code",
   "execution_count": 553,
   "id": "variable-syndicate",
   "metadata": {},
   "outputs": [
    {
     "data": {
      "text/plain": [
       "11.230964467005077"
      ]
     },
     "execution_count": 553,
     "metadata": {},
     "output_type": "execute_result"
    }
   ],
   "source": [
    "wrong = comp.query('SpeedBinDifference == 1')\n",
    "len(wrong) / comp.shape[0] * 100"
   ]
  },
  {
   "cell_type": "code",
   "execution_count": 554,
   "id": "loose-waters",
   "metadata": {},
   "outputs": [
    {
     "name": "stdout",
     "output_type": "stream",
     "text": [
      "Percentage of bins wrong:\n",
      "22.33502538071066\n"
     ]
    }
   ],
   "source": [
    "wrong = comp.query('SpeedBinDifference != 0')\n",
    "\n",
    "error = len(wrong) / comp.shape[0] * 100\n",
    "\n",
    "print(\"Percentage of bins wrong:\")\n",
    "print(error)"
   ]
  },
  {
   "cell_type": "code",
   "execution_count": 555,
   "id": "accepted-brunswick",
   "metadata": {},
   "outputs": [
    {
     "name": "stdout",
     "output_type": "stream",
     "text": [
      "Percentage of bins wrong:\n",
      "19.796954314720814\n"
     ]
    }
   ],
   "source": [
    "wrong = comp.query('DirectionBinDifference != 0')\n",
    "\n",
    "error = len(wrong) / comp.shape[0] * 100\n",
    "\n",
    "print(\"Percentage of bins wrong:\")\n",
    "print(error)"
   ]
  },
  {
   "cell_type": "code",
   "execution_count": 556,
   "id": "proved-appeal",
   "metadata": {},
   "outputs": [],
   "source": [
    "from random import randint\n",
    "from statistics import mean\n",
    "\n",
    "def correct_wind_speed_errors(predicted_bin):\n",
    "#     value_1 = randint(0, 100)\n",
    "#     if value_1 <= 12:\n",
    "#         predicted_bin += 1\n",
    "    return predicted_bin\n",
    "\n",
    "\n",
    "def correct_wind_direction_errors(predicted_bin):\n",
    "    value_1 = randint(0, 100)\n",
    "    if value_1 <= 12:\n",
    "        value_2 = randint(0,1)\n",
    "        if value_2 == 1:\n",
    "            predicted_bin = math.degrees(math.radians(predicted_bin) + math.radians(60))\n",
    "        else:\n",
    "            predicted_bin = math.degrees(math.radians(predicted_bin) - math.radians(60))\n",
    "            \n",
    "    return predicted_bin\n",
    "\n",
    "all_predictions['CorrectedPredictedSpeedBin'] = all_predictions['PredictedSpeedBin'].apply(correct_wind_speed_errors)\n",
    "all_predictions['CorrectedPredictedDirectionBin'] = all_predictions['PredictedDirectionBin'].apply(correct_wind_direction_errors)"
   ]
  },
  {
   "cell_type": "code",
   "execution_count": 557,
   "id": "infectious-desire",
   "metadata": {
    "scrolled": true
   },
   "outputs": [
    {
     "data": {
      "text/html": [
       "<div>\n",
       "<style scoped>\n",
       "    .dataframe tbody tr th:only-of-type {\n",
       "        vertical-align: middle;\n",
       "    }\n",
       "\n",
       "    .dataframe tbody tr th {\n",
       "        vertical-align: top;\n",
       "    }\n",
       "\n",
       "    .dataframe thead th {\n",
       "        text-align: right;\n",
       "    }\n",
       "</style>\n",
       "<table border=\"1\" class=\"dataframe\">\n",
       "  <thead>\n",
       "    <tr style=\"text-align: right;\">\n",
       "      <th></th>\n",
       "      <th>WindSpeedMean</th>\n",
       "      <th>WindDirectionMean</th>\n",
       "      <th>PredictedWindSpeedMean</th>\n",
       "      <th>PredictedWindDirectionMean</th>\n",
       "      <th>SpeedBin</th>\n",
       "      <th>DirectionBin</th>\n",
       "      <th>PredictedSpeedBin</th>\n",
       "      <th>PredictedDirectionBin</th>\n",
       "      <th>SpeedBinEqual</th>\n",
       "      <th>DirectionBinEqual</th>\n",
       "      <th>SpeedBinDifference</th>\n",
       "      <th>DirectionBinDifference</th>\n",
       "      <th>SpeedDifference</th>\n",
       "      <th>DirectionDifference</th>\n",
       "    </tr>\n",
       "    <tr>\n",
       "      <th>dtTimeStamp</th>\n",
       "      <th></th>\n",
       "      <th></th>\n",
       "      <th></th>\n",
       "      <th></th>\n",
       "      <th></th>\n",
       "      <th></th>\n",
       "      <th></th>\n",
       "      <th></th>\n",
       "      <th></th>\n",
       "      <th></th>\n",
       "      <th></th>\n",
       "      <th></th>\n",
       "      <th></th>\n",
       "      <th></th>\n",
       "    </tr>\n",
       "  </thead>\n",
       "  <tbody>\n",
       "    <tr>\n",
       "      <th>2019-08-02 09:20:00</th>\n",
       "      <td>3.229630</td>\n",
       "      <td>321.237037</td>\n",
       "      <td>3.06628</td>\n",
       "      <td>305.303084</td>\n",
       "      <td>3.0</td>\n",
       "      <td>330.0</td>\n",
       "      <td>3.0</td>\n",
       "      <td>300.0</td>\n",
       "      <td>True</td>\n",
       "      <td>False</td>\n",
       "      <td>0.0</td>\n",
       "      <td>1.0</td>\n",
       "      <td>0.163352</td>\n",
       "      <td>15.933953</td>\n",
       "    </tr>\n",
       "    <tr>\n",
       "      <th>2019-08-02 09:30:00</th>\n",
       "      <td>3.177778</td>\n",
       "      <td>295.111111</td>\n",
       "      <td>3.27731</td>\n",
       "      <td>325.686014</td>\n",
       "      <td>3.0</td>\n",
       "      <td>300.0</td>\n",
       "      <td>3.0</td>\n",
       "      <td>330.0</td>\n",
       "      <td>True</td>\n",
       "      <td>False</td>\n",
       "      <td>0.0</td>\n",
       "      <td>-1.0</td>\n",
       "      <td>-0.0995349</td>\n",
       "      <td>-30.574903</td>\n",
       "    </tr>\n",
       "    <tr>\n",
       "      <th>2019-08-02 09:40:00</th>\n",
       "      <td>3.207407</td>\n",
       "      <td>253.970370</td>\n",
       "      <td>3.1605</td>\n",
       "      <td>291.545736</td>\n",
       "      <td>3.0</td>\n",
       "      <td>240.0</td>\n",
       "      <td>3.0</td>\n",
       "      <td>300.0</td>\n",
       "      <td>True</td>\n",
       "      <td>False</td>\n",
       "      <td>0.0</td>\n",
       "      <td>-2.0</td>\n",
       "      <td>0.046904</td>\n",
       "      <td>-37.575366</td>\n",
       "    </tr>\n",
       "    <tr>\n",
       "      <th>2019-08-02 10:00:00</th>\n",
       "      <td>3.418519</td>\n",
       "      <td>218.237037</td>\n",
       "      <td>3.57613</td>\n",
       "      <td>241.960998</td>\n",
       "      <td>3.0</td>\n",
       "      <td>210.0</td>\n",
       "      <td>4.0</td>\n",
       "      <td>240.0</td>\n",
       "      <td>False</td>\n",
       "      <td>False</td>\n",
       "      <td>1.0</td>\n",
       "      <td>-1.0</td>\n",
       "      <td>-0.157614</td>\n",
       "      <td>-23.723961</td>\n",
       "    </tr>\n",
       "    <tr>\n",
       "      <th>2019-08-02 10:10:00</th>\n",
       "      <td>2.781481</td>\n",
       "      <td>156.262963</td>\n",
       "      <td>3.40073</td>\n",
       "      <td>214.398796</td>\n",
       "      <td>3.0</td>\n",
       "      <td>150.0</td>\n",
       "      <td>3.0</td>\n",
       "      <td>210.0</td>\n",
       "      <td>True</td>\n",
       "      <td>False</td>\n",
       "      <td>0.0</td>\n",
       "      <td>-2.0</td>\n",
       "      <td>-0.619251</td>\n",
       "      <td>-58.135833</td>\n",
       "    </tr>\n",
       "    <tr>\n",
       "      <th>...</th>\n",
       "      <td>...</td>\n",
       "      <td>...</td>\n",
       "      <td>...</td>\n",
       "      <td>...</td>\n",
       "      <td>...</td>\n",
       "      <td>...</td>\n",
       "      <td>...</td>\n",
       "      <td>...</td>\n",
       "      <td>...</td>\n",
       "      <td>...</td>\n",
       "      <td>...</td>\n",
       "      <td>...</td>\n",
       "      <td>...</td>\n",
       "      <td>...</td>\n",
       "    </tr>\n",
       "    <tr>\n",
       "      <th>2019-08-14 17:30:00</th>\n",
       "      <td>3.533333</td>\n",
       "      <td>181.555556</td>\n",
       "      <td>3.40321</td>\n",
       "      <td>175.403373</td>\n",
       "      <td>4.0</td>\n",
       "      <td>180.0</td>\n",
       "      <td>3.0</td>\n",
       "      <td>180.0</td>\n",
       "      <td>False</td>\n",
       "      <td>True</td>\n",
       "      <td>-1.0</td>\n",
       "      <td>0.0</td>\n",
       "      <td>0.130127</td>\n",
       "      <td>6.152183</td>\n",
       "    </tr>\n",
       "    <tr>\n",
       "      <th>2019-08-14 17:40:00</th>\n",
       "      <td>3.462963</td>\n",
       "      <td>179.270370</td>\n",
       "      <td>3.5606</td>\n",
       "      <td>182.282517</td>\n",
       "      <td>3.0</td>\n",
       "      <td>180.0</td>\n",
       "      <td>4.0</td>\n",
       "      <td>180.0</td>\n",
       "      <td>False</td>\n",
       "      <td>True</td>\n",
       "      <td>1.0</td>\n",
       "      <td>0.0</td>\n",
       "      <td>-0.0976402</td>\n",
       "      <td>-3.012147</td>\n",
       "    </tr>\n",
       "    <tr>\n",
       "      <th>2019-08-14 17:50:00</th>\n",
       "      <td>3.659259</td>\n",
       "      <td>175.248148</td>\n",
       "      <td>3.4468</td>\n",
       "      <td>178.969739</td>\n",
       "      <td>4.0</td>\n",
       "      <td>180.0</td>\n",
       "      <td>3.0</td>\n",
       "      <td>180.0</td>\n",
       "      <td>False</td>\n",
       "      <td>True</td>\n",
       "      <td>-1.0</td>\n",
       "      <td>0.0</td>\n",
       "      <td>0.212455</td>\n",
       "      <td>-3.721591</td>\n",
       "    </tr>\n",
       "    <tr>\n",
       "      <th>2019-08-14 19:50:00</th>\n",
       "      <td>4.607407</td>\n",
       "      <td>187.833333</td>\n",
       "      <td>4.42607</td>\n",
       "      <td>184.659199</td>\n",
       "      <td>5.0</td>\n",
       "      <td>180.0</td>\n",
       "      <td>4.0</td>\n",
       "      <td>180.0</td>\n",
       "      <td>False</td>\n",
       "      <td>True</td>\n",
       "      <td>-1.0</td>\n",
       "      <td>0.0</td>\n",
       "      <td>0.181333</td>\n",
       "      <td>3.174134</td>\n",
       "    </tr>\n",
       "    <tr>\n",
       "      <th>2019-08-14 21:10:00</th>\n",
       "      <td>5.344444</td>\n",
       "      <td>195.440741</td>\n",
       "      <td>5.32589</td>\n",
       "      <td>193.859336</td>\n",
       "      <td>5.0</td>\n",
       "      <td>210.0</td>\n",
       "      <td>5.0</td>\n",
       "      <td>180.0</td>\n",
       "      <td>True</td>\n",
       "      <td>False</td>\n",
       "      <td>0.0</td>\n",
       "      <td>1.0</td>\n",
       "      <td>0.0185589</td>\n",
       "      <td>1.581405</td>\n",
       "    </tr>\n",
       "  </tbody>\n",
       "</table>\n",
       "<p>585 rows × 14 columns</p>\n",
       "</div>"
      ],
      "text/plain": [
       "                     WindSpeedMean  WindDirectionMean PredictedWindSpeedMean  \\\n",
       "dtTimeStamp                                                                    \n",
       "2019-08-02 09:20:00       3.229630         321.237037                3.06628   \n",
       "2019-08-02 09:30:00       3.177778         295.111111                3.27731   \n",
       "2019-08-02 09:40:00       3.207407         253.970370                 3.1605   \n",
       "2019-08-02 10:00:00       3.418519         218.237037                3.57613   \n",
       "2019-08-02 10:10:00       2.781481         156.262963                3.40073   \n",
       "...                            ...                ...                    ...   \n",
       "2019-08-14 17:30:00       3.533333         181.555556                3.40321   \n",
       "2019-08-14 17:40:00       3.462963         179.270370                 3.5606   \n",
       "2019-08-14 17:50:00       3.659259         175.248148                 3.4468   \n",
       "2019-08-14 19:50:00       4.607407         187.833333                4.42607   \n",
       "2019-08-14 21:10:00       5.344444         195.440741                5.32589   \n",
       "\n",
       "                     PredictedWindDirectionMean  SpeedBin  DirectionBin  \\\n",
       "dtTimeStamp                                                               \n",
       "2019-08-02 09:20:00                  305.303084       3.0         330.0   \n",
       "2019-08-02 09:30:00                  325.686014       3.0         300.0   \n",
       "2019-08-02 09:40:00                  291.545736       3.0         240.0   \n",
       "2019-08-02 10:00:00                  241.960998       3.0         210.0   \n",
       "2019-08-02 10:10:00                  214.398796       3.0         150.0   \n",
       "...                                         ...       ...           ...   \n",
       "2019-08-14 17:30:00                  175.403373       4.0         180.0   \n",
       "2019-08-14 17:40:00                  182.282517       3.0         180.0   \n",
       "2019-08-14 17:50:00                  178.969739       4.0         180.0   \n",
       "2019-08-14 19:50:00                  184.659199       5.0         180.0   \n",
       "2019-08-14 21:10:00                  193.859336       5.0         210.0   \n",
       "\n",
       "                     PredictedSpeedBin  PredictedDirectionBin  SpeedBinEqual  \\\n",
       "dtTimeStamp                                                                    \n",
       "2019-08-02 09:20:00                3.0                  300.0           True   \n",
       "2019-08-02 09:30:00                3.0                  330.0           True   \n",
       "2019-08-02 09:40:00                3.0                  300.0           True   \n",
       "2019-08-02 10:00:00                4.0                  240.0          False   \n",
       "2019-08-02 10:10:00                3.0                  210.0           True   \n",
       "...                                ...                    ...            ...   \n",
       "2019-08-14 17:30:00                3.0                  180.0          False   \n",
       "2019-08-14 17:40:00                4.0                  180.0          False   \n",
       "2019-08-14 17:50:00                3.0                  180.0          False   \n",
       "2019-08-14 19:50:00                4.0                  180.0          False   \n",
       "2019-08-14 21:10:00                5.0                  180.0           True   \n",
       "\n",
       "                     DirectionBinEqual  SpeedBinDifference  \\\n",
       "dtTimeStamp                                                  \n",
       "2019-08-02 09:20:00              False                 0.0   \n",
       "2019-08-02 09:30:00              False                 0.0   \n",
       "2019-08-02 09:40:00              False                 0.0   \n",
       "2019-08-02 10:00:00              False                 1.0   \n",
       "2019-08-02 10:10:00              False                 0.0   \n",
       "...                                ...                 ...   \n",
       "2019-08-14 17:30:00               True                -1.0   \n",
       "2019-08-14 17:40:00               True                 1.0   \n",
       "2019-08-14 17:50:00               True                -1.0   \n",
       "2019-08-14 19:50:00               True                -1.0   \n",
       "2019-08-14 21:10:00              False                 0.0   \n",
       "\n",
       "                     DirectionBinDifference SpeedDifference  \\\n",
       "dtTimeStamp                                                   \n",
       "2019-08-02 09:20:00                     1.0        0.163352   \n",
       "2019-08-02 09:30:00                    -1.0      -0.0995349   \n",
       "2019-08-02 09:40:00                    -2.0        0.046904   \n",
       "2019-08-02 10:00:00                    -1.0       -0.157614   \n",
       "2019-08-02 10:10:00                    -2.0       -0.619251   \n",
       "...                                     ...             ...   \n",
       "2019-08-14 17:30:00                     0.0        0.130127   \n",
       "2019-08-14 17:40:00                     0.0      -0.0976402   \n",
       "2019-08-14 17:50:00                     0.0        0.212455   \n",
       "2019-08-14 19:50:00                     0.0        0.181333   \n",
       "2019-08-14 21:10:00                     1.0       0.0185589   \n",
       "\n",
       "                     DirectionDifference  \n",
       "dtTimeStamp                               \n",
       "2019-08-02 09:20:00            15.933953  \n",
       "2019-08-02 09:30:00           -30.574903  \n",
       "2019-08-02 09:40:00           -37.575366  \n",
       "2019-08-02 10:00:00           -23.723961  \n",
       "2019-08-02 10:10:00           -58.135833  \n",
       "...                                  ...  \n",
       "2019-08-14 17:30:00             6.152183  \n",
       "2019-08-14 17:40:00            -3.012147  \n",
       "2019-08-14 17:50:00            -3.721591  \n",
       "2019-08-14 19:50:00             3.174134  \n",
       "2019-08-14 21:10:00             1.581405  \n",
       "\n",
       "[585 rows x 14 columns]"
      ]
     },
     "execution_count": 557,
     "metadata": {},
     "output_type": "execute_result"
    }
   ],
   "source": [
    "comp_2 = pd.DataFrame()\n",
    "\n",
    "comp_2['WindSpeedMean'] = data['WindSpeedMean']\n",
    "comp_2['WindDirectionMean'] = data['WindDirectionMean']\n",
    "\n",
    "comp_2['PredictedWindSpeedMean'] = all_predictions['WindSpeedMean']\n",
    "comp_2['PredictedWindDirectionMean'] = all_predictions['WindDirectionMean']\n",
    "\n",
    "comp_2['SpeedBin'] = data['SpeedBin']\n",
    "comp_2['DirectionBin'] = data['DirectionBin']\n",
    "comp_2['PredictedSpeedBin'] = all_predictions[\"PredictedSpeedBin\"] \n",
    "comp_2['PredictedDirectionBin'] = all_predictions[\"PredictedDirectionBin\"] \n",
    "\n",
    "comp_2.dropna(inplace=True)\n",
    "comp_2['SpeedBinEqual'] = comp_2['SpeedBin'] == comp_2[\"PredictedSpeedBin\"]\n",
    "comp_2['DirectionBinEqual'] = comp_2['DirectionBin'] == comp_2[\"PredictedDirectionBin\"]\n",
    "\n",
    "comp_2['SpeedBinDifference'] = comp_2[\"PredictedSpeedBin\"] - comp_2['SpeedBin']\n",
    "comp_2['DirectionBinDifference'] = (comp_2['DirectionBin'] - comp_2[\"PredictedDirectionBin\"]) / 30\n",
    "\n",
    "\n",
    "comp_2['SpeedDifference'] = data['WindSpeedMean'] - all_predictions['WindSpeedMean']\n",
    "comp_2['DirectionDifference'] = (data['WindDirectionMean'].apply(math.radians) - all_predictions['WindDirectionMean'].apply(math.radians)).apply(math.degrees)\n",
    "\n",
    "\n",
    "comp_2.query('DirectionBinEqual == False or SpeedBinEqual == False')"
   ]
  },
  {
   "cell_type": "code",
   "execution_count": 558,
   "id": "solid-climate",
   "metadata": {},
   "outputs": [
    {
     "name": "stdout",
     "output_type": "stream",
     "text": [
      "0.038705583756345176\n",
      "0.005076142131979695\n",
      "4.0\n",
      "11.0\n",
      "-3.0\n",
      "-8.0\n"
     ]
    }
   ],
   "source": [
    "print(mean(comp_2[\"DirectionBinDifference\"]))\n",
    "\n",
    "print(mean(comp_2[\"SpeedBinDifference\"]))\n",
    "\n",
    "\n",
    "print(max(comp_2[\"SpeedBinDifference\"]))\n",
    "\n",
    "print(max(comp_2[\"DirectionBinDifference\"]))\n",
    "\n",
    "print(min(comp_2[\"SpeedBinDifference\"]))\n",
    "\n",
    "print(min(comp_2[\"DirectionBinDifference\"]))"
   ]
  },
  {
   "cell_type": "code",
   "execution_count": 559,
   "id": "behind-double",
   "metadata": {},
   "outputs": [
    {
     "data": {
      "image/png": "[encoded data removed]",
      "text/plain": [
       "<Figure size 432x288 with 1 Axes>"
      ]
     },
     "metadata": {
      "needs_background": "light"
     },
     "output_type": "display_data"
    }
   ],
   "source": [
    "labels, counts = np.unique(comp_2[\"DirectionBinDifference\"], return_counts=True)\n",
    "plt.bar(labels, counts, align='center')\n",
    "plt.gca().set_xticks(labels)\n",
    "plt.show()"
   ]
  },
  {
   "cell_type": "code",
   "execution_count": 560,
   "id": "nominated-substance",
   "metadata": {},
   "outputs": [
    {
     "data": {
      "image/png": "[encoded data removed]",
      "text/plain": [
       "<Figure size 432x288 with 1 Axes>"
      ]
     },
     "metadata": {
      "needs_background": "light"
     },
     "output_type": "display_data"
    }
   ],
   "source": [
    "labels, counts = np.unique(comp_2[\"SpeedBinDifference\"], return_counts=True)\n",
    "plt.bar(labels, counts, align='center')\n",
    "plt.gca().set_xticks(labels)\n",
    "plt.show()"
   ]
  },
  {
   "cell_type": "code",
   "execution_count": 561,
   "id": "persistent-rubber",
   "metadata": {},
   "outputs": [
    {
     "name": "stdout",
     "output_type": "stream",
     "text": [
      "Percentage of bins wrong:\n",
      "22.33502538071066\n"
     ]
    }
   ],
   "source": [
    "wrong = comp_2.query('SpeedBinDifference != 0')\n",
    "\n",
    "error = len(wrong) / comp_2.shape[0] * 100\n",
    "\n",
    "print(\"Percentage of bins wrong:\")\n",
    "print(error)\n"
   ]
  },
  {
   "cell_type": "code",
   "execution_count": 562,
   "id": "recognized-central",
   "metadata": {
    "scrolled": true
   },
   "outputs": [
    {
     "data": {
      "text/plain": [
       "352"
      ]
     },
     "execution_count": 562,
     "metadata": {},
     "output_type": "execute_result"
    }
   ],
   "source": [
    "wrong = comp_2.query('SpeedBinDifference != 0')\n",
    "len(wrong)"
   ]
  },
  {
   "cell_type": "code",
   "execution_count": 563,
   "id": "minute-still",
   "metadata": {},
   "outputs": [
    {
     "name": "stdout",
     "output_type": "stream",
     "text": [
      "Percentage of bins wrong:\n",
      "37.119289340101524\n"
     ]
    }
   ],
   "source": [
    "wrong = comp_2.query('DirectionBinDifference != 0 or SpeedBinDifference != 0')\n",
    "\n",
    "error = len(wrong) / comp_2.shape[0] * 100\n",
    "\n",
    "print(\"Percentage of bins wrong:\")\n",
    "print(error)"
   ]
  },
  {
   "cell_type": "code",
   "execution_count": 564,
   "id": "inner-bible",
   "metadata": {},
   "outputs": [
    {
     "data": {
      "text/plain": [
       "Text(0.5, 1.0, 'Real vs Predictions')"
      ]
     },
     "execution_count": 564,
     "metadata": {},
     "output_type": "execute_result"
    },
    {
     "data": {
      "image/png": "[encoded data removed]",
      "text/plain": [
       "<Figure size 1440x360 with 1 Axes>"
      ]
     },
     "metadata": {
      "needs_background": "light"
     },
     "output_type": "display_data"
    }
   ],
   "source": [
    "plt.figure(figsize=(20,5))\n",
    "plt.plot(comp_2[\"DirectionDifference\"], color='blue', label='Risidual')\n",
    "plt.plot(comp_2['WindDirectionMean'], color='red', label='Real')\n",
    "plt.plot(comp_2['PredictedWindDirectionMean'], color='green', label='Real')\n",
    "plt.legend(loc='best')\n",
    "plt.title('Real vs Predictions')"
   ]
  },
  {
   "cell_type": "code",
   "execution_count": 565,
   "id": "reduced-civilian",
   "metadata": {},
   "outputs": [
    {
     "data": {
      "text/plain": [
       "Text(0.5, 1.0, 'Real vs Predictions')"
      ]
     },
     "execution_count": 565,
     "metadata": {},
     "output_type": "execute_result"
    },
    {
     "data": {
      "image/png": "[encoded data removed]",
      "text/plain": [
       "<Figure size 1440x360 with 1 Axes>"
      ]
     },
     "metadata": {
      "needs_background": "light"
     },
     "output_type": "display_data"
    }
   ],
   "source": [
    "plt.figure(figsize=(20,5))\n",
    "plt.plot(comp_2[\"SpeedDifference\"], color='blue', label='Risidual')\n",
    "plt.plot(comp_2['WindSpeedMean'], color='red', label='Real')\n",
    "plt.plot(comp_2['PredictedWindSpeedMean'], color='green', label='Real')\n",
    "plt.legend(loc='best')\n",
    "plt.title('Real vs Predictions')"
   ]
  },
  {
   "cell_type": "code",
   "execution_count": 566,
   "id": "continent-shanghai",
   "metadata": {},
   "outputs": [
    {
     "data": {
      "text/plain": [
       "<AxesSubplot:>"
      ]
     },
     "execution_count": 566,
     "metadata": {},
     "output_type": "execute_result"
    },
    {
     "data": {
      "image/png": "[encoded data removed]",
      "text/plain": [
       "<Figure size 432x288 with 1 Axes>"
      ]
     },
     "metadata": {
      "needs_background": "light"
     },
     "output_type": "display_data"
    }
   ],
   "source": [
    "comp_2[\"DirectionDifference\"].hist()\n"
   ]
  },
  {
   "cell_type": "code",
   "execution_count": 567,
   "id": "pregnant-meaning",
   "metadata": {
    "scrolled": true
   },
   "outputs": [
    {
     "data": {
      "text/plain": [
       "<AxesSubplot:>"
      ]
     },
     "execution_count": 567,
     "metadata": {},
     "output_type": "execute_result"
    },
    {
     "data": {
      "image/png": "[encoded data removed]",
      "text/plain": [
       "<Figure size 432x288 with 1 Axes>"
      ]
     },
     "metadata": {
      "needs_background": "light"
     },
     "output_type": "display_data"
    }
   ],
   "source": [
    "comp_2[\"SpeedDifference\"].hist()"
   ]
  },
  {
   "cell_type": "code",
   "execution_count": 568,
   "id": "latter-wealth",
   "metadata": {},
   "outputs": [
    {
     "name": "stdout",
     "output_type": "stream",
     "text": [
      "Percentage of bins wrong:\n",
      "3.1091370558375635\n"
     ]
    }
   ],
   "source": [
    "wrong = comp_2.query('DirectionBinDifference not in [-1,1,0]')\n",
    "\n",
    "error = len(wrong) / comp_2.shape[0] * 100\n",
    "\n",
    "print(\"Percentage of bins wrong:\")\n",
    "print(error)"
   ]
  },
  {
   "cell_type": "code",
   "execution_count": 569,
   "id": "optimum-robinson",
   "metadata": {},
   "outputs": [
    {
     "name": "stdout",
     "output_type": "stream",
     "text": [
      "Percentage of bins wrong:\n",
      "16.687817258883246\n"
     ]
    }
   ],
   "source": [
    "wrong = comp_2.query('DirectionBinDifference in [-1,1]')\n",
    "\n",
    "error = len(wrong) / comp_2.shape[0] * 100\n",
    "\n",
    "print(\"Percentage of bins wrong:\")\n",
    "print(error)"
   ]
  },
  {
   "cell_type": "code",
   "execution_count": 570,
   "id": "classical-stephen",
   "metadata": {},
   "outputs": [
    {
     "data": {
      "text/plain": [
       "0.9042479274702838"
      ]
     },
     "execution_count": 570,
     "metadata": {},
     "output_type": "execute_result"
    }
   ],
   "source": [
    "np.std(comp_2[\"DirectionBinDifference\"])"
   ]
  },
  {
   "cell_type": "code",
   "execution_count": 571,
   "id": "fossil-companion",
   "metadata": {},
   "outputs": [
    {
     "data": {
      "text/plain": [
       "Text(0.5, 1.0, 'Predicting Raw Values')"
      ]
     },
     "execution_count": 571,
     "metadata": {},
     "output_type": "execute_result"
    },
    {
     "data": {
      "image/png": "[encoded data removed]",
      "text/plain": [
       "<Figure size 432x288 with 2 Axes>"
      ]
     },
     "metadata": {
      "needs_background": "light"
     },
     "output_type": "display_data"
    }
   ],
   "source": [
    "import seaborn as sns\n",
    "\n",
    "g = sns.histplot(comp_2, x=\"SpeedBinDifference\", y=\"DirectionBinDifference\", discrete=True, cbar=True)\n",
    "g.set_xticks(range(-12,12))#\n",
    "g.set_yticks(range(-12,12))# <--- set the ticks first\n",
    "g.set_title('Predicting Raw Values')"
   ]
  },
  {
   "cell_type": "code",
   "execution_count": 572,
   "id": "western-poultry",
   "metadata": {},
   "outputs": [
    {
     "name": "stdout",
     "output_type": "stream",
     "text": [
      "Percentage of bins wrong:\n",
      "5.012690355329949\n"
     ]
    }
   ],
   "source": [
    "wrong = comp_2.query('DirectionBinEqual == False and SpeedBinEqual == False')\n",
    "\n",
    "error = len(wrong) / comp_2.shape[0] * 100\n",
    "\n",
    "print(\"Percentage of bins wrong:\")\n",
    "print(error)"
   ]
  },
  {
   "cell_type": "code",
   "execution_count": 574,
   "id": "pressing-saskatchewan",
   "metadata": {},
   "outputs": [
    {
     "name": "stdout",
     "output_type": "stream",
     "text": [
      "Percentage of bins wrong:\n",
      "37.119289340101524\n"
     ]
    }
   ],
   "source": [
    "wrong = comp_2.query('DirectionBinEqual == False or SpeedBinEqual == False')\n",
    "\n",
    "error = len(wrong) / comp_2.shape[0] * 100\n",
    "\n",
    "print(\"Percentage of bins wrong:\")\n",
    "print(error)"
   ]
  },
  {
   "cell_type": "code",
   "execution_count": null,
   "id": "outstanding-monkey",
   "metadata": {},
   "outputs": [],
   "source": []
  }
 ],
 "metadata": {
  "kernelspec": {
   "display_name": "Python 3",
   "language": "python",
   "name": "python3"
  },
  "language_info": {
   "codemirror_mode": {
    "name": "ipython",
    "version": 3
   },
   "file_extension": ".py",
   "mimetype": "text/x-python",
   "name": "python",
   "nbconvert_exporter": "python",
   "pygments_lexer": "ipython3",
   "version": "3.8.6"
  }
 },
 "nbformat": 4,
 "nbformat_minor": 5
}
