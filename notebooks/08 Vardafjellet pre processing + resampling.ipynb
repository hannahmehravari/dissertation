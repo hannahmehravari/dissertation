{
 "cells": [
  {
   "cell_type": "code",
   "execution_count": 24,
   "metadata": {},
   "outputs": [],
   "source": [
    "import pandas as pd\n",
    "import numpy as np\n",
    "import matplotlib.pyplot as plt\n",
    "\n",
    "import warnings\n",
    "warnings.filterwarnings('ignore')"
   ]
  },
  {
   "cell_type": "code",
   "execution_count": 2,
   "metadata": {},
   "outputs": [],
   "source": [
    "scada_data = pd.read_csv(\"C:\\\\Users\\\\hanna\\\\Desktop\\\\data\\\\Events.csv\", delimiter=',',  parse_dates=True)\n"
   ]
  },
  {
   "cell_type": "code",
   "execution_count": 3,
   "metadata": {},
   "outputs": [],
   "source": [
    "scada_data.drop(columns=['timestamp ($ts)_DateTime','payload_quality_String', 'payload_timestamp_DateTime', 'payload_unit_String', 'payload_quantity_String'], inplace=True)\n",
    "scada_data.columns\n",
    "scada_data.rename(columns={'timestamp  (UTC+00:00) Local - Europe/London: GMT_DateTime':'timestamp',\n",
    "                          'apiKey_String': 'turbine', 'measurement_String': 'measurement', 'payload_value_Double' : 'value'}, inplace=True)\n",
    "scada_data['timestamp'] = pd.to_datetime(scada_data['timestamp'])"
   ]
  },
  {
   "cell_type": "code",
   "execution_count": 4,
   "metadata": {},
   "outputs": [
    {
     "data": {
      "text/html": [
       "<div>\n",
       "<style scoped>\n",
       "    .dataframe tbody tr th:only-of-type {\n",
       "        vertical-align: middle;\n",
       "    }\n",
       "\n",
       "    .dataframe tbody tr th {\n",
       "        vertical-align: top;\n",
       "    }\n",
       "\n",
       "    .dataframe thead th {\n",
       "        text-align: right;\n",
       "    }\n",
       "</style>\n",
       "<table border=\"1\" class=\"dataframe\">\n",
       "  <thead>\n",
       "    <tr style=\"text-align: right;\">\n",
       "      <th></th>\n",
       "      <th>timestamp</th>\n",
       "      <th>turbine</th>\n",
       "      <th>wind_speed</th>\n",
       "      <th>wind_direction</th>\n",
       "    </tr>\n",
       "  </thead>\n",
       "  <tbody>\n",
       "    <tr>\n",
       "      <th>0</th>\n",
       "      <td>2020-12-26 11:55:38.012</td>\n",
       "      <td>nor_var_t01</td>\n",
       "      <td>7.0</td>\n",
       "      <td>170.300003</td>\n",
       "    </tr>\n",
       "    <tr>\n",
       "      <th>1</th>\n",
       "      <td>2020-12-26 11:55:38.012</td>\n",
       "      <td>nor_var_t03</td>\n",
       "      <td>7.4</td>\n",
       "      <td>160.300003</td>\n",
       "    </tr>\n",
       "    <tr>\n",
       "      <th>2</th>\n",
       "      <td>2020-12-26 11:55:38.012</td>\n",
       "      <td>nor_var_t05</td>\n",
       "      <td>5.7</td>\n",
       "      <td>166.300003</td>\n",
       "    </tr>\n",
       "    <tr>\n",
       "      <th>3</th>\n",
       "      <td>2020-12-26 11:55:38.012</td>\n",
       "      <td>nor_var_t06</td>\n",
       "      <td>8.2</td>\n",
       "      <td>170.500000</td>\n",
       "    </tr>\n",
       "    <tr>\n",
       "      <th>4</th>\n",
       "      <td>2020-12-26 11:55:38.013</td>\n",
       "      <td>nor_var_t07</td>\n",
       "      <td>9.6</td>\n",
       "      <td>171.600006</td>\n",
       "    </tr>\n",
       "    <tr>\n",
       "      <th>...</th>\n",
       "      <td>...</td>\n",
       "      <td>...</td>\n",
       "      <td>...</td>\n",
       "      <td>...</td>\n",
       "    </tr>\n",
       "    <tr>\n",
       "      <th>604368</th>\n",
       "      <td>2021-01-25 11:55:10.250</td>\n",
       "      <td>nor_var_t05</td>\n",
       "      <td>1.3</td>\n",
       "      <td>37.400002</td>\n",
       "    </tr>\n",
       "    <tr>\n",
       "      <th>604369</th>\n",
       "      <td>2021-01-25 11:55:10.250</td>\n",
       "      <td>nor_var_t06</td>\n",
       "      <td>2.2</td>\n",
       "      <td>33.700001</td>\n",
       "    </tr>\n",
       "    <tr>\n",
       "      <th>604370</th>\n",
       "      <td>2021-01-25 11:55:10.250</td>\n",
       "      <td>nor_var_t07</td>\n",
       "      <td>2.2</td>\n",
       "      <td>28.000000</td>\n",
       "    </tr>\n",
       "    <tr>\n",
       "      <th>604371</th>\n",
       "      <td>2021-01-25 11:55:10.250</td>\n",
       "      <td>nor_var_t08</td>\n",
       "      <td>1.4</td>\n",
       "      <td>34.299999</td>\n",
       "    </tr>\n",
       "    <tr>\n",
       "      <th>604372</th>\n",
       "      <td>2021-01-25 11:55:10.250</td>\n",
       "      <td>nor_var_t09</td>\n",
       "      <td>1.7</td>\n",
       "      <td>36.500000</td>\n",
       "    </tr>\n",
       "  </tbody>\n",
       "</table>\n",
       "<p>604373 rows × 4 columns</p>\n",
       "</div>"
      ],
      "text/plain": [
       "                     timestamp      turbine  wind_speed  wind_direction\n",
       "0      2020-12-26 11:55:38.012  nor_var_t01         7.0      170.300003\n",
       "1      2020-12-26 11:55:38.012  nor_var_t03         7.4      160.300003\n",
       "2      2020-12-26 11:55:38.012  nor_var_t05         5.7      166.300003\n",
       "3      2020-12-26 11:55:38.012  nor_var_t06         8.2      170.500000\n",
       "4      2020-12-26 11:55:38.013  nor_var_t07         9.6      171.600006\n",
       "...                        ...          ...         ...             ...\n",
       "604368 2021-01-25 11:55:10.250  nor_var_t05         1.3       37.400002\n",
       "604369 2021-01-25 11:55:10.250  nor_var_t06         2.2       33.700001\n",
       "604370 2021-01-25 11:55:10.250  nor_var_t07         2.2       28.000000\n",
       "604371 2021-01-25 11:55:10.250  nor_var_t08         1.4       34.299999\n",
       "604372 2021-01-25 11:55:10.250  nor_var_t09         1.7       36.500000\n",
       "\n",
       "[604373 rows x 4 columns]"
      ]
     },
     "execution_count": 4,
     "metadata": {},
     "output_type": "execute_result"
    }
   ],
   "source": [
    "wind_speed = scada_data[scada_data['measurement'] == 'Windspeed'][[\"timestamp\",\"turbine\",\"value\"]]\n",
    "wind_speed.rename(columns={\"value\": \"wind_speed\"}, inplace=True)\n",
    "wind_speed.reset_index(inplace=True, drop=True)\n",
    "wind_direction = scada_data[scada_data['measurement'] == 'WindDirection'][[\"timestamp\",\"turbine\",\"value\"]]\n",
    "wind_direction.rename(columns={\"value\": \"wind_direction\"}, inplace=True)\n",
    "wind_direction.reset_index(inplace=True, drop=True)\n",
    "wind_speed['wind_direction'] = wind_direction['wind_direction']\n",
    "data = wind_speed.copy()\n",
    "data"
   ]
  },
  {
   "cell_type": "code",
   "execution_count": 5,
   "metadata": {},
   "outputs": [
    {
     "data": {
      "text/html": [
       "<div>\n",
       "<style scoped>\n",
       "    .dataframe tbody tr th:only-of-type {\n",
       "        vertical-align: middle;\n",
       "    }\n",
       "\n",
       "    .dataframe tbody tr th {\n",
       "        vertical-align: top;\n",
       "    }\n",
       "\n",
       "    .dataframe thead th {\n",
       "        text-align: right;\n",
       "    }\n",
       "</style>\n",
       "<table border=\"1\" class=\"dataframe\">\n",
       "  <thead>\n",
       "    <tr style=\"text-align: right;\">\n",
       "      <th></th>\n",
       "      <th>wind_speed</th>\n",
       "      <th>wind_direction</th>\n",
       "    </tr>\n",
       "    <tr>\n",
       "      <th>timestamp</th>\n",
       "      <th></th>\n",
       "      <th></th>\n",
       "    </tr>\n",
       "  </thead>\n",
       "  <tbody>\n",
       "    <tr>\n",
       "      <th>2020-12-26 11:54:00</th>\n",
       "      <td>7.254167</td>\n",
       "      <td>170.058335</td>\n",
       "    </tr>\n",
       "    <tr>\n",
       "      <th>2020-12-26 11:56:00</th>\n",
       "      <td>7.825000</td>\n",
       "      <td>168.118255</td>\n",
       "    </tr>\n",
       "    <tr>\n",
       "      <th>2020-12-26 11:58:00</th>\n",
       "      <td>7.050992</td>\n",
       "      <td>166.044046</td>\n",
       "    </tr>\n",
       "    <tr>\n",
       "      <th>2020-12-26 12:00:00</th>\n",
       "      <td>7.476667</td>\n",
       "      <td>172.162857</td>\n",
       "    </tr>\n",
       "    <tr>\n",
       "      <th>2020-12-26 12:02:00</th>\n",
       "      <td>7.546508</td>\n",
       "      <td>172.160397</td>\n",
       "    </tr>\n",
       "    <tr>\n",
       "      <th>...</th>\n",
       "      <td>...</td>\n",
       "      <td>...</td>\n",
       "    </tr>\n",
       "    <tr>\n",
       "      <th>2021-01-25 11:46:00</th>\n",
       "      <td>1.961701</td>\n",
       "      <td>84.096259</td>\n",
       "    </tr>\n",
       "    <tr>\n",
       "      <th>2021-01-25 11:48:00</th>\n",
       "      <td>1.857143</td>\n",
       "      <td>70.270636</td>\n",
       "    </tr>\n",
       "    <tr>\n",
       "      <th>2021-01-25 11:50:00</th>\n",
       "      <td>1.898849</td>\n",
       "      <td>72.101151</td>\n",
       "    </tr>\n",
       "    <tr>\n",
       "      <th>2021-01-25 11:52:00</th>\n",
       "      <td>1.898571</td>\n",
       "      <td>68.825953</td>\n",
       "    </tr>\n",
       "    <tr>\n",
       "      <th>2021-01-25 11:54:00</th>\n",
       "      <td>1.916786</td>\n",
       "      <td>96.811073</td>\n",
       "    </tr>\n",
       "  </tbody>\n",
       "</table>\n",
       "<p>21601 rows × 2 columns</p>\n",
       "</div>"
      ],
      "text/plain": [
       "                     wind_speed  wind_direction\n",
       "timestamp                                      \n",
       "2020-12-26 11:54:00    7.254167      170.058335\n",
       "2020-12-26 11:56:00    7.825000      168.118255\n",
       "2020-12-26 11:58:00    7.050992      166.044046\n",
       "2020-12-26 12:00:00    7.476667      172.162857\n",
       "2020-12-26 12:02:00    7.546508      172.160397\n",
       "...                         ...             ...\n",
       "2021-01-25 11:46:00    1.961701       84.096259\n",
       "2021-01-25 11:48:00    1.857143       70.270636\n",
       "2021-01-25 11:50:00    1.898849       72.101151\n",
       "2021-01-25 11:52:00    1.898571       68.825953\n",
       "2021-01-25 11:54:00    1.916786       96.811073\n",
       "\n",
       "[21601 rows x 2 columns]"
      ]
     },
     "execution_count": 5,
     "metadata": {},
     "output_type": "execute_result"
    }
   ],
   "source": [
    "data_rs = data.groupby(['timestamp']).mean()\n",
    "data_rs = data_rs.resample('2min').mean()\n",
    "data_rs = data_rs.asfreq(pd.infer_freq(data_rs.index))\n",
    "data_rs"
   ]
  },
  {
   "cell_type": "code",
   "execution_count": 6,
   "metadata": {},
   "outputs": [
    {
     "name": "stderr",
     "output_type": "stream",
     "text": [
      "C:\\Users\\hanna\\Anaconda3\\envs\\dissertation\\lib\\site-packages\\statsmodels\\base\\model.py:566: ConvergenceWarning: Maximum Likelihood optimization failed to converge. Check mle_retvals\n",
      "  warnings.warn(\"Maximum Likelihood optimization failed to \"\n",
      "C:\\Users\\hanna\\Anaconda3\\envs\\dissertation\\lib\\site-packages\\statsmodels\\base\\model.py:566: ConvergenceWarning: Maximum Likelihood optimization failed to converge. Check mle_retvals\n",
      "  warnings.warn(\"Maximum Likelihood optimization failed to \"\n"
     ]
    }
   ],
   "source": [
    "from statsmodels.tsa.arima_model import ARIMA\n",
    "import datetime as dt\n",
    "\n",
    "\n",
    "def predict(history):\n",
    "    model = ARIMA(history, order=(1,1,0))\n",
    "    model_fit = model.fit(disp=0)\n",
    "    output = model_fit.forecast()\n",
    "    yhat = output[0].flatten()[0]\n",
    "    return yhat\n",
    "\n",
    "\n",
    "X = data_rs.iloc[0:500]\n",
    "size = int(len(X) * 0.05)\n",
    "train, test = X.iloc[0:size], X.iloc[size:len(X)]\n",
    "columns = ['wind_speed', 'wind_direction']\n",
    "history = train\n",
    "predictions = pd.DataFrame(index=test.index.shift(-1), columns=[x+\"Prediction\" for x in columns])\n",
    "times = []\n",
    "for i, row in test.iterrows():\n",
    "    start = dt.datetime.now()\n",
    "    for col_name in columns:\n",
    "        predictions.loc[i-predictions.index.freq, col_name+'Prediction'] = predict(history[col_name].tail(size).dropna())\n",
    "        history.loc[i, col_name] = row[col_name]\n",
    "        end = dt.datetime.now()\n",
    "    times.append(end-start)\n"
   ]
  },
  {
   "cell_type": "code",
   "execution_count": 7,
   "metadata": {},
   "outputs": [
    {
     "data": {
      "application/vnd.jupyter.widget-view+json": {
       "model_id": "dd807b98d344488bb712a945f90a4e3c",
       "version_major": 2,
       "version_minor": 0
      },
      "text/plain": [
       "Canvas(toolbar=Toolbar(toolitems=[('Home', 'Reset original view', 'home', 'home'), ('Back', 'Back to previous …"
      ]
     },
     "metadata": {},
     "output_type": "display_data"
    },
    {
     "data": {
      "text/plain": [
       "Text(0.5, 1.0, 'Real vs Predictions')"
      ]
     },
     "execution_count": 7,
     "metadata": {},
     "output_type": "execute_result"
    }
   ],
   "source": [
    "plt.figure(figsize=(20,5))\n",
    "plt.plot(history['wind_speed'], color='blue', label='real')\n",
    "plt.plot(predictions['wind_speedPrediction'], color='red', label='prediction')\n",
    "plt.legend(loc='best')\n",
    "plt.title('Real vs Predictions')"
   ]
  },
  {
   "cell_type": "code",
   "execution_count": 8,
   "metadata": {},
   "outputs": [
    {
     "name": "stdout",
     "output_type": "stream",
     "text": [
      "0.12743045876739165\n"
     ]
    }
   ],
   "source": [
    "from sklearn.metrics import mean_squared_error\n",
    "combined_df = pd.concat([history,predictions], axis=1).dropna()\n",
    "error = mean_squared_error(combined_df['wind_speed'], combined_df['wind_speedPrediction'])\n",
    "print(error)"
   ]
  },
  {
   "cell_type": "code",
   "execution_count": 9,
   "metadata": {},
   "outputs": [
    {
     "data": {
      "application/vnd.jupyter.widget-view+json": {
       "model_id": "237dba20a143457da76cea50a993d98f",
       "version_major": 2,
       "version_minor": 0
      },
      "text/plain": [
       "Canvas(toolbar=Toolbar(toolitems=[('Home', 'Reset original view', 'home', 'home'), ('Back', 'Back to previous …"
      ]
     },
     "metadata": {},
     "output_type": "display_data"
    },
    {
     "data": {
      "text/plain": [
       "Text(0.5, 1.0, 'Real vs Predictions')"
      ]
     },
     "execution_count": 9,
     "metadata": {},
     "output_type": "execute_result"
    }
   ],
   "source": [
    "plt.figure(figsize=(20,5))\n",
    "plt.plot(history['wind_direction'], color='blue', label='real')\n",
    "plt.plot(predictions['wind_directionPrediction'], color='red', label='prediction')\n",
    "plt.legend(loc='best')\n",
    "plt.title('Real vs Predictions')"
   ]
  },
  {
   "cell_type": "code",
   "execution_count": 10,
   "metadata": {},
   "outputs": [
    {
     "name": "stdout",
     "output_type": "stream",
     "text": [
      "1.21629639842871\n"
     ]
    }
   ],
   "source": [
    "from sklearn.metrics import mean_squared_error\n",
    "combined_df = pd.concat([history,predictions], axis=1).dropna()\n",
    "error = mean_squared_error(combined_df['wind_direction'], combined_df['wind_directionPrediction'])\n",
    "print(error)"
   ]
  },
  {
   "cell_type": "code",
   "execution_count": 11,
   "metadata": {},
   "outputs": [
    {
     "name": "stdout",
     "output_type": "stream",
     "text": [
      "0.06515874408540334\n",
      "0.014127464366026686\n",
      "0.00526356365779268\n",
      "0.032806035129279175\n"
     ]
    }
   ],
   "source": [
    "print((history['wind_speed'] - history['wind_speed'].shift(1)).median())\n",
    "print((history['wind_direction'] - history['wind_direction'].shift(-1)).mean())\n",
    "\n",
    "print((predictions['wind_speedPrediction'] - predictions['wind_speedPrediction'].shift(1)).median())\n",
    "print((predictions['wind_directionPrediction'] - predictions['wind_directionPrediction'].shift(-1)).mean())"
   ]
  },
  {
   "cell_type": "code",
   "execution_count": 68,
   "metadata": {},
   "outputs": [
    {
     "name": "stdout",
     "output_type": "stream",
     "text": [
      "                     wind_speed  wind_direction\n",
      "timestamp                                      \n",
      "2020-12-26 12:42:00    6.458286      178.922572\n",
      "2020-12-26 12:44:00    7.147917      171.529166\n",
      "2020-12-26 12:46:00    7.260238      172.902144\n",
      "2020-12-26 12:48:00    7.102449      174.795170\n",
      "2020-12-26 12:50:00    7.565714      177.712039\n",
      "                    wind_speedPrediction wind_directionPrediction  \\\n",
      "timestamp                                                           \n",
      "2020-12-26 12:48:00              7.09157                  174.762   \n",
      "2020-12-26 12:58:00              7.74909                  187.137   \n",
      "2020-12-26 13:08:00              8.70015                  186.267   \n",
      "2020-12-26 13:18:00              9.36285                  183.415   \n",
      "2020-12-26 13:28:00              8.76551                  177.985   \n",
      "\n",
      "                         vertical_lines  \n",
      "timestamp                                \n",
      "2020-12-26 12:48:00 2020-12-26 12:50:00  \n",
      "2020-12-26 12:58:00 2020-12-26 13:00:00  \n",
      "2020-12-26 13:08:00 2020-12-26 13:10:00  \n",
      "2020-12-26 13:18:00 2020-12-26 13:20:00  \n",
      "2020-12-26 13:28:00 2020-12-26 13:30:00  \n"
     ]
    }
   ],
   "source": [
    "from datetime import datetime, timedelta\n",
    "\n",
    "predictions[\"vertical_lines\"] = predictions.index\n",
    "predictions[\"vertical_lines\"] = predictions[\"vertical_lines\"].dt.ceil('10min')\n",
    "\n",
    "history_plot = history[24:70]\n",
    "predictions_plot = predictions[(predictions.index.minute+2)%10==0][0:9]\n",
    "\n",
    "\n",
    "print(history_plot.head(5))\n",
    "print(predictions_plot.head(5))"
   ]
  },
  {
   "cell_type": "code",
   "execution_count": 130,
   "metadata": {},
   "outputs": [],
   "source": [
    "from datetime import datetime\n",
    "import matplotlib.dates as mdates\n",
    "\n",
    "blue_lines = [ i for i in history_plot.index if i.minute % 10 == 0]\n",
    "red_lines = [ i for i in history_plot.index if (i.minute+4) % 10 == 0]\n",
    "prediction_ticks = [ i for i in history_plot.index if (i.minute+2) % 10 == 0]\n",
    "ticks = blue_lines+red_lines+prediction_ticks\n",
    "l = [i.strftime(\"%H:%M:%S\") if (i in ticks) else \"\" for i in history_plot.index]"
   ]
  },
  {
   "cell_type": "code",
   "execution_count": 132,
   "metadata": {},
   "outputs": [
    {
     "data": {
      "application/vnd.jupyter.widget-view+json": {
       "model_id": "058d150ac02140d3af48c0163993fe34",
       "version_major": 2,
       "version_minor": 0
      },
      "text/plain": [
       "Canvas(toolbar=Toolbar(toolitems=[('Home', 'Reset original view', 'home', 'home'), ('Back', 'Back to previous …"
      ]
     },
     "metadata": {},
     "output_type": "display_data"
    }
   ],
   "source": [
    "\n",
    "plt.figure(figsize=(12,8))\n",
    "plt.subplot(2, 1, 1)\n",
    "plt.plot(history_plot['wind_direction'], color='blue', label='Real data')\n",
    "#plt.scatter(y=history_plot['wind_direction'], x=history_plot.index, c='blue', marker=\"o\", s=20, label='Real data')\n",
    "\n",
    "plt.scatter(y=predictions_plot['wind_directionPrediction'], x=predictions_plot.index, c='red', marker=\"o\", s=20, label='Predicted data')\n",
    "\n",
    "plt.xticks(history_plot.index, rotation='vertical', labels=[])\n",
    "#plt.axvspan(datetime(2020,12,26,13,44), datetime(2020,12,26,14,6), facecolor='yellow', alpha=0.1, label='Initial training period')\n",
    "plt.title('Prediction to Decision Timeline')\n",
    "\n",
    "\n",
    "for d in blue_lines:\n",
    "    plt.axvline(x=d, linestyle='--', alpha=0.7, label='Turbine Status Change', c='green')\n",
    "    \n",
    "\n",
    "for d in red_lines:\n",
    "    plt.axvline(x=d, linestyle='--', alpha=0.7, label='Prediction Made', c='red')\n",
    "\n",
    "for d in prediction_ticks:\n",
    "    plt.axvline(x=d, linestyle='--', alpha=0.7, label='Send command')\n",
    "\n",
    "plt.ylabel('Wind Direction')\n",
    "\n",
    "for i, row in history_plot.iterrows():\n",
    "    if i in prediction_ticks:\n",
    "        plt.annotate(round(row['wind_direction'], 2), xy=(i, row['wind_direction']+0.4), size=8, c='blue', weight='bold')\n",
    "        plt.annotate(round(predictions_plot.loc[i]['wind_directionPrediction'], 2), xy=(i, row['wind_direction']+0.7), size=8, c='red', weight='bold')\n",
    "    if i in blue_lines:\n",
    "        plt.annotate(round(row['wind_direction'], 2), xy=(i, row['wind_direction']+0.2), size=8, c='blue', weight='bold')\n",
    "\n",
    "\n",
    "plt.subplot(2, 1, 2)\n",
    "plt.plot(history_plot['wind_speed'], color='blue', label='Real data')\n",
    "#plt.scatter(y=history_plot['wind_speed'], x=history_plot.index, c='blue', marker=\"o\", s=20, label='Real data')\n",
    "plt.scatter(y=predictions_plot['wind_speedPrediction'], x=predictions_plot.index, c='red', marker=\"o\", s=20, label='Predicted data')\n",
    "plt.xticks(history_plot.index, rotation='vertical', labels=l)\n",
    "#plt.axvspan(datetime(2020,12,26,13,44), datetime(2020,12,26,14,6), facecolor='yellow', alpha=0.1, label='Initial training period')\n",
    "\n",
    "\n",
    "plt.rcParams[\"date.autoformatter.minute\"] = \"%m-%d %H:%M:%S\"\n",
    "\n",
    "for d in blue_lines:\n",
    "    plt.axvline(x=d, linestyle='--', alpha=0.7, label='Turbine Status Change', c='green')\n",
    "\n",
    "for d in red_lines:\n",
    "    plt.axvline(x=d, linestyle='--', alpha=0.7, label='Prediction Made', c='red')\n",
    "\n",
    "for d in prediction_ticks:\n",
    "    plt.axvline(x=d, linestyle='--', alpha=0.7, label='Send command')\n",
    "\n",
    "# for d in predictions_plot.index:\n",
    "#     plt.axvline(x=d, linestyle='--', alpha=0.7, label='Prediction Made')\n",
    "\n",
    "plt.xlabel('Time of Day')\n",
    "plt.ylabel('Wind Speed')\n",
    "\n",
    "# for i, row in predictions_plot.iterrows():\n",
    "#     plt.annotate(round(row['wind_speedPrediction'], 2), xy=(i, row['wind_speedPrediction']), size=8, c='red')\n",
    "\n",
    "for i, row in history_plot.iterrows():\n",
    "    if i in prediction_ticks:\n",
    "        plt.annotate(round(row['wind_speed'], 2), xy=(i, row['wind_speed']-0.15), size=8, c='blue', weight='bold')\n",
    "        plt.annotate(round(predictions_plot.loc[i]['wind_speedPrediction'], 2), xy=(i, row['wind_speed']-0.25), size=8, c='red', weight='bold')\n",
    "    \n",
    "    if i in blue_lines:\n",
    "        plt.annotate(round(row['wind_speed'], 2), xy=(i, row['wind_speed']+0.05), size=8, c='blue', weight='bold')\n",
    "\n",
    "handles, labels = plt.gca().get_legend_handles_labels()\n",
    "by_label = dict(zip(labels, handles))\n",
    "plt.legend(by_label.values(), by_label.keys(), loc='upper left', bbox_to_anchor=(1, -0.05))\n",
    "plt.tight_layout()\n",
    "plt.show()"
   ]
  },
  {
   "cell_type": "code",
   "execution_count": null,
   "metadata": {},
   "outputs": [],
   "source": []
  }
 ],
 "metadata": {
  "kernelspec": {
   "display_name": "Python 3",
   "language": "python",
   "name": "python3"
  },
  "language_info": {
   "codemirror_mode": {
    "name": "ipython",
    "version": 3
   },
   "file_extension": ".py",
   "mimetype": "text/x-python",
   "name": "python",
   "nbconvert_exporter": "python",
   "pygments_lexer": "ipython3",
   "version": "3.8.6"
  }
 },
 "nbformat": 4,
 "nbformat_minor": 4
}
