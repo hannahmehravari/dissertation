{
 "cells": [
  {
   "cell_type": "code",
   "execution_count": 1,
   "metadata": {},
   "outputs": [],
   "source": [
    "import numpy as np\n",
    "import pandas as pd\n",
    "import math\n",
    "\n",
    "import statsmodels.api as sm\n",
    "import statsmodels.tsa.api as smt\n",
    "import statsmodels.formula.api as smf\n",
    "from statsmodels.tsa.stattools import adfuller\n",
    "from sklearn.metrics import mean_squared_error\n",
    "\n",
    "import matplotlib.pyplot as plt\n",
    "%matplotlib widget\n",
    "import itertools\n",
    "import warnings\n",
    "warnings.filterwarnings('ignore')"
   ]
  },
  {
   "cell_type": "code",
   "execution_count": 2,
   "metadata": {},
   "outputs": [],
   "source": [
    "colab_path = 'ScadaData.txt'\n",
    "local_path = 'C:\\\\Users\\\\hanna\\\\Desktop\\\\data\\\\ScadaData.txt'\n",
    "\n",
    "scada_data = pd.read_csv(local_path, delimiter='\\t',  parse_dates=True)\n",
    "scada_data['dtTimeStamp'] = pd.to_datetime(scada_data['dtTimeStamp'])\n",
    "average_mean_wind_speeds = scada_data[['dtTimeStamp','WindSpeedMean', 'intObjectId']].groupby('dtTimeStamp').mean()[['WindSpeedMean']]\n",
    "average_mean_wind_direction = scada_data[['dtTimeStamp','WindDirectionMean', 'intObjectId']].groupby('dtTimeStamp').mean()[['WindDirectionMean']]\n",
    "data = pd.concat([average_mean_wind_speeds,average_mean_wind_direction], axis=1)\n",
    "data = data.asfreq(pd.infer_freq(data.index))"
   ]
  },
  {
   "cell_type": "code",
   "execution_count": 3,
   "metadata": {},
   "outputs": [],
   "source": [
    "from statsmodels.tsa.arima_model import ARIMA\n",
    "import datetime as dt\n",
    "\n",
    "\n",
    "def predict(history):\n",
    "    model = ARIMA(history, order=(1,1,0))\n",
    "    model_fit = model.fit(disp=0)\n",
    "    output = model_fit.forecast()\n",
    "    yhat = output[0].flatten()[0]\n",
    "    return yhat\n",
    "\n",
    "\n",
    "X = data.iloc[0:500]\n",
    "size = int(len(X) * 0.05)\n",
    "train, test = X.iloc[0:size], X.iloc[size:len(X)]\n",
    "columns = ['WindDirectionMean', 'WindSpeedMean']\n",
    "history = train\n",
    "predictions = pd.DataFrame(index=test.index.shift(-1), columns=[x+\"Prediction\" for x in columns])\n",
    "times = []\n",
    "for i, row in test.iterrows():\n",
    "    start = dt.datetime.now()\n",
    "    for col_name in columns:\n",
    "        predictions.loc[i-predictions.index.freq, col_name+'Prediction'] = predict(history[col_name].dropna())\n",
    "        history.loc[i, col_name] = row[col_name]\n",
    "        end = dt.datetime.now()\n",
    "    times.append(end-start)\n"
   ]
  },
  {
   "cell_type": "code",
   "execution_count": 4,
   "metadata": {},
   "outputs": [
    {
     "name": "stdout",
     "output_type": "stream",
     "text": [
      "                    WindDirectionMeanPrediction WindSpeedMeanPrediction  \\\n",
      "dtTimeStamp                                                               \n",
      "2019-08-01 04:00:00                      83.075                 5.58516   \n",
      "2019-08-01 04:10:00                     83.2096                 5.44098   \n",
      "2019-08-01 04:20:00                     86.4926                 5.37849   \n",
      "2019-08-01 04:30:00                     88.4138                 5.46719   \n",
      "2019-08-01 04:40:00                     89.2418                 5.58845   \n",
      "\n",
      "                                      time             vertical_lines  \n",
      "dtTimeStamp                                                            \n",
      "2019-08-01 04:00:00 0 days 00:00:00.193499 2019-08-01 03:50:00.193499  \n",
      "2019-08-01 04:10:00 0 days 00:00:00.069863 2019-08-01 04:00:00.069863  \n",
      "2019-08-01 04:20:00 0 days 00:00:00.065071 2019-08-01 04:10:00.065071  \n",
      "2019-08-01 04:30:00 0 days 00:00:00.051406 2019-08-01 04:20:00.051406  \n",
      "2019-08-01 04:40:00 0 days 00:00:00.070108 2019-08-01 04:30:00.070108  \n"
     ]
    }
   ],
   "source": [
    "predictions['time'] = times\n",
    "predictions[\"vertical_lines\"] = predictions.index.shift(-1) + predictions['time']\n",
    "print(predictions.head(5))\n",
    "history_plot = history[0:60]\n",
    "predictions_plot = predictions[0:36]"
   ]
  },
  {
   "cell_type": "code",
   "execution_count": 15,
   "metadata": {},
   "outputs": [
    {
     "data": {
      "application/vnd.jupyter.widget-view+json": {
       "model_id": "711c7737d6c54a8295e7c5ea6257f74a",
       "version_major": 2,
       "version_minor": 0
      },
      "text/plain": [
       "Canvas(toolbar=Toolbar(toolitems=[('Home', 'Reset original view', 'home', 'home'), ('Back', 'Back to previous …"
      ]
     },
     "metadata": {},
     "output_type": "display_data"
    }
   ],
   "source": [
    "from datetime import datetime\n",
    "import matplotlib.dates as mdates\n",
    "\n",
    "plt.figure(figsize=(20,7))\n",
    "plt.subplot(2, 1, 1)\n",
    "plt.plot(history_plot['WindDirectionMean'], color='blue', label='Real data')\n",
    "plt.scatter(y=predictions_plot['WindDirectionMeanPrediction'], x=predictions_plot.index, c='red', marker=\"o\", s=6, label='Predicted data')\n",
    "\n",
    "plt.xticks(history_plot.index, labels=[])\n",
    "plt.axvspan(datetime(2019,8,1,0), datetime(2019,8,1,3,50), facecolor='yellow', alpha=0.1, label='Initial training period')\n",
    "plt.title('Model Prediction Timeline')\n",
    "plt.grid()\n",
    "\n",
    "for d in predictions_plot[\"vertical_lines\"]:\n",
    "    plt.axvline(x=d, linestyle='--', alpha=0.5, label='Prediction made for next period')\n",
    "\n",
    "plt.ylabel('Wind Speed')\n",
    "    \n",
    "handles, labels = plt.gca().get_legend_handles_labels()\n",
    "by_label = dict(zip(labels, handles))\n",
    "plt.legend(by_label.values(), by_label.keys(), loc='best')\n",
    "\n",
    "for i in predictions_plot['vertical_lines']:\n",
    "    plt.text(i, 68, i.strftime(\"%S.%f\")[:-3]+'s', rotation=90, verticalalignment='center', alpha=0.7)\n",
    "plt.show()\n",
    "\n",
    "plt.subplot(2, 1, 2)\n",
    "plt.plot(history_plot['WindSpeedMean'], color='blue', label='Real data')\n",
    "plt.scatter(y=predictions_plot['WindSpeedMeanPrediction'], x=predictions_plot.index, c='red', marker=\"o\", s=6, label='Predicted data')\n",
    "plt.xticks(history_plot.index, rotation='vertical', labels=[ i.strftime(\"%H:%M:%S\") for i in history_plot.index ])\n",
    "plt.axvspan(datetime(2019,8,1,0), datetime(2019,8,1,3,50), facecolor='yellow', alpha=0.1, label='Initial training period')\n",
    "plt.grid()\n",
    "\n",
    "plt.rcParams[\"date.autoformatter.minute\"] = \"%m-%d %H:%M:%S\"\n",
    "\n",
    "for d in predictions_plot[\"vertical_lines\"]:\n",
    "    plt.axvline(x=d, linestyle='--', alpha=0.7, label='Prediction made for next 10 period')\n",
    "    \n",
    "for i in predictions_plot['vertical_lines']:\n",
    "    plt.text(i, 3, i.strftime(\"%S.%f\")[:-3]+'s', rotation=90, verticalalignment='center', alpha=0.7)\n",
    "\n",
    "plt.xlabel('Time')\n",
    "plt.ylabel('Wind Direction')\n",
    "plt.show()"
   ]
  },
  {
   "cell_type": "code",
   "execution_count": null,
   "metadata": {},
   "outputs": [],
   "source": []
  },
  {
   "cell_type": "code",
   "execution_count": null,
   "metadata": {},
   "outputs": [],
   "source": []
  }
 ],
 "metadata": {
  "kernelspec": {
   "display_name": "Python 3",
   "language": "python",
   "name": "python3"
  },
  "language_info": {
   "codemirror_mode": {
    "name": "ipython",
    "version": 3
   },
   "file_extension": ".py",
   "mimetype": "text/x-python",
   "name": "python",
   "nbconvert_exporter": "python",
   "pygments_lexer": "ipython3",
   "version": "3.8.5"
  }
 },
 "nbformat": 4,
 "nbformat_minor": 4
}
