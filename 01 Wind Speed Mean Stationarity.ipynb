{
 "cells": [
  {
   "cell_type": "code",
   "execution_count": 15,
   "metadata": {},
   "outputs": [],
   "source": [
    "import pandas as pd\n",
    "import numpy as np\n",
    "import matplotlib.pyplot as plt\n",
    "%matplotlib widget"
   ]
  },
  {
   "cell_type": "code",
   "execution_count": 16,
   "metadata": {},
   "outputs": [
    {
     "name": "stdout",
     "output_type": "stream",
     "text": [
      "                     WindSpeedMean\n",
      "dtTimeStamp                       \n",
      "2019-08-01 00:00:00            3.0\n",
      "2019-08-01 00:10:00            3.2\n",
      "2019-08-01 00:20:00            4.7\n",
      "2019-08-01 00:30:00            6.0\n",
      "2019-08-01 00:40:00            6.2\n"
     ]
    }
   ],
   "source": [
    "scada_data = pd.read_csv(\"C:\\\\Users\\\\hanna\\\\Desktop\\\\data\\\\ScadaData.txt\", delimiter='\\t',  parse_dates=True)\n",
    "scada_data['dtTimeStamp'] = pd.to_datetime(scada_data['dtTimeStamp'])\n",
    "scada_data.index = scada_data['dtTimeStamp']\n",
    "\n",
    "single_sensor_wind_speed = scada_data[scada_data[\"intObjectId\"] == 1748][[\"WindSpeedMean\"]]\n",
    "single_sensor_wind_speed.dropna(inplace=True)\n",
    "print(single_sensor_wind_speed.head(5))"
   ]
  },
  {
   "cell_type": "markdown",
   "metadata": {},
   "source": [
    "## Rolling statistics\n",
    "If the rolling statistics exhibit a clear trend (upwards or downwards) and show varying variance (increasing or decreasing amplitude), then you might conclude that the series is very likely not to be stationary."
   ]
  },
  {
   "cell_type": "code",
   "execution_count": 17,
   "metadata": {},
   "outputs": [],
   "source": [
    "rolling_window_size = 72"
   ]
  },
  {
   "cell_type": "markdown",
   "metadata": {},
   "source": [
    "### Rolling Mean"
   ]
  },
  {
   "cell_type": "code",
   "execution_count": 18,
   "metadata": {},
   "outputs": [
    {
     "data": {
      "application/vnd.jupyter.widget-view+json": {
       "model_id": "de66b9c69d8b4a438bb57095f9ce7239",
       "version_major": 2,
       "version_minor": 0
      },
      "text/plain": [
       "Canvas(toolbar=Toolbar(toolitems=[('Home', 'Reset original view', 'home', 'home'), ('Back', 'Back to previous …"
      ]
     },
     "metadata": {},
     "output_type": "display_data"
    }
   ],
   "source": [
    "fig, ax = plt.subplots()\n",
    "ax.plot(single_sensor_wind_speed.index, single_sensor_wind_speed[\"WindSpeedMean\"], label='raw data')\n",
    "ax.plot(single_sensor_wind_speed[\"WindSpeedMean\"].rolling(window=rolling_window_size).mean(), label=\"rolling mean\");\n",
    "ax.legend()\n",
    "fig.autofmt_xdate()"
   ]
  },
  {
   "cell_type": "markdown",
   "metadata": {},
   "source": [
    "#### Standardized / Detrended Rolling Mean"
   ]
  },
  {
   "cell_type": "code",
   "execution_count": 19,
   "metadata": {},
   "outputs": [],
   "source": [
    "single_sensor_wind_speed['z_data'] = (single_sensor_wind_speed['WindSpeedMean'] - single_sensor_wind_speed['WindSpeedMean'].rolling(window=rolling_window_size).mean()) / single_sensor_wind_speed['WindSpeedMean'].rolling(window=rolling_window_size).std()"
   ]
  },
  {
   "cell_type": "code",
   "execution_count": 20,
   "metadata": {},
   "outputs": [
    {
     "data": {
      "application/vnd.jupyter.widget-view+json": {
       "model_id": "34611a319b004c7ebe48feff71be9e72",
       "version_major": 2,
       "version_minor": 0
      },
      "text/plain": [
       "Canvas(toolbar=Toolbar(toolitems=[('Home', 'Reset original view', 'home', 'home'), ('Back', 'Back to previous …"
      ]
     },
     "metadata": {},
     "output_type": "display_data"
    }
   ],
   "source": [
    "fig, ax = plt.subplots()\n",
    "ax.plot(single_sensor_wind_speed.index, single_sensor_wind_speed['z_data'], label=\"De-trended Data\")\n",
    "ax.plot(single_sensor_wind_speed['z_data'].rolling(window=rolling_window_size).mean(), label=\"Rolling Mean\");\n",
    "ax.legend()\n",
    "fig.autofmt_xdate()"
   ]
  },
  {
   "cell_type": "markdown",
   "metadata": {},
   "source": [
    "#### Differenced De-Trended Rolling Mean"
   ]
  },
  {
   "cell_type": "code",
   "execution_count": 21,
   "metadata": {},
   "outputs": [],
   "source": [
    "single_sensor_wind_speed['zp_data'] = single_sensor_wind_speed['z_data'] - single_sensor_wind_speed['z_data'].shift(rolling_window_size)"
   ]
  },
  {
   "cell_type": "code",
   "execution_count": 22,
   "metadata": {},
   "outputs": [
    {
     "data": {
      "application/vnd.jupyter.widget-view+json": {
       "model_id": "a3a59433d58e4ad58ccc655388067175",
       "version_major": 2,
       "version_minor": 0
      },
      "text/plain": [
       "Canvas(toolbar=Toolbar(toolitems=[('Home', 'Reset original view', 'home', 'home'), ('Back', 'Back to previous …"
      ]
     },
     "metadata": {},
     "output_type": "display_data"
    }
   ],
   "source": [
    "fig, ax = plt.subplots()\n",
    "ax.plot(single_sensor_wind_speed.index, single_sensor_wind_speed['zp_data'], label=\"Differenced de-trended data\")\n",
    "ax.plot(single_sensor_wind_speed['zp_data'].rolling(window=rolling_window_size).mean(), label=\"Rolling Mean\");\n",
    "ax.legend()\n",
    "fig.autofmt_xdate()"
   ]
  },
  {
   "cell_type": "markdown",
   "metadata": {},
   "source": [
    "### Rolling Standard Deviation"
   ]
  },
  {
   "cell_type": "code",
   "execution_count": 23,
   "metadata": {},
   "outputs": [
    {
     "data": {
      "application/vnd.jupyter.widget-view+json": {
       "model_id": "40f0e47da25b4611b3b79bf6fce28411",
       "version_major": 2,
       "version_minor": 0
      },
      "text/plain": [
       "Canvas(toolbar=Toolbar(toolitems=[('Home', 'Reset original view', 'home', 'home'), ('Back', 'Back to previous …"
      ]
     },
     "metadata": {},
     "output_type": "display_data"
    }
   ],
   "source": [
    "fig, ax = plt.subplots()\n",
    "ax.plot(single_sensor_wind_speed.index, single_sensor_wind_speed[\"WindSpeedMean\"], label='raw data')\n",
    "ax.plot(single_sensor_wind_speed[\"WindSpeedMean\"].rolling(window=rolling_window_size).std(), label=\"rolling std\");\n",
    "ax.legend()\n",
    "fig.autofmt_xdate()"
   ]
  },
  {
   "cell_type": "markdown",
   "metadata": {},
   "source": [
    "#### De-Trended Rolling Standard Deviation"
   ]
  },
  {
   "cell_type": "code",
   "execution_count": 24,
   "metadata": {},
   "outputs": [
    {
     "data": {
      "application/vnd.jupyter.widget-view+json": {
       "model_id": "3d3e22d9ccaf4a7ba6df3450cc25d6c6",
       "version_major": 2,
       "version_minor": 0
      },
      "text/plain": [
       "Canvas(toolbar=Toolbar(toolitems=[('Home', 'Reset original view', 'home', 'home'), ('Back', 'Back to previous …"
      ]
     },
     "metadata": {},
     "output_type": "display_data"
    }
   ],
   "source": [
    "fig, ax = plt.subplots()\n",
    "ax.plot(single_sensor_wind_speed.index, single_sensor_wind_speed[\"z_data\"], label=\"De-Trended Data\")\n",
    "ax.plot(single_sensor_wind_speed[\"z_data\"].rolling(window=rolling_window_size).std(), label=\"Rolling std\");\n",
    "ax.legend()\n",
    "fig.autofmt_xdate()"
   ]
  },
  {
   "cell_type": "markdown",
   "metadata": {},
   "source": [
    "#### Differenced De-Trended Stand Deviation"
   ]
  },
  {
   "cell_type": "code",
   "execution_count": 25,
   "metadata": {},
   "outputs": [
    {
     "data": {
      "application/vnd.jupyter.widget-view+json": {
       "model_id": "97fc4a6d195f430fa6aaeb467b356c84",
       "version_major": 2,
       "version_minor": 0
      },
      "text/plain": [
       "Canvas(toolbar=Toolbar(toolitems=[('Home', 'Reset original view', 'home', 'home'), ('Back', 'Back to previous …"
      ]
     },
     "metadata": {},
     "output_type": "display_data"
    }
   ],
   "source": [
    "fig, ax = plt.subplots()\n",
    "ax.plot(single_sensor_wind_speed.index, single_sensor_wind_speed[\"zp_data\"], label=\"Differenced De-trended data\")\n",
    "ax.plot(single_sensor_wind_speed[\"zp_data\"].rolling(window=rolling_window_size).std(), label=\"Rolling std\");\n",
    "ax.legend()\n",
    "fig.autofmt_xdate()"
   ]
  },
  {
   "cell_type": "markdown",
   "metadata": {},
   "source": [
    "### Augmented Dickey-Fuller Test"
   ]
  },
  {
   "cell_type": "code",
   "execution_count": 26,
   "metadata": {},
   "outputs": [
    {
     "name": "stdout",
     "output_type": "stream",
     "text": [
      " > Is the data stationary ?\n",
      "Test statistic = -8.360\n",
      "P-value = 0.000\n",
      "Critical values :\n",
      "\t1%: -3.431097311639354 - The data is  stationary with 99% confidence\n",
      "\t5%: -2.861870262109275 - The data is  stationary with 95% confidence\n",
      "\t10%: -2.5669457935471884 - The data is  stationary with 90% confidence\n",
      "\n",
      " > Is the de-trended data stationary ?\n",
      "Test statistic = -14.005\n",
      "P-value = 0.000\n",
      "Critical values :\n",
      "\t1%: -3.43110464208646 - The data is  stationary with 99% confidence\n",
      "\t5%: -2.8618735012686005 - The data is  stationary with 95% confidence\n",
      "\t10%: -2.5669475177740573 - The data is  stationary with 90% confidence\n",
      "\n",
      " > Is the 72-lag differenced de-trended data stationary ?\n",
      "Test statistic = -13.668\n",
      "P-value = 0.000\n",
      "Critical values :\n",
      "\t1%: -3.4311109648492004 - The data is  stationary with 99% confidence\n",
      "\t5%: -2.8618762951485057 - The data is  stationary with 95% confidence\n",
      "\t10%: -2.5669490049767214 - The data is  stationary with 90% confidence\n"
     ]
    }
   ],
   "source": [
    "from statsmodels.tsa.stattools import adfuller\n",
    "\n",
    "\n",
    "\n",
    "print(\" > Is the data stationary ?\")\n",
    "dftest = adfuller(single_sensor_wind_speed[\"WindSpeedMean\"], autolag='AIC')\n",
    "print(\"Test statistic = {:.3f}\".format(dftest[0]))\n",
    "print(\"P-value = {:.3f}\".format(dftest[1]))\n",
    "print(\"Critical values :\")\n",
    "for k, v in dftest[4].items():\n",
    "    print(\"\\t{}: {} - The data is {} stationary with {}% confidence\".format(k, v, \"not\" if v<dftest[0] else \"\", 100-int(k[:-1])))\n",
    "    \n",
    "print(\"\\n > Is the de-trended data stationary ?\")\n",
    "dftest = adfuller(single_sensor_wind_speed.z_data.dropna(), autolag='AIC')\n",
    "print(\"Test statistic = {:.3f}\".format(dftest[0]))\n",
    "print(\"P-value = {:.3f}\".format(dftest[1]))\n",
    "print(\"Critical values :\")\n",
    "for k, v in dftest[4].items():\n",
    "    print(\"\\t{}: {} - The data is {} stationary with {}% confidence\".format(k, v, \"not\" if v<dftest[0] else \"\", 100-int(k[:-1])))\n",
    "    \n",
    "print(f\"\\n > Is the {rolling_window_size}-lag differenced de-trended data stationary ?\")\n",
    "dftest = adfuller(single_sensor_wind_speed.zp_data.dropna(), autolag='AIC')\n",
    "print(\"Test statistic = {:.3f}\".format(dftest[0]))\n",
    "print(\"P-value = {:.3f}\".format(dftest[1]))\n",
    "print(\"Critical values :\")\n",
    "for k, v in dftest[4].items():\n",
    "    print(\"\\t{}: {} - The data is {} stationary with {}% confidence\".format(k, v, \"not\" if v<dftest[0] else \"\", 100-int(k[:-1])))"
   ]
  },
  {
   "cell_type": "markdown",
   "metadata": {},
   "source": [
    "#### KPSS"
   ]
  },
  {
   "cell_type": "code",
   "execution_count": 34,
   "metadata": {},
   "outputs": [
    {
     "name": "stdout",
     "output_type": "stream",
     "text": [
      "KPSS Statistic: 3.2043306853058775\n",
      "p-value: 0.01\n",
      "num lags: 37\n",
      "Critial Values:\n",
      "   10% : 0.347\n",
      "   5% : 0.463\n",
      "   2.5% : 0.574\n",
      "   1% : 0.739\n",
      "Result: The series is not stationary\n"
     ]
    },
    {
     "name": "stderr",
     "output_type": "stream",
     "text": [
      "C:\\Users\\hanna\\Anaconda3\\envs\\dissertation\\lib\\site-packages\\statsmodels\\tsa\\stattools.py:1874: InterpolationWarning: The test statistic is outside of the range of p-values available in the\n",
      "look-up table. The actual p-value is smaller than the p-value returned.\n",
      "\n",
      "  warnings.warn(warn_msg.format(direction=\"smaller\"), InterpolationWarning)\n"
     ]
    }
   ],
   "source": [
    "from statsmodels.tsa.stattools import kpss\n",
    "\n",
    "for column in [\"WindSpeedMean\", 'z_data', \"zp_data\"]:\n",
    "\n",
    "    statistic, p_value, n_lags, critical_values = kpss(single_sensor_wind_speed[\"column\"])\n",
    "    # Format Output\n",
    "    print(f'KPSS Statistic: {statistic}')\n",
    "    print(f'p-value: {p_value}')\n",
    "    print(f'num lags: {n_lags}')\n",
    "    print('Critial Values:')\n",
    "    for key, value in critical_values.items():\n",
    "        print(f'   {key} : {value}')\n",
    "    print(f'Result: The series is {\"not \" if p_value < 0.05 else \"\"}stationary')\n"
   ]
  },
  {
   "cell_type": "markdown",
   "metadata": {},
   "source": [
    "#### Autocorrelation plots (ACF & PACF)"
   ]
  },
  {
   "cell_type": "code",
   "execution_count": 28,
   "metadata": {},
   "outputs": [
    {
     "data": {
      "application/vnd.jupyter.widget-view+json": {
       "model_id": "a79ad057c3b54693a8ea0d3e3740358a",
       "version_major": 2,
       "version_minor": 0
      },
      "text/plain": [
       "Canvas(toolbar=Toolbar(toolitems=[('Home', 'Reset original view', 'home', 'home'), ('Back', 'Back to previous …"
      ]
     },
     "metadata": {},
     "output_type": "display_data"
    }
   ],
   "source": [
    "from statsmodels.graphics.tsaplots import plot_acf, plot_pacf\n",
    "\n",
    "fig, ax = plt.subplots(2, figsize=(12,6))\n",
    "ax[0] = plot_acf(single_sensor_wind_speed.z_data.dropna(), ax=ax[0], lags=20)\n",
    "ax[1] = plot_pacf(single_sensor_wind_speed.z_data.dropna(), ax=ax[1], lags=20)"
   ]
  },
  {
   "cell_type": "code",
   "execution_count": null,
   "metadata": {},
   "outputs": [],
   "source": []
  }
 ],
 "metadata": {
  "kernelspec": {
   "display_name": "Python 3",
   "language": "python",
   "name": "python3"
  },
  "language_info": {
   "codemirror_mode": {
    "name": "ipython",
    "version": 3
   },
   "file_extension": ".py",
   "mimetype": "text/x-python",
   "name": "python",
   "nbconvert_exporter": "python",
   "pygments_lexer": "ipython3",
   "version": "3.8.5"
  }
 },
 "nbformat": 4,
 "nbformat_minor": 4
}
